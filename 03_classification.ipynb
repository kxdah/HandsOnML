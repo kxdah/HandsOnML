{
  "cells": [
    {
      "cell_type": "markdown",
      "source": [
        "# 설정\n",
        "먼저 몇 개의 모듈을 임포트 한다. 맷플롯립 그래프를 인라인으로 출력하도록 만들고 그림을 저장하는 함수를 준비한다. 또한 파이썬 버전이 3.5 이상인지 확인한다."
      ],
      "metadata": {
        "id": "5P8m_vReHY1R"
      }
    },
    {
      "cell_type": "code",
      "execution_count": 1,
      "source": [
        "# 파이썬 >= 3.5 필수\n",
        "import sys\n",
        "assert sys.version_info >= (3, 5)                                                       \n",
        "\n",
        "# 사이킷런 >= 0.20 필수\n",
        "import sklearn\n",
        "assert sklearn.__version__ >= \"0.20\"\n",
        "\n",
        "# 공통 모듈 임포트\n",
        "import numpy as np\n",
        "import os\n",
        "\n",
        "# 노트북 실행 결과를 동일하게 유지하기 위해\n",
        "np.random.seed(42)\n",
        "\n",
        "# 깔끔한 그래픽 출력을 위해\n",
        "%matplotlib inline\n",
        "import matplotlib as mpl\n",
        "import matplotlib.pyplot as plt\n",
        "mpl.rc('axes', labelsize = 14)\n",
        "mpl.rc('xtick', labelsize = 12)\n",
        "mpl.rc('ytick', labelsize = 12)\n",
        "\n",
        "# 그림을 저장할 위치\n",
        "PROJECT_ROOT_DIR = \".\"\n",
        "CHAPTER_ID = \"classification\"\n",
        "IMAGES_PATH = os.path.join(PROJECT_ROOT_DIR, \"images\", CHAPTER_ID)\n",
        "os.makedirs(IMAGES_PATH, exist_ok = True)\n",
        "\n",
        "def save_fig(fig_id, tight_layout=True, fig_extension = \"png\", resolution = 300):\n",
        "    path = os.path.join(IMAGES_PATH, fig_id + \".\" + fig_extension)\n",
        "    print(\"그림 저장:\", fig_id)\n",
        "    if tight_layout:\n",
        "        plt.tight_layout()\n",
        "    plt.savefig(path, format = fig_extension, dpi = resolution)\n"
      ],
      "outputs": [],
      "metadata": {
        "id": "7VuVBTAMHY1U"
      }
    },
    {
      "cell_type": "markdown",
      "source": [
        "## 3.1 MNIST"
      ],
      "metadata": {
        "id": "1J970ejLHY1W"
      }
    },
    {
      "cell_type": "code",
      "execution_count": 2,
      "source": [
        "# MNIST 데이터 내려받기\n",
        "\n",
        "from sklearn.datasets import fetch_openml\n",
        "mnist = fetch_openml('mnist_784', version = 1, as_frame = False)\n",
        "mnist.keys()  # 사이킷런에서 읽어들인 데이터셋들은 일반적으로 비슷한 딕셔너리 구조를 갖는다."
      ],
      "outputs": [
        {
          "output_type": "execute_result",
          "data": {
            "text/plain": [
              "dict_keys(['data', 'target', 'frame', 'categories', 'feature_names', 'target_names', 'DESCR', 'details', 'url'])"
            ]
          },
          "metadata": {},
          "execution_count": 2
        }
      ],
      "metadata": {
        "id": "q1Voh0zKHY1W",
        "outputId": "713de416-a718-46de-e2bb-9233c011a2b6",
        "colab": {
          "base_uri": "https://localhost:8080/"
        }
      }
    },
    {
      "cell_type": "code",
      "execution_count": 17,
      "source": [
        "# 살펴보기\n",
        "\n",
        "X, y = mnist[\"data\"], mnist[\"target\"]\n",
        "X.shape"
      ],
      "outputs": [
        {
          "output_type": "execute_result",
          "data": {
            "text/plain": [
              "(70000, 784)"
            ]
          },
          "metadata": {},
          "execution_count": 17
        }
      ],
      "metadata": {
        "id": "BzgaRkSyHY1X",
        "outputId": "1b91d544-4983-4ee2-b39a-d060d49b2725",
        "colab": {
          "base_uri": "https://localhost:8080/"
        }
      }
    },
    {
      "cell_type": "markdown",
      "source": [
        "70000 개의 이미지가 있고 각 이미지에는 784개의 특성(이미지가 28x28 픽셀이기 떄문에)이 있다는 의미  \n",
        "이때 특성이란 단순히 0(흰색)부터 255(검은색)까지의 픽셀 강도를 나타낸다."
      ],
      "metadata": {
        "id": "pSPx_GJKHY1Y"
      }
    },
    {
      "cell_type": "code",
      "execution_count": 18,
      "source": [
        "y.shape"
      ],
      "outputs": [
        {
          "output_type": "execute_result",
          "data": {
            "text/plain": [
              "(70000,)"
            ]
          },
          "metadata": {},
          "execution_count": 18
        }
      ],
      "metadata": {
        "id": "8_VYTHITHY1Y",
        "outputId": "29947f5a-c4b4-4886-d82f-c20f22a218b7",
        "colab": {
          "base_uri": "https://localhost:8080/"
        }
      }
    },
    {
      "cell_type": "code",
      "execution_count": 19,
      "source": [
        "28*28"
      ],
      "outputs": [
        {
          "output_type": "execute_result",
          "data": {
            "text/plain": [
              "784"
            ]
          },
          "metadata": {},
          "execution_count": 19
        }
      ],
      "metadata": {
        "id": "dWQmwd9bHY1Z",
        "outputId": "efc69c72-e9e7-49f7-d4ac-9475ca7e50d9",
        "colab": {
          "base_uri": "https://localhost:8080/"
        }
      }
    },
    {
      "cell_type": "code",
      "execution_count": 20,
      "source": [
        "# 데이터셋에서 이미지 하나를 확인해 본다.\n",
        "# 샘플의 특성 벡터를 추출해서 28*28 배열로 크기를 바꾸고 맷플롯립의 imshow( )함수로 그려본다.\n",
        "\n",
        "%matplotlib inline\n",
        "import matplotlib as mpl\n",
        "import matplotlib.pyplot as plt\n",
        "\n",
        "some_digit = X[0]\n",
        "some_digit_image = some_digit.reshape(28, 28)  #.reshape() 함수로 1차원배열을 2차원 배열로 바꾼다.\n",
        "plt.imshow(some_digit_image, cmap = mpl.cm.binary)\n",
        "plt.axis(\"off\")\n",
        "\n",
        "plt.show()"
      ],
      "outputs": [
        {
          "output_type": "display_data",
          "data": {
            "image/png": "[encoded data removed]",
            "text/plain": [
              "<Figure size 432x288 with 1 Axes>"
            ]
          },
          "metadata": {
            "needs_background": "light"
          }
        }
      ],
      "metadata": {
        "id": "vJ-LN3UYHY1a",
        "outputId": "307527e4-5562-4216-dae6-98a1cdc519e6",
        "colab": {
          "base_uri": "https://localhost:8080/",
          "height": 248
        }
      }
    },
    {
      "cell_type": "code",
      "execution_count": 21,
      "source": [
        "# 위 그림의 레이블 확인\n",
        "\n",
        "y[0]"
      ],
      "outputs": [
        {
          "output_type": "execute_result",
          "data": {
            "application/vnd.google.colaboratory.intrinsic+json": {
              "type": "string"
            },
            "text/plain": [
              "'5'"
            ]
          },
          "metadata": {},
          "execution_count": 21
        }
      ],
      "metadata": {
        "id": "Atbt1hmrHY1b",
        "outputId": "f3ddf446-0cb0-4616-dc6a-4e2fde86413e",
        "colab": {
          "base_uri": "https://localhost:8080/",
          "height": 35
        }
      }
    },
    {
      "cell_type": "code",
      "execution_count": 22,
      "source": [
        "# 레이블은 문자열이다.\n",
        "# 머신러닝 알고리즘에서는 숫자를 기대하므로 정수로 변환한다.\n",
        "\n",
        "y = y.astype(np.uint8)"
      ],
      "outputs": [],
      "metadata": {
        "id": "NlB6CTv6HY1b"
      }
    },
    {
      "cell_type": "code",
      "execution_count": 23,
      "source": [
        "# MNIST 데이터셋에 들어 있는 다른 숫자이미지들도 출력\n",
        "\n",
        "def plot_digit(data):\n",
        "    image = data.reshape(28, 28)\n",
        "    plt.imshow(image, cmap = mpl.cm.binary,\n",
        "                interpolation = \"nearest\")\n",
        "    plt.axis(\"off\")"
      ],
      "outputs": [],
      "metadata": {
        "id": "6mAIjxcDHY1b"
      }
    },
    {
      "cell_type": "code",
      "execution_count": 24,
      "source": [
        "# 숫자 그림을 위한 추가 함수\n",
        "# 이해못함\n",
        "\n",
        "def plot_digits(instances, images_per_row = 10, **options):\n",
        "    size = 28\n",
        "    images_per_row = min(len(instances), images_per_row)\n",
        "    images = [instance.reshape(size, size) for instance in instances]\n",
        "    n_rows = (len(instances) - 1) // images_per_row + 1\n",
        "    row_images = []\n",
        "    n_empty = n_rows * images_per_row - len(instances)\n",
        "    images.append(np.zeros((size, size * n_empty)))\n",
        "    for row in range(n_rows):\n",
        "        rimages = images[row * images_per_row : (row + 1) * images_per_row]\n",
        "        row_images.append(np.concatenate(rimages, axis = 1))\n",
        "    image = np.concatenate(row_images, axis = 0)\n",
        "    plt.imshow(image, cmap = mpl.cm.binary, **options)\n",
        "    plt.axis(\"off\")"
      ],
      "outputs": [],
      "metadata": {
        "id": "3MiUaju4HY1c"
      }
    },
    {
      "cell_type": "code",
      "execution_count": 25,
      "source": [
        "plt.figure(figsize = (9, 9))\n",
        "example_images = X[:100]\n",
        "plot_digits(example_images, images_per_row = 10)\n",
        "\n",
        "plt.show()"
      ],
      "outputs": [
        {
          "output_type": "display_data",
          "data": {
            "image/png": "[encoded data removed]",
            "text/plain": [
              "<Figure size 648x648 with 1 Axes>"
            ]
          },
          "metadata": {
            "needs_background": "light"
          }
        }
      ],
      "metadata": {
        "id": "zdizgUzdHY1c",
        "outputId": "504ac54f-e986-4917-bd1f-b2a6af0e3ab4",
        "colab": {
          "base_uri": "https://localhost:8080/",
          "height": 520
        }
      }
    },
    {
      "cell_type": "code",
      "execution_count": 26,
      "source": [
        "# MNIST 데이터셋은 훈련세트와 테스트세트가 이미 나누어져 있다.\n",
        "\n",
        "X_train, X_test, y_train, y_test = X[:60000], X[60000:], y[:60000], y[60000:]"
      ],
      "outputs": [],
      "metadata": {
        "id": "zYJev1cAHY1d"
      }
    },
    {
      "cell_type": "markdown",
      "source": [
        "## 3.2 이진 분류기 훈련"
      ],
      "metadata": {
        "id": "XkV4Dg3WHY1d"
      }
    },
    {
      "cell_type": "code",
      "execution_count": 27,
      "source": [
        "# 분류 작업을 위해 타깃 벡터를 만든다.\n",
        "\n",
        "y_train_5 = (y_train == 5) \n",
        "y_test_5 = (y_test == 5)"
      ],
      "outputs": [],
      "metadata": {
        "id": "IgaTAezHHY1d"
      }
    },
    {
      "cell_type": "code",
      "execution_count": 28,
      "source": [
        "# 분류 모델 중 확률적 경사 하강법 분류기를 선택\n",
        "# SGDClassifier 모델을 만들고 전체 훈련 세트를 사용해 훈련시킨다.\n",
        "\n",
        "from sklearn.linear_model import SGDClassifier\n",
        "\n",
        "sgd_clf = SGDClassifier(max_iter = 1000, tol = 1e-3, random_state = 42)  # 결과를 이후에 똑같이 재현하기 위해 random_state 매개변수를 지정해 준다.\n",
        "sgd_clf.fit(X_train, y_train_5)"
      ],
      "outputs": [
        {
          "output_type": "execute_result",
          "data": {
            "text/plain": [
              "SGDClassifier(random_state=42)"
            ]
          },
          "metadata": {},
          "execution_count": 28
        }
      ],
      "metadata": {
        "id": "7FXvhgGgHY1e",
        "outputId": "e0d4adb8-1017-45be-8176-eb19e3eb4a59",
        "colab": {
          "base_uri": "https://localhost:8080/"
        }
      }
    },
    {
      "cell_type": "markdown",
      "source": [
        "모델 훈련을 완료했고 이제 예측을 해본다."
      ],
      "metadata": {
        "id": "8rhTmXmCHY1e"
      }
    },
    {
      "cell_type": "code",
      "execution_count": 29,
      "source": [
        "# 이전에 만들어둔 숫자5 이미지 감지해보기\n",
        "\n",
        "sgd_clf.predict([some_digit])"
      ],
      "outputs": [
        {
          "output_type": "execute_result",
          "data": {
            "text/plain": [
              "array([ True])"
            ]
          },
          "metadata": {},
          "execution_count": 29
        }
      ],
      "metadata": {
        "id": "9Pio3sYfHY1f",
        "outputId": "cc5573bd-1d44-48b9-99c1-d573f01a6848",
        "colab": {
          "base_uri": "https://localhost:8080/"
        }
      }
    },
    {
      "cell_type": "markdown",
      "source": [
        "분류기는 이 이미지가 5를 나타낸다고 추측했다는 의미 \"True\""
      ],
      "metadata": {
        "id": "xh31OgsFHY1f"
      }
    },
    {
      "cell_type": "markdown",
      "source": [
        "## 3.3 성능 측정\n",
        "### 3.3.1 교차 검증을 사용한 정확도 측정"
      ],
      "metadata": {
        "id": "Yuwv5D0OHY1g"
      }
    },
    {
      "cell_type": "code",
      "execution_count": 30,
      "source": [
        "# cross_val_score() 함수로 폴드가 3개인 k-겹 교차 검증을 사용해 SGDClassifier 모델을 평가한다.\n",
        "\n",
        "from sklearn.model_selection import cross_val_score\n",
        "\n",
        "cross_val_score(sgd_clf, X_train, y_train_5, cv = 3, scoring = \"accuracy\")"
      ],
      "outputs": [
        {
          "output_type": "execute_result",
          "data": {
            "text/plain": [
              "array([0.95035, 0.96035, 0.9604 ])"
            ]
          },
          "metadata": {},
          "execution_count": 30
        }
      ],
      "metadata": {
        "id": "16wTH1dtHY1g",
        "outputId": "a35890c5-cde3-4919-a1cd-d9c2eff9244d",
        "colab": {
          "base_uri": "https://localhost:8080/"
        }
      }
    },
    {
      "cell_type": "markdown",
      "source": [
        "출력 결과를 보면 모두 95% 이상의 높은 정확도를 보이는 것을 알 수 있다."
      ],
      "metadata": {
        "id": "ott9MTzfHY1h"
      }
    },
    {
      "cell_type": "code",
      "execution_count": null,
      "source": [
        "# 사이킷런의 cross_val_score()와 같은 기능을 수행하는 교차 검증을 직접 구현한 경우\n",
        "\n",
        "from sklearn.model_selection import StratifiedKFold\n",
        "from sklearn.base import clone\n",
        "\n",
        "skfolds = StratifiedKFold(n_splits = 3, random_state = 42, shuffle = True)\n",
        "\n",
        "for train_index, test_index in skfolds.split(X_train, y_train_5):\n",
        "    clone_clf = clone(sgd_clf)\n",
        "    X_train_folds = X_train[train_index]\n",
        "    y_train_folds = y_train_5[train_index]\n",
        "    X_test_fold = X_train[test_index]\n",
        "    y_test_fold = y_train_5[test_index]\n",
        "\n",
        "    clone_clf.fit(X_train_folds, y_train_folds)\n",
        "    y_pred = clone_clf.predict(X_test_fold)\n",
        "    n_correct = sum(y_pred == y_test_fold)\n",
        "    print(n_correct / len(y_pred))"
      ],
      "outputs": [
        {
          "output_type": "stream",
          "name": "stdout",
          "text": [
            "0.9669\n",
            "0.91625\n",
            "0.96785\n"
          ]
        }
      ],
      "metadata": {
        "id": "WlMw7TKLHY1h",
        "outputId": "f021b880-df4b-4e98-ed94-4bfcc987b626",
        "colab": {
          "base_uri": "https://localhost:8080/"
        }
      }
    },
    {
      "cell_type": "code",
      "execution_count": null,
      "source": [
        "# 모든 이미지를 '5 아님' 클래스로 분류하는 더미 분류기를 만들어 비교해 본다.\n",
        "\n",
        "from sklearn.base import BaseEstimator\n",
        "\n",
        "class Never5Classifier(BaseEstimator):\n",
        "    def fit(self, X, y = None):\n",
        "        return self\n",
        "    def predict(self, X):\n",
        "        return np.zeros((len(X), 1), dtype = bool)"
      ],
      "outputs": [],
      "metadata": {
        "id": "PUouxyQlHY1h"
      }
    },
    {
      "cell_type": "code",
      "execution_count": null,
      "source": [
        "# 모델의 정확도 추측해 보기\n",
        "\n",
        "never_5_clf = Never5Classifier()\n",
        "cross_val_score(never_5_clf, X_train, y_train_5, cv = 3, scoring = \"accuracy\")"
      ],
      "outputs": [
        {
          "output_type": "execute_result",
          "data": {
            "text/plain": [
              "array([0.91125, 0.90855, 0.90915])"
            ]
          },
          "metadata": {},
          "execution_count": 19
        }
      ],
      "metadata": {
        "id": "Q5sApxblHY1i",
        "outputId": "d4b780b4-c024-4fb8-d466-49b542b5a24b",
        "colab": {
          "base_uri": "https://localhost:8080/"
        }
      }
    },
    {
      "cell_type": "markdown",
      "source": [
        "출력해 보면 마찬가지로 높은 정확도를 띈다.  \n",
        "애초에 이미지의 10% 정도만 숫자 5이기 때문에 무조건 '5 아님' 으로 예측하면 정확히 맞출 확률이 90% 다.  \n",
        "이처럼 **불균형한 데이터셋** (어떤 클래스가 다른 것보다 월등히 많은 경우)을 다룰 때는 정확도는 분류기의 성능 측정 지표로 선호되지 않는다.  "
      ],
      "metadata": {
        "id": "3_6ND9sTHY1i"
      }
    },
    {
      "cell_type": "markdown",
      "source": [
        "### 3.3.2 오차 행렬\n",
        "분류기의 성능을 평가하는 더 좋은 방법.  \n",
        "예를 들어 분류기가 숫자 5의 이미지를 3으로 잘못 분류한 횟수를 알고 싶다면 오차 행렬의 5행 3열을 보면 된다."
      ],
      "metadata": {
        "id": "R5oZtIoxHY1i"
      }
    },
    {
      "cell_type": "code",
      "execution_count": null,
      "source": [
        "# 오차 행렬을 만들려면 실제 타깃과 비교할 예측값이 필요한데 이때 테스트 세트로 예측값을 만드는 것이 아니라\n",
        "# cross_val_predict() 메서드를 사용한다.\n",
        "\n",
        "from sklearn.model_selection import cross_val_predict\n",
        "\n",
        "y_train_pred = cross_val_predict(sgd_clf, X_train, y_train_5, cv = 3)\n",
        "\n",
        "# cross_val_predict()는 교차 검증을 수행하고 각 테스트 폴드에서 얻은 예측을 반환한다.\n",
        "# 즉 훈련 세트의 모든 샘플에 대한 예측을 얻게 된다."
      ],
      "outputs": [],
      "metadata": {
        "id": "YME1Ng1YHY1i"
      }
    },
    {
      "cell_type": "code",
      "execution_count": null,
      "source": [
        "# 오차 행렬 만들기\n",
        "\n",
        "from sklearn.metrics import confusion_matrix\n",
        "\n",
        "confusion_matrix(y_train_5, y_train_pred)"
      ],
      "outputs": [
        {
          "output_type": "execute_result",
          "data": {
            "text/plain": [
              "array([[53892,   687],\n",
              "       [ 1891,  3530]])"
            ]
          },
          "metadata": {},
          "execution_count": 21
        }
      ],
      "metadata": {
        "id": "wqDschpHHY1j",
        "outputId": "7160e82e-f4c4-4d45-95eb-98f71ac8e6f4",
        "colab": {
          "base_uri": "https://localhost:8080/"
        }
      }
    },
    {
      "cell_type": "markdown",
      "source": [
        "1행 : 진짜 음성 ('5 아님'을 '5 아님'으로 분류)  |  거짓 양성 ('5 아님'을 '5' 라고 분류)  \n",
        "2행 : 거짓 음성 (''5'를 '5 아님'으로 분류)  | 진짜 양성 ('5'를 '5'라고 분류)  \n",
        "완벽한 분류기라면 오차 행렬의 주대각선만 0이 아닌 값을 가진다."
      ],
      "metadata": {
        "id": "1I71u8nI-j8y"
      }
    },
    {
      "cell_type": "code",
      "execution_count": null,
      "source": [
        "y_train_5.shape"
      ],
      "outputs": [
        {
          "output_type": "execute_result",
          "data": {
            "text/plain": [
              "(60000,)"
            ]
          },
          "metadata": {},
          "execution_count": 22
        }
      ],
      "metadata": {
        "id": "5jLViUHSHY1j",
        "outputId": "5e4def45-70fb-4a34-e084-64c74184073b",
        "colab": {
          "base_uri": "https://localhost:8080/"
        }
      }
    },
    {
      "cell_type": "code",
      "execution_count": null,
      "source": [
        "# 완벽한 분류기인 경우\n",
        "y_train_perfect_predictions = y_train_5\n",
        "confusion_matrix(y_train_5, y_train_perfect_predictions)\n",
        "\n",
        "# 전부 진짜양성 혹은 진짜음성에만 해당"
      ],
      "outputs": [
        {
          "output_type": "execute_result",
          "data": {
            "text/plain": [
              "array([[54579,     0],\n",
              "       [    0,  5421]])"
            ]
          },
          "metadata": {},
          "execution_count": 23
        }
      ],
      "metadata": {
        "id": "BqOkjY2yHY1j",
        "outputId": "817d35b9-5ab4-4b3a-a3b6-7cb04d63e4d7",
        "colab": {
          "base_uri": "https://localhost:8080/"
        }
      }
    },
    {
      "cell_type": "markdown",
      "source": [
        "오차 행렬이 많은 정보를 제공해주지만 더 요약된 지표가 필요할 때도 있다.  \n",
        "**양성 예측의 정확도**  \n",
        "이를 분류기의 **정밀도**라고 한다.  \n",
        "정밀도는 **재현율**이라는 또 다른 지표와 같이 사용하는 것이 일반적이다.  \n",
        "### 3.3.3 정밀도와 재현율"
      ],
      "metadata": {
        "id": "1Uccmqle_n0U"
      }
    },
    {
      "cell_type": "code",
      "execution_count": null,
      "source": [
        "from sklearn.metrics import precision_score, recall_score\n",
        "\n",
        "precision_score(y_train_5, y_train_pred)  # 정밀도"
      ],
      "outputs": [
        {
          "output_type": "execute_result",
          "data": {
            "text/plain": [
              "0.8370879772350012"
            ]
          },
          "metadata": {},
          "execution_count": 24
        }
      ],
      "metadata": {
        "id": "lKSrmNYNHY1k",
        "outputId": "093b6a2f-5e44-4e83-d6ca-c1aa82732d44",
        "colab": {
          "base_uri": "https://localhost:8080/"
        }
      }
    },
    {
      "cell_type": "markdown",
      "source": [
        "즉 **5로 판별된 이미지 중** 83.7%만 정확하다."
      ],
      "metadata": {
        "id": "Ayp10fIxBOt0"
      }
    },
    {
      "cell_type": "code",
      "source": [
        "cm = confusion_matrix(y_train_5, y_train_pred)  # 오차 행렬을 만들고\n",
        "cm[1, 1] / (cm[0, 1] + cm[1, 1])  # 직접 숫자를 대입해서 계산해보니 위의 메서드로 한 값과 동일하다."
      ],
      "metadata": {
        "id": "yNn_OyThB3cE",
        "outputId": "dd94813b-3b89-4435-8149-2681e2577262",
        "colab": {
          "base_uri": "https://localhost:8080/"
        }
      },
      "execution_count": null,
      "outputs": [
        {
          "output_type": "execute_result",
          "data": {
            "text/plain": [
              "0.8370879772350012"
            ]
          },
          "metadata": {},
          "execution_count": 25
        }
      ]
    },
    {
      "cell_type": "code",
      "source": [
        "recall_score(y_train_5, y_train_pred)  # 재현율"
      ],
      "metadata": {
        "id": "uHntYnMrBlSs",
        "outputId": "f6a1c130-263f-4143-89a0-7944a89a573f",
        "colab": {
          "base_uri": "https://localhost:8080/"
        }
      },
      "execution_count": null,
      "outputs": [
        {
          "output_type": "execute_result",
          "data": {
            "text/plain": [
              "0.6511713705958311"
            ]
          },
          "metadata": {},
          "execution_count": 26
        }
      ]
    },
    {
      "cell_type": "markdown",
      "source": [
        "**전체 숫자 5**에서 65.1%만 감지했다."
      ],
      "metadata": {
        "id": "ga5I2iLABogW"
      }
    },
    {
      "cell_type": "code",
      "execution_count": null,
      "source": [
        "cm[1, 1] / (cm[1, 0] + cm[1, 1])"
      ],
      "outputs": [
        {
          "output_type": "execute_result",
          "data": {
            "text/plain": [
              "0.6511713705958311"
            ]
          },
          "metadata": {},
          "execution_count": 27
        }
      ],
      "metadata": {
        "id": "WJm6diwVHY1l",
        "outputId": "81b7f97d-aeff-406d-b799-882f383aa0de",
        "colab": {
          "base_uri": "https://localhost:8080/"
        }
      }
    },
    {
      "cell_type": "markdown",
      "source": [
        "정밀도와 재현율을 $F_1$ 점수 라고 하는 하나의 숫자로 표현할 수 있다.  \n",
        "$F_1$ 점수는 정밀도와 재현율의 조화 평균이다."
      ],
      "metadata": {
        "id": "ySJs9fNrCGez"
      }
    },
    {
      "cell_type": "code",
      "execution_count": null,
      "source": [
        "from sklearn.metrics import f1_score\n",
        "\n",
        "f1_score(y_train_5, y_train_pred)"
      ],
      "outputs": [
        {
          "output_type": "execute_result",
          "data": {
            "text/plain": [
              "0.7325171197343846"
            ]
          },
          "metadata": {},
          "execution_count": 28
        }
      ],
      "metadata": {
        "id": "YLz4v3PIHY1l",
        "outputId": "ecffee0e-3ba6-4322-89be-5b46f45da594",
        "colab": {
          "base_uri": "https://localhost:8080/"
        }
      }
    },
    {
      "cell_type": "markdown",
      "source": [
        "### 3.3.4 정밀도/재현율 트레이드오프"
      ],
      "metadata": {
        "id": "zCH_2DRxDLbq"
      }
    },
    {
      "cell_type": "code",
      "execution_count": null,
      "source": [
        "# 사이킷런에서 임곗값을 지정할 수는 없지만 예측에 사용한 점수는 확인할 수 있다.\n",
        "# predict() 대신 decision_function()을 호출하면 각 샘플의 점수를 얻을 수 있다.\n",
        "# 이 점수를 기반으로 원하는 임곗값을 정해 예측을 만들 수 있다.\n",
        "\n",
        "y_scores = sgd_clf.decision_function([some_digit])  # 결정 함수로 샘플의 점수 계산\n",
        "y_scores  "
      ],
      "outputs": [
        {
          "output_type": "execute_result",
          "data": {
            "text/plain": [
              "array([2164.22030239])"
            ]
          },
          "metadata": {},
          "execution_count": 29
        }
      ],
      "metadata": {
        "id": "ECQ422M6HY1l",
        "outputId": "666a8536-5d9d-4e62-848c-b8c784eff6a1",
        "colab": {
          "base_uri": "https://localhost:8080/"
        }
      }
    },
    {
      "cell_type": "code",
      "execution_count": null,
      "source": [
        "threshold = 0\n",
        "y_some_digit_pred = (y_scores > threshold)\n",
        "y_some_digit_pred \n",
        "\n",
        "# 임곗값이 0이기 때문에 위 코드는 predict() 메서드와 같은 결과 True 를 반환한다.\n",
        "# 즉 predict()도 0보다 큰 경우를 양성을 예측한다.\n",
        "# 아래에서는 임곗값을 높게 설정해 본다."
      ],
      "outputs": [
        {
          "output_type": "execute_result",
          "data": {
            "text/plain": [
              "array([ True])"
            ]
          },
          "metadata": {},
          "execution_count": 30
        }
      ],
      "metadata": {
        "id": "p9pm-aSVHY1m",
        "outputId": "20aae1e2-ef41-46d0-d4f5-cd92732bf467",
        "colab": {
          "base_uri": "https://localhost:8080/"
        }
      }
    },
    {
      "cell_type": "code",
      "execution_count": null,
      "source": [
        "threshold = 8000\n",
        "y_some_digit_pred = (y_scores > threshold)\n",
        "y_some_digit_pred\n",
        "\n",
        "# 임곗값을 높이면 재현율이 줄어드는 것을 결과로 확인할 수 있다.\n",
        "# \"이미지가 실제로 숫자 5이고 임곗값이 0일 때는 분류기가 이를 감지했지만, 임곗값을 높이면 놓치게 된다\""
      ],
      "outputs": [
        {
          "output_type": "execute_result",
          "data": {
            "text/plain": [
              "array([False])"
            ]
          },
          "metadata": {},
          "execution_count": 31
        }
      ],
      "metadata": {
        "id": "XkS4pJU5HY1m",
        "outputId": "7fbc71e2-794a-4a6e-be8d-ec3d38f32196",
        "colab": {
          "base_uri": "https://localhost:8080/"
        }
      }
    },
    {
      "cell_type": "code",
      "execution_count": null,
      "source": [
        "# 적절한 임곗값을 찾으려면 cross_val_predict() 로 훈련 세트에 있는 모든 샘플의 점수를 구해야 한다.\n",
        "# 이때 예측 결과가 아니라 결정 점수를 반환 받는다.\n",
        "# 이 점수로 precision_recall_curve() 함수를 사용하여 가능한 모든 임곗값에 대한 정밀도와 재현율을 계산할 수 있다.\n",
        "\n",
        "y_scores = cross_val_predict(sgd_clf, X_train, y_train_5, cv = 3, method = \"decision_function\")\n",
        "\n",
        "# 예측 결과가 아니라 결정 점수를 반환"
      ],
      "outputs": [],
      "metadata": {
        "id": "FVtl1_naHY1m"
      }
    },
    {
      "cell_type": "code",
      "execution_count": null,
      "source": [
        "from sklearn.metrics import precision_recall_curve\n",
        "\n",
        "precisions, recalls, thresholds = precision_recall_curve(y_train_5, y_scores)\n",
        "\n",
        "#  임곗값의 함수로 정밀도와 재현율을 그려본다."
      ],
      "outputs": [],
      "metadata": {
        "id": "LybRqm9zHY1m"
      }
    },
    {
      "cell_type": "code",
      "execution_count": null,
      "source": [
        "def plot_precision_recall_vs_threshold(precisions, recalls, thresholds):\n",
        "    plt.plot(thresholds, precisions[:-1], \"b--\", label = \"Precisions\", linewidth = 2)\n",
        "    plt.plot(thresholds, recalls[:-1], \"g-\", label = \"Recall\", linewidth = 2)\n",
        "    plt.legend(loc = \"center right\", fontsize = 16)\n",
        "    plt.xlabel(\"Threshold\", fontsize = 16)\n",
        "    plt.grid(True)\n",
        "    plt.axis([-50000, 50000, 0, 1])\n",
        "\n",
        "\n",
        "recall_90_precision = recalls[np.argmax(precisions >= 0.90)]\n",
        "threshold_90_precision = thresholds[np.argmax(precisions >= 0.90)]\n",
        "\n",
        "plt.figure(figsize = (8, 4))\n",
        "plot_precision_recall_vs_threshold(precisions, recalls, thresholds)\n",
        "plt.plot([threshold_90_precision, threshold_90_precision], [0., 0.9], \"r:\")\n",
        "plt.plot([-50000, threshold_90_precision], [0.9, 0.9], \"r:\")\n",
        "plt.plot([-50000, threshold_90_precision], [recall_90_precision, recall_90_precision], \"r:\")\n",
        "plt.plot([threshold_90_precision], [0.9], \"ro\")\n",
        "plt.plot([threshold_90_precision], [recall_90_precision], \"ro\")\n",
        "save_fig(\"precision_recall_vs_threshold_plot\")\n",
        "plt.show()"
      ],
      "outputs": [
        {
          "output_type": "stream",
          "name": "stdout",
          "text": [
            "그림 저장: precision_recall_vs_threshold_plot\n"
          ]
        },
        {
          "output_type": "display_data",
          "data": {
            "image/png": "[encoded data removed]",
            "text/plain": [
              "<Figure size 576x288 with 1 Axes>"
            ]
          },
          "metadata": {
            "needs_background": "light"
          }
        }
      ],
      "metadata": {
        "id": "PM-Z-6QfHY1m",
        "outputId": "b0acb944-de96-49e0-df7a-7a4094615318",
        "colab": {
          "base_uri": "https://localhost:8080/",
          "height": 315
        }
      }
    },
    {
      "cell_type": "code",
      "execution_count": null,
      "source": [
        "# 좋은 정밀도/재현율 트레이드오프를 선택하는 방법은 재현율에 대한 정밀도 곡선 그래프를 그려보는 것 \n",
        "def plot_precision_vs_recall(precisions, recalls):\n",
        "    plt.plot(recalls, precisions, \"b-\", linewidth = 2)\n",
        "    plt.xlabel(\"Recall\", fontsize = 16)\n",
        "    plt.ylabel(\"Precision\", fontsize = 16)\n",
        "    plt.axis([0, 1, 0, 1])\n",
        "    plt.grid(True)\n",
        "\n",
        "plt.figure(figsize = (8, 6))\n",
        "plot_precision_vs_recall(precisions, recalls)\n",
        "plt.plot([recall_90_precision, recall_90_precision], [0., 0.9], \"r:\")\n",
        "plt.plot([0.0, recall_90_precision], [0.9, 0.9], \"r:\")\n",
        "plt.plot([recall_90_precision], [0.9], \"ro\")\n",
        "save_fig(\"precision_vs_recall_plot\")\n",
        "plt.show()\n",
        "\n",
        "# 아래의 그래프를 보면 재현율 80% 근처에서 정밀도가 급격하게 줄어들기 시작한다.\n",
        "# 이 하강점 직전을 정밀도/재현율 트레이드오프로 선택하는 것이 좋다."
      ],
      "outputs": [
        {
          "output_type": "stream",
          "name": "stdout",
          "text": [
            "그림 저장: precision_vs_recall_plot\n"
          ]
        },
        {
          "output_type": "display_data",
          "data": {
            "image/png": "[encoded data removed]",
            "text/plain": [
              "<Figure size 576x432 with 1 Axes>"
            ]
          },
          "metadata": {
            "needs_background": "light"
          }
        }
      ],
      "metadata": {
        "id": "Tw-jJ4XMHY1n",
        "outputId": "e309b30f-30b8-4812-f9ec-935327288558",
        "colab": {
          "base_uri": "https://localhost:8080/",
          "height": 459
        }
      }
    },
    {
      "cell_type": "code",
      "execution_count": null,
      "source": [
        "# 최소한 90% 정밀도가 되는 가장 낮은 임계값을 찾아보자\n",
        "# np.argmax()는 최댓값의 첫 번째 인덱스를 반환한다.\n",
        "\n",
        "threshold_90_precision = thresholds[np.argmax(precisions >= 0.90)]\n",
        "threshold_90_precision"
      ],
      "outputs": [
        {
          "output_type": "execute_result",
          "data": {
            "text/plain": [
              "3370.0194991439557"
            ]
          },
          "metadata": {},
          "execution_count": 36
        }
      ],
      "metadata": {
        "id": "oLm1jJyxHY1n",
        "outputId": "40a82d6c-1881-4bd7-a707-dbf35064f944",
        "colab": {
          "base_uri": "https://localhost:8080/"
        }
      }
    },
    {
      "cell_type": "code",
      "execution_count": null,
      "source": [
        "thresholds"
      ],
      "outputs": [
        {
          "output_type": "execute_result",
          "data": {
            "text/plain": [
              "array([-106527.45300471, -105763.22240074, -105406.2965229 , ...,\n",
              "         38871.26391927,   42216.05562787,   49441.43765905])"
            ]
          },
          "metadata": {},
          "execution_count": 37
        }
      ],
      "metadata": {
        "id": "VXMkoX0bHY1n",
        "outputId": "037f0c88-e2e1-4c63-dcdd-e34f20843543",
        "colab": {
          "base_uri": "https://localhost:8080/"
        }
      }
    },
    {
      "cell_type": "code",
      "execution_count": null,
      "source": [
        "# 훈련 세트에 대한 예측을 만들려면 분류기의 predict()메서드 대신 아래의 코드를 실행한다.\n",
        "\n",
        "y_train_pred_90 = (y_scores >= threshold_90_precision)"
      ],
      "outputs": [],
      "metadata": {
        "id": "7tDCFHBsHY1o"
      }
    },
    {
      "cell_type": "code",
      "execution_count": null,
      "source": [
        "# 위의 예측에 대한 정밀도와 재현율을 확인해 보자\n",
        "\n",
        "precision_score(y_train_5, y_train_pred_90)"
      ],
      "outputs": [
        {
          "output_type": "execute_result",
          "data": {
            "text/plain": [
              "0.9000345901072293"
            ]
          },
          "metadata": {},
          "execution_count": 39
        }
      ],
      "metadata": {
        "id": "heX2jb2QHY1o",
        "outputId": "bb8588e0-90df-4574-8f81-65022451a5a7",
        "colab": {
          "base_uri": "https://localhost:8080/"
        }
      }
    },
    {
      "cell_type": "code",
      "execution_count": null,
      "source": [
        "recall_score(y_train_5, y_train_pred_90)"
      ],
      "outputs": [
        {
          "output_type": "execute_result",
          "data": {
            "text/plain": [
              "0.4799852425751706"
            ]
          },
          "metadata": {},
          "execution_count": 40
        }
      ],
      "metadata": {
        "id": "jEtM6K2NHY1o",
        "outputId": "b5e9a299-4d49-4a3c-a138-363306357936",
        "colab": {
          "base_uri": "https://localhost:8080/"
        }
      }
    },
    {
      "cell_type": "markdown",
      "source": [
        "정밀도 90% 를 달성한 분류기를 만들었다.  \n",
        "하지만 이때 재현율이 너무 낮다면 높은 정밀도의 분류기는 전혀 유용하지 않다."
      ],
      "metadata": {
        "id": "VDmRX875GUw2"
      }
    },
    {
      "cell_type": "markdown",
      "source": [
        "### 3.3.5 ROC 곡선\n",
        "재현율 = \"진짜 양성 비율\"  \n",
        "ROC 곡선은 민감도(재현율)에 대한 1-특이도 그래프다."
      ],
      "metadata": {
        "id": "n3vKsydMHY1o"
      }
    },
    {
      "cell_type": "code",
      "execution_count": null,
      "source": [
        "# roc_curve()함수로 여러 임곗값에서의 TPR과 FRP를 계산할 수 있다.\n",
        "\n",
        "from sklearn.metrics import roc_curve\n",
        "\n",
        "fpr, tpr, thresholds = roc_curve(y_train_5, y_scores)  # y_score의 값이 임곗값보다 크면 양성 클래스, 아니면 음성 클래스"
      ],
      "outputs": [],
      "metadata": {
        "id": "kEbg8uuUHY1o"
      }
    },
    {
      "cell_type": "code",
      "execution_count": null,
      "source": [
        "# TPR에 대한 FPR 곡선\n",
        "\n",
        "def plot_roc_curve(fpr, tpr, label = None):\n",
        "    plt.plot(fpr, tpr, linewidth = 2, label = label)\n",
        "    plt.plot([0, 1], [0 ,1], 'k--')  # 대각 점선\n",
        "    plt.axis([0, 1, 0, 1])  # 축의 범위 지정\n",
        "    plt.xlabel('False Positive Rate (Fall-Out)', fontsize = 16)  # 축 이름\n",
        "    plt.ylabel('True Positive Rate (Recall)', fontsize = 16)\n",
        "    plt.grid(True)  # 그리드 추가\n",
        "\n",
        "plt.figure(figsize = (8, 6))\n",
        "plot_roc_curve(fpr, tpr)\n",
        "fpr_90 = fpr[np.argmax(tpr >= recall_90_precision)]\n",
        "plt.plot([fpr_90, fpr_90], [0., recall_90_precision], \"r:\")\n",
        "plt.plot([fpr_90], [recall_90_precision], \"ro\")\n",
        "save_fig(\"roc_curve_plot\")\n",
        "plt.show()\n",
        "\n",
        "# 출력된 그래프에서 점선은 완전한 랜덤 분류기의 ROC 곡선을 나타낸다.\n",
        "# 좋은 분류기는 이 점선에서 최대한 멀리 떨어져야 한다."
      ],
      "outputs": [
        {
          "output_type": "stream",
          "name": "stdout",
          "text": [
            "그림 저장: roc_curve_plot\n"
          ]
        },
        {
          "output_type": "display_data",
          "data": {
            "image/png": "[encoded data removed]",
            "text/plain": [
              "<Figure size 576x432 with 1 Axes>"
            ]
          },
          "metadata": {
            "needs_background": "light"
          }
        }
      ],
      "metadata": {
        "id": "sFupuRmZHY1p",
        "outputId": "ebc9074e-d909-47d8-f5d3-5ccbb4eb00e6",
        "colab": {
          "base_uri": "https://localhost:8080/",
          "height": 459
        }
      }
    },
    {
      "cell_type": "code",
      "execution_count": null,
      "source": [
        "# 사이킷런의 ROC의 AUC를 계산하는 함수\n",
        "\n",
        "from sklearn.metrics import roc_auc_score\n",
        "\n",
        "roc_auc_score(y_train_5, y_scores)"
      ],
      "outputs": [
        {
          "output_type": "execute_result",
          "data": {
            "text/plain": [
              "0.9604938554008616"
            ]
          },
          "metadata": {},
          "execution_count": 43
        }
      ],
      "metadata": {
        "id": "MIfXl5JpHY1p",
        "outputId": "b24a6099-f12e-446d-e1bd-995d8005d888",
        "colab": {
          "base_uri": "https://localhost:8080/"
        }
      }
    },
    {
      "cell_type": "markdown",
      "source": [
        "RandomForestClassifier를 훈련시켜서 SGDClassifier의 ROC 곡선과 ROC AUC 점수를 비교해 본다.  \n",
        "먼저 훈련세트의 샘플에 대한 점수를 알아야 한다.  \n",
        "RandomForestClassifier에는 decision_function() 이 없기 때문에 predict_proba()메서드를 이용한다.  \n",
        "predict_proba()메서드는 샘플이 행, 클래스가 열이고 샘플이 주어진 클래스에 속할 확률을 담은 배열을 반환한다.  "
      ],
      "metadata": {
        "id": "liQKQpn-W0lX"
      }
    },
    {
      "cell_type": "code",
      "execution_count": null,
      "source": [
        "from sklearn.ensemble import RandomForestClassifier\n",
        "\n",
        "forest_clf = RandomForestClassifier(n_estimators = 100, random_state = 42)\n",
        "y_probas_forest = cross_val_predict(forest_clf, X_train, y_train_5, cv = 3, \n",
        "                                    method = \"predict_proba\")"
      ],
      "outputs": [],
      "metadata": {
        "id": "2r1x25W1HY1p"
      }
    },
    {
      "cell_type": "code",
      "execution_count": null,
      "source": [
        "y_scores_forest = y_probas_forest[:, 1]  # 점수 대신 양성 클래스의 확률을 넣어준다.\n",
        "fpr_forest, tpr_forest, thresholds_forest = roc_curve(y_train_5, y_scores_forest)"
      ],
      "outputs": [],
      "metadata": {
        "id": "ysO0rYN4HY1q"
      }
    },
    {
      "cell_type": "code",
      "execution_count": null,
      "source": [
        "recall_for_forest = tpr_forest[np.argmax(fpr_forest >= fpr_90)]\n",
        "\n",
        "plt.figure(figsize = (8, 6))\n",
        "plt.plot(fpr, tpr, \"b:\", linewidth = 2, label = \"SGD\")\n",
        "plot_roc_curve(fpr_forest, tpr_forest, \"Random Forest\")\n",
        "plt.plot([fpr_90, fpr_90], [0., recall_90_precision], \"r:\")\n",
        "plt.plot([0.0, fpr_90], [recall_90_precision, recall_90_precision], \"r:\")\n",
        "plt.plot([fpr_90], [recall_90_precision], \"ro\")\n",
        "plt.plot([fpr_90, fpr_90], [0., recall_for_forest], \"r:\")\n",
        "plt.plot([fpr_90], [recall_for_forest], \"ro\")\n",
        "plt.grid(True)\n",
        "plt.legend(loc = \"lower right\", fontsize = 16)\n",
        "save_fig(\"roc_curve_comparison_plot\")\n",
        "plt.show()"
      ],
      "outputs": [
        {
          "output_type": "stream",
          "name": "stdout",
          "text": [
            "그림 저장: roc_curve_comparison_plot\n"
          ]
        },
        {
          "output_type": "display_data",
          "data": {
            "image/png": "[encoded data removed]",
            "text/plain": [
              "<Figure size 576x432 with 1 Axes>"
            ]
          },
          "metadata": {
            "needs_background": "light"
          }
        }
      ],
      "metadata": {
        "id": "3Cq_vlKtHY1q",
        "outputId": "453ca626-37a7-4cf3-a9bd-5e2147f8705f",
        "colab": {
          "base_uri": "https://localhost:8080/",
          "height": 459
        }
      }
    },
    {
      "cell_type": "markdown",
      "source": [
        "위의 그래프를 보면 RandomForestClassifier의 ROC 곡선이 왼쪽 위 모서리에 더 가까우며 SGDClassifier 보다 좋아 보인다.  \n",
        "당연히 ROC AUC 점수도 훨씬 높다."
      ],
      "metadata": {
        "id": "I3fs21KAXwBE"
      }
    },
    {
      "cell_type": "code",
      "execution_count": null,
      "source": [
        "roc_auc_score(y_train_5, y_scores_forest)"
      ],
      "outputs": [
        {
          "output_type": "execute_result",
          "data": {
            "text/plain": [
              "0.9983436731328145"
            ]
          },
          "metadata": {},
          "execution_count": 47
        }
      ],
      "metadata": {
        "id": "x1prKRfYHY1q",
        "outputId": "6b325dd8-77c1-4aab-e12b-5e9e06dcf88d",
        "colab": {
          "base_uri": "https://localhost:8080/"
        }
      }
    },
    {
      "cell_type": "code",
      "execution_count": null,
      "source": [
        "y_train_pred_forest = cross_val_predict(forest_clf, X_train, y_train_5, cv = 3)\n",
        "precision_score(y_train_5, y_train_pred_forest)"
      ],
      "outputs": [
        {
          "output_type": "execute_result",
          "data": {
            "text/plain": [
              "0.9905083315756169"
            ]
          },
          "metadata": {},
          "execution_count": 48
        }
      ],
      "metadata": {
        "id": "yV3bMCKaHY1q",
        "outputId": "c48dd564-0d70-4a0c-bcb9-1e8631176d0c",
        "colab": {
          "base_uri": "https://localhost:8080/"
        }
      }
    },
    {
      "cell_type": "markdown",
      "source": [
        "99% 의 정밀도"
      ],
      "metadata": {
        "id": "vK3ysdp6YNbo"
      }
    },
    {
      "cell_type": "code",
      "execution_count": null,
      "source": [
        "recall_score(y_train_5, y_train_pred_forest)"
      ],
      "outputs": [
        {
          "output_type": "execute_result",
          "data": {
            "text/plain": [
              "0.8662608374838591"
            ]
          },
          "metadata": {},
          "execution_count": 49
        }
      ],
      "metadata": {
        "id": "xmBJxYnQHY1r",
        "outputId": "f14696ad-0c57-4cb5-8f5d-cda12170a2f3",
        "colab": {
          "base_uri": "https://localhost:8080/"
        }
      }
    },
    {
      "cell_type": "markdown",
      "source": [
        "86.6%의 재현율   "
      ],
      "metadata": {
        "id": "IG4yJvH6YR5t"
      }
    },
    {
      "cell_type": "markdown",
      "source": [
        "## 3.4 다중 분류\n",
        "가장 먼저 서포트 벡터 머신 분류기를 테스트해 본다."
      ],
      "metadata": {
        "id": "T7yTdUWXHY1r"
      }
    },
    {
      "cell_type": "code",
      "execution_count": null,
      "source": [
        "from sklearn.svm import SVC\n",
        "\n",
        "svm_clf = SVC(gamma = \"auto\", random_state = 42)\n",
        "svm_clf.fit(X_train[:1000], y_train[:1000])  # 0에서 9까지의 원래 타깃클래스(y_train)으로 SVC를 훈련\n",
        "svm_clf.predict([some_digit])  # 훈련한 모델로 예측해 본다."
      ],
      "outputs": [
        {
          "output_type": "execute_result",
          "data": {
            "text/plain": [
              "array([5], dtype=uint8)"
            ]
          },
          "metadata": {},
          "execution_count": 50
        }
      ],
      "metadata": {
        "id": "2v4iXGh3HY1r",
        "outputId": "a00ae509-314e-4f82-dbc9-e2b9ff9f15ad",
        "colab": {
          "base_uri": "https://localhost:8080/"
        }
      }
    },
    {
      "cell_type": "code",
      "execution_count": null,
      "source": [
        "some_digit_scores = svm_clf.decision_function([some_digit])\n",
        "some_digit_scores"
      ],
      "outputs": [
        {
          "output_type": "execute_result",
          "data": {
            "text/plain": [
              "array([[ 2.81585438,  7.09167958,  3.82972099,  0.79365551,  5.8885703 ,\n",
              "         9.29718395,  1.79862509,  8.10392157, -0.228207  ,  4.83753243]])"
            ]
          },
          "metadata": {},
          "execution_count": 51
        }
      ],
      "metadata": {
        "id": "slzDtnr_HY1r",
        "outputId": "eda7553f-d85c-4d74-e266-ec9caca977ba",
        "colab": {
          "base_uri": "https://localhost:8080/"
        }
      }
    },
    {
      "cell_type": "markdown",
      "source": [
        "decision_function() 는 샘플 당 10개의 점수(0~9니까)를 반환한다.  \n",
        "위의 결과를 보면 클래스 5 의 점수가 가장 높다. "
      ],
      "metadata": {
        "id": "o3VXs7dzZbFN"
      }
    },
    {
      "cell_type": "code",
      "execution_count": null,
      "source": [
        "np.argmax(some_digit_scores)\n",
        "\n",
        "# np.argmax 는 인자로 받은 배열에서 최댓값의 인덱스를 반환한다."
      ],
      "outputs": [
        {
          "output_type": "execute_result",
          "data": {
            "text/plain": [
              "5"
            ]
          },
          "metadata": {},
          "execution_count": 52
        }
      ],
      "metadata": {
        "id": "JwYLqUBtHY1s",
        "outputId": "ef4a05b9-0d25-4aab-c32c-8b9bebb775f3",
        "colab": {
          "base_uri": "https://localhost:8080/"
        }
      }
    },
    {
      "cell_type": "code",
      "execution_count": null,
      "source": [
        "svm_clf.classes_"
      ],
      "outputs": [
        {
          "output_type": "execute_result",
          "data": {
            "text/plain": [
              "array([0, 1, 2, 3, 4, 5, 6, 7, 8, 9], dtype=uint8)"
            ]
          },
          "metadata": {},
          "execution_count": 53
        }
      ],
      "metadata": {
        "id": "Q87tlaWXHY1s",
        "outputId": "c12ce1aa-b4ec-4b67-bb1b-abbdaee4c9ff",
        "colab": {
          "base_uri": "https://localhost:8080/"
        }
      }
    },
    {
      "cell_type": "code",
      "execution_count": null,
      "source": [
        "svm_clf.classes_[5]\n",
        "\n",
        "# classes 배열에 있는 각 클래스의 인덱스가 클래스 값 자체와 같다. <- 근데 이런 경우는 드물다."
      ],
      "outputs": [
        {
          "output_type": "execute_result",
          "data": {
            "text/plain": [
              "5"
            ]
          },
          "metadata": {},
          "execution_count": 54
        }
      ],
      "metadata": {
        "id": "bZ1aPIzYHY1s",
        "outputId": "e140f2c5-ab24-41f2-8319-fcf57f19bd94",
        "colab": {
          "base_uri": "https://localhost:8080/"
        }
      }
    },
    {
      "cell_type": "markdown",
      "source": [
        "SVC를 사용하면 사이킷런 **내부에서 자동으로 OvO 전략을 사용**해 45개의 이진 분류기를 훈련시키고 각각의 결정 점수를 얻어 점수가 가장 높은 클래스를 선택한다.  \n",
        "SVC기반으로 OvR 전략을 사용하는 다중 분류기의 코드는 아래와 같다."
      ],
      "metadata": {
        "id": "YqhpEQEIZyEc"
      }
    },
    {
      "cell_type": "code",
      "execution_count": null,
      "source": [
        "from sklearn.multiclass import OneVsRestClassifier\n",
        "\n",
        "ovr_clf = OneVsRestClassifier(SVC(gamma = \"auto\", random_state = 42))\n",
        "ovr_clf.fit(X_train[:1000], y_train[:1000])  # 훈련 \n",
        "ovr_clf.predict([some_digit])  # 예측"
      ],
      "outputs": [
        {
          "output_type": "execute_result",
          "data": {
            "text/plain": [
              "array([5], dtype=uint8)"
            ]
          },
          "metadata": {},
          "execution_count": 55
        }
      ],
      "metadata": {
        "id": "yvMIiRAiHY1s",
        "outputId": "d141b0ec-d0e6-41ad-e132-e1708b433640",
        "colab": {
          "base_uri": "https://localhost:8080/"
        }
      }
    },
    {
      "cell_type": "code",
      "execution_count": null,
      "source": [
        "len(ovr_clf.estimators_)"
      ],
      "outputs": [
        {
          "output_type": "execute_result",
          "data": {
            "text/plain": [
              "10"
            ]
          },
          "metadata": {},
          "execution_count": 56
        }
      ],
      "metadata": {
        "id": "9nILOQ3uHY1s",
        "outputId": "03f2cbd9-91ea-421f-8235-88d6482bb50d",
        "colab": {
          "base_uri": "https://localhost:8080/"
        }
      }
    },
    {
      "cell_type": "markdown",
      "source": [
        "이번엔 SGDClassifier."
      ],
      "metadata": {
        "id": "3ZQvEZUDagNx"
      }
    },
    {
      "cell_type": "code",
      "execution_count": null,
      "source": [
        "sgd_clf.fit(X_train, y_train)\n",
        "sgd_clf.predict([some_digit])"
      ],
      "outputs": [
        {
          "output_type": "execute_result",
          "data": {
            "text/plain": [
              "array([3], dtype=uint8)"
            ]
          },
          "metadata": {},
          "execution_count": 57
        }
      ],
      "metadata": {
        "id": "BE7xmSHYHY1t",
        "outputId": "4ef9aacf-cdcc-4734-c459-ad40e0e412e4",
        "colab": {
          "base_uri": "https://localhost:8080/"
        }
      }
    },
    {
      "cell_type": "markdown",
      "source": [
        "SGD 분류기는 직접 샘플을 다중 클래스로 분류할 수 있기 떄문에 별도로 OvR 이나 OvO 를 적용할 필요가 없다.  \n",
        "decision_function()을 통해 SGD 분류기가 클래스마다 부여한 점수를 확인할 수 있다."
      ],
      "metadata": {
        "id": "HWugPO_baope"
      }
    },
    {
      "cell_type": "code",
      "execution_count": null,
      "source": [
        "sgd_clf.decision_function([some_digit])\n",
        "\n",
        "# 클래스 3의 점수가 가장 높다.\n",
        "# 위코드의 출력에서 [3] 이 나왔듯 .!"
      ],
      "outputs": [
        {
          "output_type": "execute_result",
          "data": {
            "text/plain": [
              "array([[-31893.03095419, -34419.69069632,  -9530.63950739,\n",
              "          1823.73154031, -22320.14822878,  -1385.80478895,\n",
              "        -26188.91070951, -16147.51323997,  -4604.35491274,\n",
              "        -12050.767298  ]])"
            ]
          },
          "metadata": {},
          "execution_count": 58
        }
      ],
      "metadata": {
        "id": "1xDTCyZ1HY1t",
        "outputId": "3d7c1f96-4033-409b-8810-94531078d1c4",
        "colab": {
          "base_uri": "https://localhost:8080/"
        }
      }
    },
    {
      "cell_type": "markdown",
      "source": [
        "교차검증으로 분류기를 평가해 본다."
      ],
      "metadata": {
        "id": "TYGna0d8bDlx"
      }
    },
    {
      "cell_type": "code",
      "execution_count": null,
      "source": [
        "cross_val_score(sgd_clf, X_train, y_train, cv = 3, scoring = \"accuracy\")  # 분류기 자체, 훈련 데이터, 타깃 데이터, 폴드 갯수 등 인자로 넣어주기"
      ],
      "outputs": [
        {
          "output_type": "execute_result",
          "data": {
            "text/plain": [
              "array([0.87365, 0.85835, 0.8689 ])"
            ]
          },
          "metadata": {},
          "execution_count": 59
        }
      ],
      "metadata": {
        "id": "5xLmN4NKHY1t",
        "outputId": "20801221-dba8-4ee3-8353-95ea8e045658",
        "colab": {
          "base_uri": "https://localhost:8080/"
        }
      }
    },
    {
      "cell_type": "markdown",
      "source": [
        "모든 테스트 폴드에서 84% 이상을 받았다. 점수가 나쁘지는 않지만 성능을 더 높일 여지는 있다.  \n",
        "예를들어 간단하게 입력의 스케일을 조정해서 정확도를 높여본다.  "
      ],
      "metadata": {
        "id": "1pRXyIQ7bMv5"
      }
    },
    {
      "cell_type": "code",
      "execution_count": null,
      "source": [
        "from sklearn.preprocessing import StandardScaler\n",
        "\n",
        "scaler = StandardScaler()\n",
        "X_train_scaled = scaler.fit_transform(X_train.astype(np.float64))\n",
        "cross_val_score(sgd_clf, X_train_scaled, y_train, cv = 3, scoring = \"accuracy\")"
      ],
      "outputs": [
        {
          "output_type": "execute_result",
          "data": {
            "text/plain": [
              "array([0.8983, 0.891 , 0.9018])"
            ]
          },
          "metadata": {},
          "execution_count": 60
        }
      ],
      "metadata": {
        "id": "5GgnBmahHY1t",
        "outputId": "e347f52f-496b-4319-9be2-efe7d5d09688",
        "colab": {
          "base_uri": "https://localhost:8080/"
        }
      }
    },
    {
      "cell_type": "markdown",
      "source": [
        "성능이 전부 89 이상이 된 것을 확인할 수 있다."
      ],
      "metadata": {
        "id": "npi-PpiTbWEw"
      }
    },
    {
      "cell_type": "markdown",
      "source": [
        "## 3.5 에러 분석"
      ],
      "metadata": {
        "id": "X_NFDPOvHY1u"
      }
    },
    {
      "cell_type": "code",
      "execution_count": null,
      "source": [
        "# 우선 cross_val_preidct()로 예측을 만들고 confusion_matrix()를 호출\n",
        "\n",
        "y_train_pred = cross_val_predict(sgd_clf, X_train_scaled, y_train, cv=3)\n",
        "conf_mx = confusion_matrix(y_train, y_train_pred)\n",
        "conf_mx"
      ],
      "outputs": [
        {
          "output_type": "execute_result",
          "data": {
            "text/plain": [
              "array([[5577,    0,   22,    5,    8,   43,   36,    6,  225,    1],\n",
              "       [   0, 6400,   37,   24,    4,   44,    4,    7,  212,   10],\n",
              "       [  27,   27, 5220,   92,   73,   27,   67,   36,  378,   11],\n",
              "       [  22,   17,  117, 5227,    2,  203,   27,   40,  403,   73],\n",
              "       [  12,   14,   41,    9, 5182,   12,   34,   27,  347,  164],\n",
              "       [  27,   15,   30,  168,   53, 4444,   75,   14,  535,   60],\n",
              "       [  30,   15,   42,    3,   44,   97, 5552,    3,  131,    1],\n",
              "       [  21,   10,   51,   30,   49,   12,    3, 5684,  195,  210],\n",
              "       [  17,   63,   48,   86,    3,  126,   25,   10, 5429,   44],\n",
              "       [  25,   18,   30,   64,  118,   36,    1,  179,  371, 5107]])"
            ]
          },
          "metadata": {},
          "execution_count": 61
        }
      ],
      "metadata": {
        "id": "BBmQb0efHY1u",
        "outputId": "40070aab-ccdf-4c22-c16f-41fb6feb01ca",
        "colab": {
          "base_uri": "https://localhost:8080/"
        }
      }
    },
    {
      "cell_type": "code",
      "execution_count": null,
      "source": [
        "# matshow() 함수를 이용해서 오차 행렬을 이미지로 표현한다.\n",
        "\n",
        "plt.matshow(conf_mx, cmap = plt.cm.gray)\n",
        "save_fig(\"confusion_matrix_plot\", tight_layout = False)\n",
        "plt.show()"
      ],
      "outputs": [
        {
          "output_type": "stream",
          "name": "stdout",
          "text": [
            "그림 저장: confusion_matrix_plot\n"
          ]
        },
        {
          "output_type": "display_data",
          "data": {
            "image/png": "[encoded data removed]",
            "text/plain": [
              "<Figure size 288x288 with 1 Axes>"
            ]
          },
          "metadata": {
            "needs_background": "light"
          }
        }
      ],
      "metadata": {
        "id": "_c39f7Z8HY1u",
        "outputId": "3e0ac28f-ed3b-405f-dbe3-ff925213b46e",
        "colab": {
          "base_uri": "https://localhost:8080/",
          "height": 296
        }
      }
    },
    {
      "cell_type": "code",
      "execution_count": null,
      "source": [
        "# 에러 비율로 비교하기 위해 각 행의 sum값으로 나눠준다.\n",
        "\n",
        "row_sums = conf_mx.sum(axis = 1, keepdims = True)\n",
        "norm_conf_mx = conf_mx / row_sums"
      ],
      "outputs": [],
      "metadata": {
        "id": "zThG_zrvHY1v"
      }
    },
    {
      "cell_type": "code",
      "execution_count": null,
      "source": [
        "# 더 잘보려고? 정답으로 맞춰버린 주대각선 부분은 중요하지 않으니까 주대각선은 전부 0으로 채우고 그래프를 다시 그린다.\n",
        "\n",
        "np.fill_diagonal(norm_conf_mx, 0)\n",
        "plt.matshow(norm_conf_mx, cmap = plt.cm.gray)\n",
        "plt.show()"
      ],
      "outputs": [
        {
          "output_type": "display_data",
          "data": {
            "image/png": "[encoded data removed]",
            "text/plain": [
              "<Figure size 288x288 with 1 Axes>"
            ]
          },
          "metadata": {
            "needs_background": "light"
          }
        }
      ],
      "metadata": {
        "id": "rr9zq699HY1v",
        "outputId": "63b6edc2-4efe-4525-e52c-8340b1e80565",
        "colab": {
          "base_uri": "https://localhost:8080/",
          "height": 278
        }
      }
    },
    {
      "cell_type": "markdown",
      "source": [
        "주대각선을 0으로 처리해줘서 에러를 더 잘 볼 수 있다."
      ],
      "metadata": {
        "id": "1p3QmenVHY1v"
      }
    },
    {
      "cell_type": "markdown",
      "source": [
        "## 3.6 다중 레이블 분류\n",
        "분류기가 샘플마다 여러 개의 클래스를 출력해야 하는 경우."
      ],
      "metadata": {
        "id": "T6vpvKAzHY1v"
      }
    },
    {
      "cell_type": "code",
      "execution_count": null,
      "source": [
        "from sklearn.neighbors import KNeighborsClassifier\n",
        "\n",
        "y_train_large = (y_train >= 7)\n",
        "y_train_odd = (y_train %2 ==1)\n",
        "y_multilabel = np.c_[y_train_large, y_train_odd]  # 두 개의 타깃 레이블이 담긴 배열\n",
        "\n",
        "knn_clf = KNeighborsClassifier()\n",
        "knn_clf.fit(X_train, y_multilabel)  "
      ],
      "outputs": [
        {
          "output_type": "execute_result",
          "data": {
            "text/plain": [
              "KNeighborsClassifier()"
            ]
          },
          "metadata": {},
          "execution_count": 65
        }
      ],
      "metadata": {
        "id": "GuHenjyuHY1w",
        "outputId": "a3dc63c9-192a-42d1-909c-d6ea467dfd88",
        "colab": {
          "base_uri": "https://localhost:8080/"
        }
      }
    },
    {
      "cell_type": "code",
      "execution_count": null,
      "source": [
        "# 예측\n",
        "\n",
        "knn_clf.predict([some_digit])"
      ],
      "outputs": [
        {
          "output_type": "execute_result",
          "data": {
            "text/plain": [
              "array([[False,  True]])"
            ]
          },
          "metadata": {},
          "execution_count": 66
        }
      ],
      "metadata": {
        "id": "nO7J9PeEHY1w",
        "outputId": "01eaf628-b2e8-4d61-b239-eccf6b8150ce",
        "colab": {
          "base_uri": "https://localhost:8080/"
        }
      }
    },
    {
      "cell_type": "markdown",
      "source": [
        "## 3.7 다중 출력 분류"
      ],
      "metadata": {
        "id": "ko-XB2NdHY1w"
      }
    },
    {
      "cell_type": "code",
      "execution_count": null,
      "source": [
        "# MNIST 이미지에서 추출한 훈련 세트와 테스트 세트에 잡음 추가하기\n",
        "\n",
        "noise = np.random.randint(0, 100, (len(X_train), 784))\n",
        "X_train_mod = X_train + noise\n",
        "noise = np.random.randint(0, 100, (len(X_test), 784))\n",
        "X_test_mod = X_test + noise\n",
        "y_train_mod = X_train\n",
        "y_test_mod = X_test"
      ],
      "outputs": [],
      "metadata": {
        "id": "KuzYZpr7HY1w"
      }
    },
    {
      "cell_type": "code",
      "execution_count": null,
      "source": [
        "some_index = 0\n",
        "plt.subplot(121); plot_digit(X_test_mod[some_index])\n",
        "plt.subplot(122); plot_digit(y_test_mod[some_index])\n",
        "save_fig(\"noisy_digit_examplt_plot\")\n",
        "plt.show()"
      ],
      "outputs": [
        {
          "output_type": "stream",
          "name": "stdout",
          "text": [
            "그림 저장: noisy_digit_examplt_plot\n"
          ]
        },
        {
          "output_type": "display_data",
          "data": {
            "image/png": "[encoded data removed]",
            "text/plain": [
              "<Figure size 432x288 with 2 Axes>"
            ]
          },
          "metadata": {
            "needs_background": "light"
          }
        }
      ],
      "metadata": {
        "id": "jGCIZsafHY1w",
        "outputId": "3d672bfe-5efb-4246-acc7-da6d9680dfe0",
        "colab": {
          "base_uri": "https://localhost:8080/",
          "height": 249
        }
      }
    },
    {
      "cell_type": "code",
      "execution_count": null,
      "source": [
        "# 분류기를 훈련시켜서 위의 이미지를 깨끗하게 만들어 보자\n",
        "\n",
        "knn_clf.fit(X_train_mod, y_train_mod)\n",
        "clean_digit = knn_clf.predict([X_test_mod[some_index]])\n",
        "plot_digit(clean_digit)"
      ],
      "outputs": [
        {
          "output_type": "display_data",
          "data": {
            "image/png": "[encoded data removed]",
            "text/plain": [
              "<Figure size 432x288 with 1 Axes>"
            ]
          },
          "metadata": {
            "needs_background": "light"
          }
        }
      ],
      "metadata": {
        "id": "yO0jtgaCHY1w",
        "outputId": "f90ea7aa-13e3-4056-8a63-4abca5ef339b",
        "colab": {
          "base_uri": "https://localhost:8080/",
          "height": 248
        }
      }
    },
    {
      "cell_type": "markdown",
      "source": [
        "## 추가 내용\n",
        "### 더미 (즉 랜덤) 분류기"
      ],
      "metadata": {
        "id": "uIcq9kO0HY1x"
      }
    },
    {
      "cell_type": "code",
      "execution_count": null,
      "source": [
        "from sklearn.dummy import DummyClassifier\n",
        "\n",
        "dmy_clf = DummyClassifier(strategy = 'prior')\n",
        "y_probas_dmy = cross_val_predict(dmy_clf, X_train, y_train_5, cv = 3, method = \"predict_proba\")\n",
        "y_scores_dmy = y_probas_dmy[:, 1]"
      ],
      "outputs": [],
      "metadata": {
        "id": "KkAAZkd-HY1x"
      }
    },
    {
      "cell_type": "code",
      "execution_count": null,
      "source": [
        "fprr, tprr, thresholdsr = roc_curve(y_train_5, y_scores_dmy)\n",
        "plot_roc_curve(fprr, tprr)\n",
        "\n",
        "# 랜덤이라서 AOC?가 딱 0.5가 되게 그려진건가"
      ],
      "outputs": [
        {
          "output_type": "display_data",
          "data": {
            "image/png": "[encoded data removed]",
            "text/plain": [
              "<Figure size 432x288 with 1 Axes>"
            ]
          },
          "metadata": {
            "needs_background": "light"
          }
        }
      ],
      "metadata": {
        "id": "xta_rpn5HY1x",
        "outputId": "43bf795e-b701-4412-94e5-0deb545e64f0",
        "colab": {
          "base_uri": "https://localhost:8080/",
          "height": 292
        }
      }
    },
    {
      "cell_type": "markdown",
      "source": [
        "### KNN 분류기"
      ],
      "metadata": {
        "id": "abhgMr78HY1x"
      }
    },
    {
      "cell_type": "code",
      "execution_count": null,
      "source": [
        "from sklearn.neighbors import KNeighborsClassifier\n",
        "\n",
        "knn_clf = KNeighborsClassifier(weights = 'distance', n_neighbors = 4)\n",
        "knn_clf.fit(X_train, y_train)\n"
      ],
      "outputs": [
        {
          "output_type": "execute_result",
          "data": {
            "text/plain": [
              "KNeighborsClassifier(n_neighbors=4, weights='distance')"
            ]
          },
          "metadata": {},
          "execution_count": 72
        }
      ],
      "metadata": {
        "id": "-L019DCIHY1x",
        "outputId": "44c4fee1-0d42-46dc-cf4d-aaf7d6ec2fae",
        "colab": {
          "base_uri": "https://localhost:8080/"
        }
      }
    },
    {
      "cell_type": "code",
      "execution_count": null,
      "source": [
        "y_knn_pred = knn_clf.predict(X_test)"
      ],
      "outputs": [],
      "metadata": {
        "id": "9g8cKIaPHY11"
      }
    },
    {
      "cell_type": "code",
      "execution_count": null,
      "source": [
        "from sklearn.metrics import accuracy_score\n",
        "\n",
        "accuracy_score(y_test, y_knn_pred)"
      ],
      "outputs": [
        {
          "output_type": "execute_result",
          "data": {
            "text/plain": [
              "0.9714"
            ]
          },
          "metadata": {},
          "execution_count": 74
        }
      ],
      "metadata": {
        "id": "LGOhOmB2HY11",
        "outputId": "e6e0f3f5-ab70-4c12-91e5-589c736e63bd",
        "colab": {
          "base_uri": "https://localhost:8080/"
        }
      }
    },
    {
      "cell_type": "code",
      "execution_count": null,
      "source": [
        "from scipy.ndimage.interpolation import shift\n",
        "\n",
        "def shift_digit(digit_array, dx, dy, new = 0):\n",
        "    return shift(digit_array.reshape(28, 28), [dy, dx], cval = new).reshape(784)\n",
        "\n",
        "plot_digit(shift_digit(some_digit, 5, 1, new = 100))"
      ],
      "outputs": [
        {
          "output_type": "display_data",
          "data": {
            "image/png": "[encoded data removed]",
            "text/plain": [
              "<Figure size 432x288 with 1 Axes>"
            ]
          },
          "metadata": {
            "needs_background": "light"
          }
        }
      ],
      "metadata": {
        "id": "4FfBNY39HY11",
        "outputId": "31e25510-7eb7-49fb-90d5-865d94eb0365",
        "colab": {
          "base_uri": "https://localhost:8080/",
          "height": 248
        }
      }
    },
    {
      "cell_type": "code",
      "execution_count": null,
      "source": [
        "X_train_expanded = [X_train]\n",
        "y_train_expanded = [y_train]\n",
        "for dx, dy in ((1, 0), (-1, 0), (0, 1), (0, -1)):\n",
        "    shifted_images = np.apply_along_axis(shift_digit, axis = 1, arr = X_train, dx = dx, dy = dy)\n",
        "    X_train_expanded.append(shifted_images)\n",
        "    y_train_expanded.append(y_train)\n",
        "\n",
        "X_train_expanded = np.concatenate(X_train_expanded)\n",
        "y_train_expanded = np.concatenate(y_train_expanded)\n",
        "X_train_expanded.shape, y_train_expanded.shape"
      ],
      "outputs": [
        {
          "output_type": "execute_result",
          "data": {
            "text/plain": [
              "((300000, 784), (300000,))"
            ]
          },
          "metadata": {},
          "execution_count": 76
        }
      ],
      "metadata": {
        "id": "1aMLzWldHY11",
        "outputId": "d6cd014b-2809-467b-be2d-367b8a4f56e2",
        "colab": {
          "base_uri": "https://localhost:8080/"
        }
      }
    },
    {
      "cell_type": "code",
      "execution_count": null,
      "source": [
        "# 훈련 세트 만들었으니 fit으로 모델 만들기\n",
        "\n",
        "knn_clf.fit(X_train_expanded, y_train_expanded)"
      ],
      "outputs": [
        {
          "output_type": "execute_result",
          "data": {
            "text/plain": [
              "KNeighborsClassifier(n_neighbors=4, weights='distance')"
            ]
          },
          "metadata": {},
          "execution_count": 77
        }
      ],
      "metadata": {
        "id": "OUbYqh0tHY11",
        "outputId": "459dd8b7-c8df-41ee-853b-2d15ef79d9d4",
        "colab": {
          "base_uri": "https://localhost:8080/"
        }
      }
    },
    {
      "cell_type": "code",
      "execution_count": null,
      "source": [
        "y_knn_expanded_pred = knn_clf.predict(X_test)"
      ],
      "outputs": [],
      "metadata": {
        "id": "Y-zyDSd3HY12"
      }
    },
    {
      "cell_type": "code",
      "execution_count": null,
      "source": [
        "accuracy_score(y_test, y_knn_expanded_pred)\n",
        "\n",
        "# 늘어난 훈련 세트로 만든 모델로 예측한 것의 점수가 전보다 높아졌다 !"
      ],
      "outputs": [
        {
          "output_type": "execute_result",
          "data": {
            "text/plain": [
              "0.9763"
            ]
          },
          "metadata": {},
          "execution_count": 79
        }
      ],
      "metadata": {
        "id": "6jAQO05tHY12",
        "outputId": "03486737-3d48-4e33-b4f9-4948f8c467ff",
        "colab": {
          "base_uri": "https://localhost:8080/"
        }
      }
    },
    {
      "cell_type": "code",
      "execution_count": null,
      "source": [
        "ambiguous_digit = X_test[2589]\n",
        "knn_clf.predict_proba([ambiguous_digit])"
      ],
      "outputs": [
        {
          "output_type": "execute_result",
          "data": {
            "text/plain": [
              "array([[0.24579675, 0.        , 0.        , 0.        , 0.        ,\n",
              "        0.        , 0.        , 0.        , 0.        , 0.75420325]])"
            ]
          },
          "metadata": {},
          "execution_count": 80
        }
      ],
      "metadata": {
        "id": "zQQhK4htHY12",
        "outputId": "cccb0952-7457-4bb3-8035-0719f7cc8d87",
        "colab": {
          "base_uri": "https://localhost:8080/"
        }
      }
    },
    {
      "cell_type": "code",
      "execution_count": null,
      "source": [
        "plot_digit(ambiguous_digit)"
      ],
      "outputs": [
        {
          "output_type": "display_data",
          "data": {
            "image/png": "[encoded data removed]",
            "text/plain": [
              "<Figure size 432x288 with 1 Axes>"
            ]
          },
          "metadata": {
            "needs_background": "light"
          }
        }
      ],
      "metadata": {
        "id": "3dTTI6uHHY12",
        "outputId": "3e66f41d-f024-4978-db5e-004b3f278468",
        "colab": {
          "base_uri": "https://localhost:8080/",
          "height": 248
        }
      }
    },
    {
      "cell_type": "markdown",
      "source": [
        "## 3.8 연습문제"
      ],
      "metadata": {
        "id": "CVZGYi3yHY12"
      }
    },
    {
      "cell_type": "markdown",
      "source": [
        "### 1. \n",
        "MNIST 데이터셋으로 분류기를 만들어 테스트 세트에서 97% 정확도를 달성해보세요.  \n",
        "힌트 : KNeighborsClassifier , 그리드 탐색"
      ],
      "metadata": {
        "id": "CzBm72O0HY13"
      }
    },
    {
      "cell_type": "code",
      "execution_count": null,
      "source": [
        "# X_train, X_test, y_train, y_test  \n",
        "from sklearn.metrics import accuracy_score\n",
        "\n",
        "kn_clf = KNeighborsClassifier()\n",
        "kn_clf.fit(X_train, y_train)\n",
        "y_pred = kn_clf.predict(X_test)\n",
        "print(accuracy_score(y_test, y_pred))"
      ],
      "outputs": [
        {
          "output_type": "stream",
          "name": "stdout",
          "text": [
            "0.9688\n"
          ]
        }
      ],
      "metadata": {
        "id": "ryTapCesHY13",
        "outputId": "d118e0af-a1ed-4f22-abf2-f244ac8a87ae",
        "colab": {
          "base_uri": "https://localhost:8080/"
        }
      }
    },
    {
      "cell_type": "markdown",
      "source": [
        "그리드 써치는 아직 적용하지 않았는데 꽤 높게 나왔다.  \n",
        "제대로 한 건 맞나  \n",
        "아직 아무것도 수정하지 않은 상태의 하이퍼파라미터를 우선 확인해 본다."
      ],
      "metadata": {
        "id": "0EsVayK0ihfl"
      }
    },
    {
      "cell_type": "code",
      "execution_count": null,
      "source": [
        "print(kn_clf.weights, kn_clf.n_neighbors)"
      ],
      "outputs": [
        {
          "output_type": "stream",
          "name": "stdout",
          "text": [
            "uniform 5\n"
          ]
        }
      ],
      "metadata": {
        "id": "EUmyn19oHY13",
        "outputId": "b7db01d3-32cb-427e-cb7a-ae4a03772e08",
        "colab": {
          "base_uri": "https://localhost:8080/"
        }
      }
    },
    {
      "cell_type": "markdown",
      "source": [
        "KNN 분류기의 weights : uniform, distance  \n",
        "이때 uniform이 디폴트.  \n",
        "distance로도 돌려본다.  \n",
        "n_neighbors는 5 와 비슷한 값들로 넣어본다.  "
      ],
      "metadata": {
        "id": "NPaMCosdjeir"
      }
    },
    {
      "cell_type": "code",
      "execution_count": null,
      "source": [
        "from sklearn.model_selection import GridSearchCV\n",
        "\n",
        "param_grid = [{\n",
        "    'weights' : [\"uniform\", \"distance\"],\n",
        "    'n_neighbors' : [3, 4, 5]\n",
        "}]\n",
        "\n",
        "kn_clf = KNeighborsClassifier()\n",
        "grid_search  = GridSearchCV(kn_clf, param_grid, cv = 5, verbose = 3)\n",
        "grid_search.fit(X_train, y_train)"
      ],
      "outputs": [
        {
          "output_type": "stream",
          "name": "stdout",
          "text": [
            "Fitting 5 folds for each of 6 candidates, totalling 30 fits\n",
            "[CV 1/5] END ....n_neighbors=3, weights=uniform;, score=0.972 total time=  37.7s\n",
            "[CV 2/5] END ....n_neighbors=3, weights=uniform;, score=0.971 total time=  39.0s\n",
            "[CV 3/5] END ....n_neighbors=3, weights=uniform;, score=0.969 total time=  33.3s\n",
            "[CV 4/5] END ....n_neighbors=3, weights=uniform;, score=0.969 total time=  32.4s\n",
            "[CV 5/5] END ....n_neighbors=3, weights=uniform;, score=0.970 total time=  32.4s\n",
            "[CV 1/5] END ...n_neighbors=3, weights=distance;, score=0.972 total time=  32.6s\n",
            "[CV 2/5] END ...n_neighbors=3, weights=distance;, score=0.972 total time=  32.5s\n",
            "[CV 3/5] END ...n_neighbors=3, weights=distance;, score=0.970 total time=  32.5s\n",
            "[CV 4/5] END ...n_neighbors=3, weights=distance;, score=0.970 total time=  33.2s\n",
            "[CV 5/5] END ...n_neighbors=3, weights=distance;, score=0.971 total time=  32.5s\n",
            "[CV 1/5] END ....n_neighbors=4, weights=uniform;, score=0.969 total time=  36.8s\n",
            "[CV 2/5] END ....n_neighbors=4, weights=uniform;, score=0.968 total time=  39.1s\n",
            "[CV 3/5] END ....n_neighbors=4, weights=uniform;, score=0.968 total time=  40.5s\n",
            "[CV 4/5] END ....n_neighbors=4, weights=uniform;, score=0.967 total time=  36.3s\n",
            "[CV 5/5] END ....n_neighbors=4, weights=uniform;, score=0.970 total time=  39.7s\n",
            "[CV 1/5] END ...n_neighbors=4, weights=distance;, score=0.973 total time=  39.4s\n",
            "[CV 2/5] END ...n_neighbors=4, weights=distance;, score=0.972 total time=  41.8s\n",
            "[CV 3/5] END ...n_neighbors=4, weights=distance;, score=0.970 total time=  35.7s\n",
            "[CV 4/5] END ...n_neighbors=4, weights=distance;, score=0.971 total time=  37.6s\n",
            "[CV 5/5] END ...n_neighbors=4, weights=distance;, score=0.972 total time=  37.3s\n",
            "[CV 1/5] END ....n_neighbors=5, weights=uniform;, score=0.970 total time=  37.6s\n",
            "[CV 2/5] END ....n_neighbors=5, weights=uniform;, score=0.970 total time=  36.9s\n",
            "[CV 3/5] END ....n_neighbors=5, weights=uniform;, score=0.969 total time=  36.7s\n",
            "[CV 4/5] END ....n_neighbors=5, weights=uniform;, score=0.968 total time=  36.8s\n",
            "[CV 5/5] END ....n_neighbors=5, weights=uniform;, score=0.969 total time=  37.3s\n",
            "[CV 1/5] END ...n_neighbors=5, weights=distance;, score=0.970 total time=  35.9s\n",
            "[CV 2/5] END ...n_neighbors=5, weights=distance;, score=0.971 total time=  35.6s\n",
            "[CV 3/5] END ...n_neighbors=5, weights=distance;, score=0.970 total time=  35.8s\n",
            "[CV 4/5] END ...n_neighbors=5, weights=distance;, score=0.969 total time=  36.1s\n",
            "[CV 5/5] END ...n_neighbors=5, weights=distance;, score=0.971 total time=  36.1s\n"
          ]
        },
        {
          "output_type": "execute_result",
          "data": {
            "text/plain": [
              "GridSearchCV(cv=5, estimator=KNeighborsClassifier(),\n",
              "             param_grid=[{'n_neighbors': [3, 4, 5],\n",
              "                          'weights': ['uniform', 'distance']}],\n",
              "             verbose=3)"
            ]
          },
          "metadata": {},
          "execution_count": 86
        }
      ],
      "metadata": {
        "id": "W_KetahxHY13",
        "outputId": "f6d4070a-a230-4690-8fb7-1580ea6249a4",
        "colab": {
          "base_uri": "https://localhost:8080/"
        }
      }
    },
    {
      "cell_type": "code",
      "execution_count": null,
      "source": [
        "grid_search.best_score_"
      ],
      "outputs": [
        {
          "output_type": "execute_result",
          "data": {
            "text/plain": [
              "0.9716166666666666"
            ]
          },
          "metadata": {},
          "execution_count": 88
        }
      ],
      "metadata": {
        "id": "XGnDcJu9HY13",
        "outputId": "ab413e28-f6bb-436c-bc96-d2673e9c84e0",
        "colab": {
          "base_uri": "https://localhost:8080/"
        }
      }
    },
    {
      "cell_type": "code",
      "execution_count": null,
      "source": [
        "grid_search.best_params_"
      ],
      "outputs": [
        {
          "output_type": "execute_result",
          "data": {
            "text/plain": [
              "{'n_neighbors': 4, 'weights': 'distance'}"
            ]
          },
          "metadata": {},
          "execution_count": 89
        }
      ],
      "metadata": {
        "id": "TbproXFKHY14",
        "outputId": "7b7ab961-de92-447b-f9a5-081c1328fdc7",
        "colab": {
          "base_uri": "https://localhost:8080/"
        }
      }
    },
    {
      "cell_type": "code",
      "execution_count": null,
      "source": [
        "from sklearn.metrics import accuracy_score\n",
        "\n",
        "y_pred = grid_search.predict(X_test)\n",
        "accuracy_score(y_test, y_pred)"
      ],
      "outputs": [
        {
          "output_type": "execute_result",
          "data": {
            "text/plain": [
              "0.9714"
            ]
          },
          "metadata": {},
          "execution_count": 90
        }
      ],
      "metadata": {
        "id": "eNvHKOXdHY14",
        "outputId": "ac3aa66b-db01-49c7-9e6e-a002b093e516",
        "colab": {
          "base_uri": "https://localhost:8080/"
        }
      }
    },
    {
      "cell_type": "markdown",
      "source": [
        "### 2. \n",
        "MNIST 이미지를 (왼, 오, 아래, 위) 어느 방향으로든 한 픽셀 이동시킬 수 있는 함수 만들고 훈련 세트의 각 이미지에 적용하여 훈련 세트에 추가.  \n",
        "이 확장된 데이터셋에서 문제1에서 찾은 모델을 훈련시키고 테스트 세트에서 정확도를 측정.  \n",
        "모델의 성능이 더 높아졌는지 확인해라.  \n",
        "이처럼 인위적으로 훈련 세트를 늘리는 기법을 **데이터 증식** 또는 **훈련 세트 확장**이라고 한다."
      ],
      "metadata": {
        "id": "Wmm-S-TeHY14"
      }
    },
    {
      "cell_type": "code",
      "source": [
        "X_train.shape"
      ],
      "metadata": {
        "id": "7GE4_d9kl-OM",
        "outputId": "28663119-34c7-48e9-e864-7c058b07fcfa",
        "colab": {
          "base_uri": "https://localhost:8080/"
        }
      },
      "execution_count": null,
      "outputs": [
        {
          "output_type": "execute_result",
          "data": {
            "text/plain": [
              "(60000, 784)"
            ]
          },
          "metadata": {},
          "execution_count": 11
        }
      ]
    },
    {
      "cell_type": "markdown",
      "source": [
        "60000개의 이미지와 28x28 픽셀"
      ],
      "metadata": {
        "id": "H39UArJwOU3J"
      }
    },
    {
      "cell_type": "code",
      "source": [
        "# 책 풀이\n",
        "from scipy.ndimage.interpolation import shift\n",
        "\n",
        "def shift_image(image, dx, dy):\n",
        "    image = image.reshape((28, 28))\n",
        "    shifted_image = shift(image, [dy, dx], cval = 0, mode=\"constant\")\n",
        "    return shifted_image.reshape([-1])"
      ],
      "metadata": {
        "id": "i4qfqUOGOi_R"
      },
      "execution_count": 6,
      "outputs": []
    },
    {
      "cell_type": "markdown",
      "source": [
        "_내가_    \n",
        "한 픽셀 이동시킬 수 있는 함수\n",
        "- 행 하나를 맨 첫 줄 / 마지막 줄에 추가 : 아래, 위 이동\n",
        "- 열 하나를 맨 왼쪽 / 오른쪽에 추가 : 오른쪽, 왼쪽 이동"
      ],
      "metadata": {
        "id": "RLRpx5BFl_qe"
      }
    },
    {
      "cell_type": "code",
      "source": [
        "import copy\n",
        "import numpy as np\n",
        "\n",
        "X_train_copy = copy.copy(X_train)"
      ],
      "metadata": {
        "id": "XCkvU6OsO6NL"
      },
      "execution_count": null,
      "outputs": []
    },
    {
      "cell_type": "code",
      "source": [
        "# 추가해줄 공백 행과 열 저장해두기\n",
        "sample = X_train_copy[0].reshape(28, 28)\n",
        "rows = copy.copy(sample[0])"
      ],
      "metadata": {
        "id": "5VYE5SosXPua"
      },
      "execution_count": null,
      "outputs": []
    },
    {
      "cell_type": "markdown",
      "source": [
        "우선 가장 첫 번째 숫자 하나만으로 위/아래/왼/오 이동 구현을 해봤다."
      ],
      "metadata": {
        "id": "amarEcd7eGBo"
      }
    },
    {
      "cell_type": "code",
      "source": [
        "# 1. 위로 이동\n",
        "plt.figure(figsize = (12, 3))\n",
        "plt.subplot(121)  \n",
        "plt.title(\"Original\", fontsize = 14)\n",
        "plt.imshow(sample, interpolation = \"nearest\", cmap = \"Greys\")\n",
        "\n",
        "shifted_up = np.delete(sample, 0, axis = 0)\n",
        "shifted_up = np.append(shifted_up, [rows], axis = 0)\n",
        "plt.subplot(122)\n",
        "plt.title(\"Shifted Up\", fontsize = 14)\n",
        "plt.imshow(shifted_up, interpolation = \"nearest\", cmap = \"Greys\")"
      ],
      "metadata": {
        "id": "Y-ed2Sp2XY0I",
        "outputId": "1cb6b258-dcc2-4906-dcd5-21ab7c713fad",
        "colab": {
          "base_uri": "https://localhost:8080/",
          "height": 249
        }
      },
      "execution_count": null,
      "outputs": [
        {
          "output_type": "execute_result",
          "data": {
            "text/plain": [
              "<matplotlib.image.AxesImage at 0x7fb6ca2e9550>"
            ]
          },
          "metadata": {},
          "execution_count": 92
        },
        {
          "output_type": "display_data",
          "data": {
            "image/png": "[encoded data removed]",
            "text/plain": [
              "<Figure size 864x216 with 2 Axes>"
            ]
          },
          "metadata": {
            "needs_background": "light"
          }
        }
      ]
    },
    {
      "cell_type": "code",
      "source": [
        "# 2. 왼쪽 이동\n",
        "plt.figure(figsize = (12, 3))\n",
        "plt.subplot(121)  \n",
        "plt.title(\"Original\", fontsize = 14)\n",
        "plt.imshow(sample, interpolation = \"nearest\", cmap = \"Greys\")\n",
        "\n",
        "shifted_left = np.delete(sample, 0, axis = 1)\n",
        "shifted_left = np.append(shifted_left, [[rows[0]] for _ in range(len(sample))], axis = 1)\n",
        "plt.subplot(122)\n",
        "plt.title(\"Shifted Left\", fontsize = 14)\n",
        "plt.imshow(shifted_left, interpolation = \"nearest\", cmap = \"Greys\")"
      ],
      "metadata": {
        "id": "OuKz7FIkeP6t",
        "outputId": "7a62848d-584f-4fee-f4df-4aafef2d6073",
        "colab": {
          "base_uri": "https://localhost:8080/",
          "height": 249
        }
      },
      "execution_count": null,
      "outputs": [
        {
          "output_type": "execute_result",
          "data": {
            "text/plain": [
              "<matplotlib.image.AxesImage at 0x7fb6ca21ad50>"
            ]
          },
          "metadata": {},
          "execution_count": 93
        },
        {
          "output_type": "display_data",
          "data": {
            "image/png": "[encoded data removed]",
            "text/plain": [
              "<Figure size 864x216 with 2 Axes>"
            ]
          },
          "metadata": {
            "needs_background": "light"
          }
        }
      ]
    },
    {
      "cell_type": "markdown",
      "source": [
        "이제 전체 데이터에 대해 적용해 주면 된다.  \n",
        "너무 오래 걸려서 책 풀이에 나온 함수를 이용해야겠다.\n",
        "\n",
        "해야할 것  \n",
        "- 전체 X_train에 대해 네 방향으로의 shifted_image 함수를 적용 + 결괏값을 y_train에 저장까지  (이때 X_test & y_test는 건들지 않고)\n",
        "- 확장된 데이터셋으로 문제1에서 한 과정 다시 하고 결과 비교하기\n"
      ],
      "metadata": {
        "id": "3laaOhwGkj4-"
      }
    },
    {
      "cell_type": "code",
      "execution_count": 9,
      "source": [
        "# shift_image함수가 잘 동작하는 것을 알 수 있다.\n",
        "image = X_train[1000]\n",
        "shifted_image_down = shift_image(image, 0, 5)\n",
        "shifted_image_left = shift_image(image, -5, 0)\n",
        "\n",
        "plt.figure(figsize = (12, 3))  # 그래프 격자가 위치할 기본 틀\n",
        "plt.subplot(131)  # 1행 3열의 첫번째\n",
        "plt.title(\"Original\", fontsize = 14)\n",
        "plt.imshow(image.reshape(28, 28), interpolation = \"nearest\", cmap = \"Greys\")\n",
        "plt.subplot(132)\n",
        "plt.title(\"Shifted down\", fontsize = 14)\n",
        "plt.imshow(shifted_image_down.reshape(28, 28), interpolation = \"nearest\", cmap = \"Greys\")\n",
        "plt.subplot(133)\n",
        "plt.title(\"Shifted left\", fontsize = 14)\n",
        "plt.imshow(shifted_image_left.reshape(28, 28), interpolation = \"nearest\", cmap = \"Greys\")\n",
        "plt.show()"
      ],
      "outputs": [
        {
          "output_type": "display_data",
          "data": {
            "image/png": "[encoded data removed]",
            "text/plain": [
              "<Figure size 864x216 with 3 Axes>"
            ]
          },
          "metadata": {
            "needs_background": "light"
          }
        }
      ],
      "metadata": {
        "id": "kypNUtbjHY14",
        "outputId": "59e75505-8302-440e-8e17-a4ebf40ff577",
        "colab": {
          "base_uri": "https://localhost:8080/",
          "height": 231
        }
      }
    },
    {
      "cell_type": "markdown",
      "source": [
        "_plt.imshow() :  \n",
        "2차원 배열 객체를 색깔로 표시해 준다.  \n",
        "interpolation은 보간법 & nearest는 가장 고해상도인 보간법_  "
      ],
      "metadata": {
        "id": "BbN4kU80HY15"
      }
    },
    {
      "cell_type": "code",
      "execution_count": 10,
      "source": [
        "# 새로운 데이터셋 변수를 선언\n",
        "X_train_augmented = [image for image in X_train]\n",
        "y_train_augmented = [label for label in y_train]"
      ],
      "outputs": [],
      "metadata": {
        "id": "yyW9-UaJHY15"
      }
    },
    {
      "cell_type": "code",
      "execution_count": 13,
      "source": [
        "for dx, dy in ((1, 0), (-1, 0), (0, 1), (0, -1)):\n",
        "  for image, label in zip(X_train, y_train):\n",
        "    X_train_augmented.append(shift_image(image, dx, dy))\n",
        "    y_train_augmented.append(label)\n",
        "\n",
        "X_train_augmented = np.array(X_train_augmented)\n",
        "y_train_augmented = np.array(y_train_augmented)"
      ],
      "outputs": [],
      "metadata": {
        "id": "LGiXfGThHY15"
      }
    },
    {
      "cell_type": "code",
      "execution_count": 14,
      "source": [
        "# 확장된 데이터들의 순서를 섞어준다.\n",
        "shuffle_idx = np.random.permutation(len(X_train_augmented))\n",
        "X_train_augmented = X_train_augmented[shuffle_idx]  \n",
        "y_train_augmented = y_train_augmented[shuffle_idx]"
      ],
      "outputs": [],
      "metadata": {
        "id": "VXRKd6JqHY15"
      }
    },
    {
      "cell_type": "code",
      "execution_count": 31,
      "source": [
        "# 우선 그리드써치 하지 않고\n",
        "from sklearn.metrics import accuracy_score\n",
        "from sklearn.neighbors import KNeighborsClassifier\n",
        "\n",
        "kn_clf = KNeighborsClassifier()\n",
        "kn_clf.fit(X_train_augmented, y_train_augmented)\n",
        "y_pred = kn_clf.predict(X_test)\n",
        "print(accuracy_score(y_test, y_pred))"
      ],
      "outputs": [
        {
          "output_type": "stream",
          "name": "stdout",
          "text": [
            "0.0\n"
          ]
        },
        {
          "output_type": "stream",
          "name": "stderr",
          "text": [
            "/usr/local/lib/python3.7/dist-packages/sklearn/metrics/_classification.py:217: FutureWarning: elementwise comparison failed; returning scalar instead, but in the future will perform elementwise comparison\n",
            "  score = y_true == y_pred\n"
          ]
        }
      ],
      "metadata": {
        "id": "7r2EEL10HY15",
        "outputId": "7fa4e846-e0e3-467a-d168-52dc23538966",
        "colab": {
          "base_uri": "https://localhost:8080/"
        }
      }
    },
    {
      "cell_type": "markdown",
      "source": [
        "결과가 이상하다.  \n",
        "어디가 틀린건지"
      ],
      "metadata": {
        "id": "Z7IcERvtv2kv"
      }
    },
    {
      "cell_type": "code",
      "execution_count": null,
      "source": [
        "# 그리드써치로 최적의 파라미터 찾기\n",
        "from sklearn.model_selection import GridSearchCV\n",
        "\n",
        "param_grid = [{\n",
        "    'weights' : [\"uniform\", \"distance\"],\n",
        "    'n_neighbors' : [3, 4, 5]\n",
        "}]\n",
        "\n",
        "kn_clf = KNeighborsClassifier()\n",
        "grid_search  = GridSearchCV(kn_clf, param_grid, cv = 5, verbose = 3)\n",
        "grid_search.fit(X_train_augmented, y_train_augmented)"
      ],
      "outputs": [
        {
          "output_type": "stream",
          "name": "stdout",
          "text": [
            "Fitting 5 folds for each of 6 candidates, totalling 30 fits\n",
            "[CV 1/5] END ....n_neighbors=3, weights=uniform;, score=0.984 total time=12.5min\n",
            "[CV 2/5] END ....n_neighbors=3, weights=uniform;, score=0.984 total time=12.4min\n",
            "[CV 3/5] END ....n_neighbors=3, weights=uniform;, score=0.984 total time=12.4min\n",
            "[CV 4/5] END ....n_neighbors=3, weights=uniform;, score=0.984 total time=12.4min\n",
            "[CV 5/5] END ....n_neighbors=3, weights=uniform;, score=0.984 total time=12.4min\n",
            "[CV 1/5] END ...n_neighbors=3, weights=distance;, score=0.985 total time=12.5min\n",
            "[CV 2/5] END ...n_neighbors=3, weights=distance;, score=0.985 total time=12.4min\n",
            "[CV 3/5] END ...n_neighbors=3, weights=distance;, score=0.985 total time=12.3min\n",
            "[CV 4/5] END ...n_neighbors=3, weights=distance;, score=0.985 total time=12.3min\n",
            "[CV 5/5] END ...n_neighbors=3, weights=distance;, score=0.985 total time=12.3min\n",
            "[CV 1/5] END ....n_neighbors=4, weights=uniform;, score=0.982 total time=13.6min\n",
            "[CV 2/5] END ....n_neighbors=4, weights=uniform;, score=0.981 total time=13.3min\n",
            "[CV 3/5] END ....n_neighbors=4, weights=uniform;, score=0.981 total time=13.4min\n",
            "[CV 4/5] END ....n_neighbors=4, weights=uniform;, score=0.981 total time=13.2min\n",
            "[CV 5/5] END ....n_neighbors=4, weights=uniform;, score=0.982 total time=13.1min\n"
          ]
        }
      ],
      "metadata": {
        "id": "55BLJzcLHY15",
        "outputId": "c0bba990-3707-4521-9c4f-33589ca34ee1",
        "colab": {
          "base_uri": "https://localhost:8080/"
        }
      }
    },
    {
      "cell_type": "code",
      "execution_count": null,
      "source": [
        "y_pred = knn_clf.predict(X_test)\n",
        "accuracy_score(y_test, y_pred)"
      ],
      "outputs": [
        {
          "output_type": "execute_result",
          "data": {
            "text/plain": [
              "0.9763"
            ]
          },
          "metadata": {},
          "execution_count": 98
        }
      ],
      "metadata": {
        "id": "rnv9rkeNHY16",
        "outputId": "4b128a66-6cd1-48ff-dc6a-777decb32c6f"
      }
    },
    {
      "cell_type": "markdown",
      "source": [
        "정확도가 높아진 것을 알 수 있다."
      ],
      "metadata": {
        "id": "ulBeS2-qHY16"
      }
    },
    {
      "cell_type": "markdown",
      "source": [
        "### 3. \n",
        "타이타닉 데이터셋"
      ],
      "metadata": {
        "id": "aNpY7kfgHY16"
      }
    },
    {
      "cell_type": "code",
      "execution_count": null,
      "source": [
        "import os\n",
        "\n",
        "TITANIC_PATH = os.path.join(\"datasets\", \"titanic\")"
      ],
      "outputs": [],
      "metadata": {
        "id": "YpRzFvKoHY16"
      }
    },
    {
      "cell_type": "code",
      "execution_count": null,
      "source": [
        "import pandas as pd\n",
        "\n",
        "def load_titanic_data(filename, titanic_path = TITANIC_PATH):\n",
        "    csv_path = os.path.join(titanic_path, filename)\n",
        "    return pd.read_csv(csv_path)"
      ],
      "outputs": [],
      "metadata": {
        "id": "8EYXNh0nHY16"
      }
    },
    {
      "cell_type": "code",
      "execution_count": null,
      "source": [
        "train_data = load_titanic_data(\"train.csv\")\n",
        "test_data = load_titanic_data(\"test.csv\")"
      ],
      "outputs": [],
      "metadata": {
        "id": "PhVoacDSHY17"
      }
    },
    {
      "cell_type": "markdown",
      "source": [
        "데이터는 이미 훈련 세트와 테스트 세트로 분리되어 있다.  \n",
        "그러나 테스트 데이터는 레이블을 가지고 있지 않다. <- 무슨말 ..?"
      ],
      "metadata": {
        "id": "2DR2zOH-HY17"
      }
    },
    {
      "cell_type": "code",
      "execution_count": null,
      "source": [
        "# 상위 몇 개의 열만 우선 살펴보자\n",
        "\n",
        "train_data.head()"
      ],
      "outputs": [
        {
          "output_type": "execute_result",
          "data": {
            "text/html": [
              "<div>\n",
              "<style scoped>\n",
              "    .dataframe tbody tr th:only-of-type {\n",
              "        vertical-align: middle;\n",
              "    }\n",
              "\n",
              "    .dataframe tbody tr th {\n",
              "        vertical-align: top;\n",
              "    }\n",
              "\n",
              "    .dataframe thead th {\n",
              "        text-align: right;\n",
              "    }\n",
              "</style>\n",
              "<table border=\"1\" class=\"dataframe\">\n",
              "  <thead>\n",
              "    <tr style=\"text-align: right;\">\n",
              "      <th></th>\n",
              "      <th>PassengerId</th>\n",
              "      <th>Survived</th>\n",
              "      <th>Pclass</th>\n",
              "      <th>Name</th>\n",
              "      <th>Sex</th>\n",
              "      <th>Age</th>\n",
              "      <th>SibSp</th>\n",
              "      <th>Parch</th>\n",
              "      <th>Ticket</th>\n",
              "      <th>Fare</th>\n",
              "      <th>Cabin</th>\n",
              "      <th>Embarked</th>\n",
              "    </tr>\n",
              "  </thead>\n",
              "  <tbody>\n",
              "    <tr>\n",
              "      <th>0</th>\n",
              "      <td>1</td>\n",
              "      <td>0</td>\n",
              "      <td>3</td>\n",
              "      <td>Braund, Mr. Owen Harris</td>\n",
              "      <td>male</td>\n",
              "      <td>22.0</td>\n",
              "      <td>1</td>\n",
              "      <td>0</td>\n",
              "      <td>A/5 21171</td>\n",
              "      <td>7.2500</td>\n",
              "      <td>NaN</td>\n",
              "      <td>S</td>\n",
              "    </tr>\n",
              "    <tr>\n",
              "      <th>1</th>\n",
              "      <td>2</td>\n",
              "      <td>1</td>\n",
              "      <td>1</td>\n",
              "      <td>Cumings, Mrs. John Bradley (Florence Briggs Th...</td>\n",
              "      <td>female</td>\n",
              "      <td>38.0</td>\n",
              "      <td>1</td>\n",
              "      <td>0</td>\n",
              "      <td>PC 17599</td>\n",
              "      <td>71.2833</td>\n",
              "      <td>C85</td>\n",
              "      <td>C</td>\n",
              "    </tr>\n",
              "    <tr>\n",
              "      <th>2</th>\n",
              "      <td>3</td>\n",
              "      <td>1</td>\n",
              "      <td>3</td>\n",
              "      <td>Heikkinen, Miss. Laina</td>\n",
              "      <td>female</td>\n",
              "      <td>26.0</td>\n",
              "      <td>0</td>\n",
              "      <td>0</td>\n",
              "      <td>STON/O2. 3101282</td>\n",
              "      <td>7.9250</td>\n",
              "      <td>NaN</td>\n",
              "      <td>S</td>\n",
              "    </tr>\n",
              "    <tr>\n",
              "      <th>3</th>\n",
              "      <td>4</td>\n",
              "      <td>1</td>\n",
              "      <td>1</td>\n",
              "      <td>Futrelle, Mrs. Jacques Heath (Lily May Peel)</td>\n",
              "      <td>female</td>\n",
              "      <td>35.0</td>\n",
              "      <td>1</td>\n",
              "      <td>0</td>\n",
              "      <td>113803</td>\n",
              "      <td>53.1000</td>\n",
              "      <td>C123</td>\n",
              "      <td>S</td>\n",
              "    </tr>\n",
              "    <tr>\n",
              "      <th>4</th>\n",
              "      <td>5</td>\n",
              "      <td>0</td>\n",
              "      <td>3</td>\n",
              "      <td>Allen, Mr. William Henry</td>\n",
              "      <td>male</td>\n",
              "      <td>35.0</td>\n",
              "      <td>0</td>\n",
              "      <td>0</td>\n",
              "      <td>373450</td>\n",
              "      <td>8.0500</td>\n",
              "      <td>NaN</td>\n",
              "      <td>S</td>\n",
              "    </tr>\n",
              "  </tbody>\n",
              "</table>\n",
              "</div>"
            ],
            "text/plain": [
              "   PassengerId  Survived  Pclass  \\\n",
              "0            1         0       3   \n",
              "1            2         1       1   \n",
              "2            3         1       3   \n",
              "3            4         1       1   \n",
              "4            5         0       3   \n",
              "\n",
              "                                                Name     Sex   Age  SibSp  \\\n",
              "0                            Braund, Mr. Owen Harris    male  22.0      1   \n",
              "1  Cumings, Mrs. John Bradley (Florence Briggs Th...  female  38.0      1   \n",
              "2                             Heikkinen, Miss. Laina  female  26.0      0   \n",
              "3       Futrelle, Mrs. Jacques Heath (Lily May Peel)  female  35.0      1   \n",
              "4                           Allen, Mr. William Henry    male  35.0      0   \n",
              "\n",
              "   Parch            Ticket     Fare Cabin Embarked  \n",
              "0      0         A/5 21171   7.2500   NaN        S  \n",
              "1      0          PC 17599  71.2833   C85        C  \n",
              "2      0  STON/O2. 3101282   7.9250   NaN        S  \n",
              "3      0            113803  53.1000  C123        S  \n",
              "4      0            373450   8.0500   NaN        S  "
            ]
          },
          "metadata": {},
          "execution_count": 105
        }
      ],
      "metadata": {
        "id": "imFmfVGzHY17",
        "outputId": "5b978d8d-1c39-4cbc-e6cd-d033390cf46c"
      }
    },
    {
      "cell_type": "markdown",
      "source": [
        "Survived : 타깃 !  "
      ],
      "metadata": {
        "id": "_hVU5qsoHY17"
      }
    },
    {
      "cell_type": "code",
      "execution_count": null,
      "source": [
        "# 누락된 데이터가 얼마나 되는지 살펴보자\n",
        "\n",
        "train_data.info()"
      ],
      "outputs": [
        {
          "output_type": "stream",
          "name": "stdout",
          "text": [
            "<class 'pandas.core.frame.DataFrame'>\n",
            "RangeIndex: 891 entries, 0 to 890\n",
            "Data columns (total 12 columns):\n",
            " #   Column       Non-Null Count  Dtype  \n",
            "---  ------       --------------  -----  \n",
            " 0   PassengerId  891 non-null    int64  \n",
            " 1   Survived     891 non-null    int64  \n",
            " 2   Pclass       891 non-null    int64  \n",
            " 3   Name         891 non-null    object \n",
            " 4   Sex          891 non-null    object \n",
            " 5   Age          714 non-null    float64\n",
            " 6   SibSp        891 non-null    int64  \n",
            " 7   Parch        891 non-null    int64  \n",
            " 8   Ticket       891 non-null    object \n",
            " 9   Fare         891 non-null    float64\n",
            " 10  Cabin        204 non-null    object \n",
            " 11  Embarked     889 non-null    object \n",
            "dtypes: float64(2), int64(5), object(5)\n",
            "memory usage: 83.7+ KB\n"
          ]
        }
      ],
      "metadata": {
        "id": "4terZVddHY17",
        "outputId": "e556d050-a551-4360-a570-31ffe588777e"
      }
    },
    {
      "cell_type": "markdown",
      "source": [
        "살펴보면 Cabin은 null값이 너무 많다. -> Cabin 말고 다른 것들을 활용하자  \n",
        "Name과 Ticket 속성도 값을 non-null이 많긴 하지만 Dtype 이 숫자가 아니기 때문에\n",
        "숫자로 변환하는 것이 까다로울 수 있다."
      ],
      "metadata": {
        "id": "2Rn1Wte-HY18"
      }
    },
    {
      "cell_type": "code",
      "execution_count": null,
      "source": [
        "# 통계치를 살펴보자\n",
        "\n",
        "train_data.describe()"
      ],
      "outputs": [
        {
          "output_type": "execute_result",
          "data": {
            "text/html": [
              "<div>\n",
              "<style scoped>\n",
              "    .dataframe tbody tr th:only-of-type {\n",
              "        vertical-align: middle;\n",
              "    }\n",
              "\n",
              "    .dataframe tbody tr th {\n",
              "        vertical-align: top;\n",
              "    }\n",
              "\n",
              "    .dataframe thead th {\n",
              "        text-align: right;\n",
              "    }\n",
              "</style>\n",
              "<table border=\"1\" class=\"dataframe\">\n",
              "  <thead>\n",
              "    <tr style=\"text-align: right;\">\n",
              "      <th></th>\n",
              "      <th>PassengerId</th>\n",
              "      <th>Survived</th>\n",
              "      <th>Pclass</th>\n",
              "      <th>Age</th>\n",
              "      <th>SibSp</th>\n",
              "      <th>Parch</th>\n",
              "      <th>Fare</th>\n",
              "    </tr>\n",
              "  </thead>\n",
              "  <tbody>\n",
              "    <tr>\n",
              "      <th>count</th>\n",
              "      <td>891.000000</td>\n",
              "      <td>891.000000</td>\n",
              "      <td>891.000000</td>\n",
              "      <td>714.000000</td>\n",
              "      <td>891.000000</td>\n",
              "      <td>891.000000</td>\n",
              "      <td>891.000000</td>\n",
              "    </tr>\n",
              "    <tr>\n",
              "      <th>mean</th>\n",
              "      <td>446.000000</td>\n",
              "      <td>0.383838</td>\n",
              "      <td>2.308642</td>\n",
              "      <td>29.699118</td>\n",
              "      <td>0.523008</td>\n",
              "      <td>0.381594</td>\n",
              "      <td>32.204208</td>\n",
              "    </tr>\n",
              "    <tr>\n",
              "      <th>std</th>\n",
              "      <td>257.353842</td>\n",
              "      <td>0.486592</td>\n",
              "      <td>0.836071</td>\n",
              "      <td>14.526497</td>\n",
              "      <td>1.102743</td>\n",
              "      <td>0.806057</td>\n",
              "      <td>49.693429</td>\n",
              "    </tr>\n",
              "    <tr>\n",
              "      <th>min</th>\n",
              "      <td>1.000000</td>\n",
              "      <td>0.000000</td>\n",
              "      <td>1.000000</td>\n",
              "      <td>0.420000</td>\n",
              "      <td>0.000000</td>\n",
              "      <td>0.000000</td>\n",
              "      <td>0.000000</td>\n",
              "    </tr>\n",
              "    <tr>\n",
              "      <th>25%</th>\n",
              "      <td>223.500000</td>\n",
              "      <td>0.000000</td>\n",
              "      <td>2.000000</td>\n",
              "      <td>20.125000</td>\n",
              "      <td>0.000000</td>\n",
              "      <td>0.000000</td>\n",
              "      <td>7.910400</td>\n",
              "    </tr>\n",
              "    <tr>\n",
              "      <th>50%</th>\n",
              "      <td>446.000000</td>\n",
              "      <td>0.000000</td>\n",
              "      <td>3.000000</td>\n",
              "      <td>28.000000</td>\n",
              "      <td>0.000000</td>\n",
              "      <td>0.000000</td>\n",
              "      <td>14.454200</td>\n",
              "    </tr>\n",
              "    <tr>\n",
              "      <th>75%</th>\n",
              "      <td>668.500000</td>\n",
              "      <td>1.000000</td>\n",
              "      <td>3.000000</td>\n",
              "      <td>38.000000</td>\n",
              "      <td>1.000000</td>\n",
              "      <td>0.000000</td>\n",
              "      <td>31.000000</td>\n",
              "    </tr>\n",
              "    <tr>\n",
              "      <th>max</th>\n",
              "      <td>891.000000</td>\n",
              "      <td>1.000000</td>\n",
              "      <td>3.000000</td>\n",
              "      <td>80.000000</td>\n",
              "      <td>8.000000</td>\n",
              "      <td>6.000000</td>\n",
              "      <td>512.329200</td>\n",
              "    </tr>\n",
              "  </tbody>\n",
              "</table>\n",
              "</div>"
            ],
            "text/plain": [
              "       PassengerId    Survived      Pclass         Age       SibSp  \\\n",
              "count   891.000000  891.000000  891.000000  714.000000  891.000000   \n",
              "mean    446.000000    0.383838    2.308642   29.699118    0.523008   \n",
              "std     257.353842    0.486592    0.836071   14.526497    1.102743   \n",
              "min       1.000000    0.000000    1.000000    0.420000    0.000000   \n",
              "25%     223.500000    0.000000    2.000000   20.125000    0.000000   \n",
              "50%     446.000000    0.000000    3.000000   28.000000    0.000000   \n",
              "75%     668.500000    1.000000    3.000000   38.000000    1.000000   \n",
              "max     891.000000    1.000000    3.000000   80.000000    8.000000   \n",
              "\n",
              "            Parch        Fare  \n",
              "count  891.000000  891.000000  \n",
              "mean     0.381594   32.204208  \n",
              "std      0.806057   49.693429  \n",
              "min      0.000000    0.000000  \n",
              "25%      0.000000    7.910400  \n",
              "50%      0.000000   14.454200  \n",
              "75%      0.000000   31.000000  \n",
              "max      6.000000  512.329200  "
            ]
          },
          "metadata": {},
          "execution_count": 107
        }
      ],
      "metadata": {
        "id": "6TIbg4qmHY18",
        "outputId": "94179505-99b5-4772-83f5-c7c5ac3a9290"
      }
    },
    {
      "cell_type": "code",
      "execution_count": null,
      "source": [
        "# 타깃이 0과 1로 이루어졌는지 확인하기\n",
        "\n",
        "train_data[\"Survived\"].value_counts()"
      ],
      "outputs": [
        {
          "output_type": "execute_result",
          "data": {
            "text/plain": [
              "0    549\n",
              "1    342\n",
              "Name: Survived, dtype: int64"
            ]
          },
          "metadata": {},
          "execution_count": 108
        }
      ],
      "metadata": {
        "id": "r8dL4uOWHY18",
        "outputId": "be940453-0ceb-4299-bcb9-d77dda9bf795"
      }
    },
    {
      "cell_type": "code",
      "execution_count": null,
      "source": [
        "# 범주형 특성들을 확인하자\n",
        "\n",
        "train_data[\"Pclass\"].value_counts()"
      ],
      "outputs": [
        {
          "output_type": "execute_result",
          "data": {
            "text/plain": [
              "3    491\n",
              "1    216\n",
              "2    184\n",
              "Name: Pclass, dtype: int64"
            ]
          },
          "metadata": {},
          "execution_count": 109
        }
      ],
      "metadata": {
        "id": "3PYQxWJ8HY18",
        "outputId": "39e74cee-bdd6-4acc-973d-17cdb94ae9bf"
      }
    },
    {
      "cell_type": "code",
      "execution_count": null,
      "source": [
        "train_data[\"Sex\"].value_counts()"
      ],
      "outputs": [
        {
          "output_type": "execute_result",
          "data": {
            "text/plain": [
              "male      577\n",
              "female    314\n",
              "Name: Sex, dtype: int64"
            ]
          },
          "metadata": {},
          "execution_count": 110
        }
      ],
      "metadata": {
        "id": "Xp5tIuGHHY19",
        "outputId": "176e9651-1a96-4287-b76e-86a18bb11a4b"
      }
    },
    {
      "cell_type": "code",
      "execution_count": null,
      "source": [
        "train_data[\"Embarked\"].value_counts()"
      ],
      "outputs": [
        {
          "output_type": "execute_result",
          "data": {
            "text/plain": [
              "S    644\n",
              "C    168\n",
              "Q     77\n",
              "Name: Embarked, dtype: int64"
            ]
          },
          "metadata": {},
          "execution_count": 111
        }
      ],
      "metadata": {
        "id": "sZBcfTBJHY19",
        "outputId": "6ac864be-3c0f-4bf8-f10b-cd682b72cd14"
      }
    },
    {
      "cell_type": "markdown",
      "source": [
        "전처리 파이프라인을 만들어 보자"
      ],
      "metadata": {
        "id": "jjv6hR7GHY19"
      }
    },
    {
      "cell_type": "code",
      "execution_count": null,
      "source": [
        "from sklearn.base import BaseEstimator, TransformerMixin\n",
        "\n",
        "class DataFrameSelector(BaseEstimator, TransformerMixin):\n",
        "    def __init__(self, attribute_names):\n",
        "        self.attribute_names = attribute_names\n",
        "    def fit(self, X, y = None):\n",
        "        return self\n",
        "    def transform(self, X):\n",
        "        return X[self.attribute_names]\n"
      ],
      "outputs": [],
      "metadata": {
        "id": "tA4J0LIHHY19"
      }
    },
    {
      "cell_type": "markdown",
      "source": [
        "숫자 특성을 위한 파이프라인 만들기"
      ],
      "metadata": {
        "id": "9Wv-j3U8HY19"
      }
    },
    {
      "cell_type": "code",
      "execution_count": null,
      "source": [
        "from sklearn.pipeline import Pipeline\n",
        "from sklearn.impute import SimpleImputer\n",
        "\n",
        "num_pipeline = Pipeline([\n",
        "        (\"select_numeric\", DataFrameSelector([\"Age\", \"SibSp\", \"Parch\", \"Fare\"])),\n",
        "        (\"Imputer\", SimpleImputer(strategy = \"median\"))\n",
        "])"
      ],
      "outputs": [],
      "metadata": {
        "id": "b9aXpc7sHY19"
      }
    },
    {
      "cell_type": "code",
      "execution_count": null,
      "source": [
        "num_pipeline.fit_transform(train_data)"
      ],
      "outputs": [
        {
          "output_type": "execute_result",
          "data": {
            "text/plain": [
              "array([[22.    ,  1.    ,  0.    ,  7.25  ],\n",
              "       [38.    ,  1.    ,  0.    , 71.2833],\n",
              "       [26.    ,  0.    ,  0.    ,  7.925 ],\n",
              "       ...,\n",
              "       [28.    ,  1.    ,  2.    , 23.45  ],\n",
              "       [26.    ,  0.    ,  0.    , 30.    ],\n",
              "       [32.    ,  0.    ,  0.    ,  7.75  ]])"
            ]
          },
          "metadata": {},
          "execution_count": 114
        }
      ],
      "metadata": {
        "id": "FySsT3jLHY1-",
        "outputId": "a3567c29-9375-45b2-80b5-742d30709890"
      }
    },
    {
      "cell_type": "markdown",
      "source": [
        "문자열로 된 범주형 열을 위해 별도의 Imputer 클래스가 필요하다.  "
      ],
      "metadata": {
        "id": "gvYZipC9HY1-"
      }
    },
    {
      "cell_type": "code",
      "execution_count": null,
      "source": [
        "class MostFrequentImputer(BaseEstimator, TransformerMixin):\n",
        "    def fit(self, X, y = None):\n",
        "        self.most_frequent_ = pd.Series([X[c].value_counts().index[0] for c in X],\n",
        "                                        index = X.columns)\n",
        "        return self\n",
        "    def transform(self, X, y = None):\n",
        "        return X.fillna(self.most_frequent_)"
      ],
      "outputs": [],
      "metadata": {
        "id": "HcWaWlbSHY1-"
      }
    },
    {
      "cell_type": "code",
      "execution_count": null,
      "source": [
        "from sklearn.preprocessing import OneHotEncoder"
      ],
      "outputs": [],
      "metadata": {
        "id": "aI_qq8CGHY1-"
      }
    },
    {
      "cell_type": "markdown",
      "source": [
        "범주형 특성을 위한 파이프라인 만들기"
      ],
      "metadata": {
        "id": "t6Gj52Y2HY1-"
      }
    },
    {
      "cell_type": "code",
      "execution_count": null,
      "source": [
        "cat_pipeline = Pipeline([\n",
        "        (\"select_cat\", DataFrameSelector([\"Pclass\", \"Sex\", \"Embarked\"])),\n",
        "        (\"imputer\", MostFrequentImputer()),\n",
        "        (\"cat_encoder\", OneHotEncoder(sparse = False)),\n",
        "])"
      ],
      "outputs": [],
      "metadata": {
        "id": "ORwBx27JHY1-"
      }
    },
    {
      "cell_type": "code",
      "execution_count": null,
      "source": [
        "cat_pipeline.fit_transform(train_data)"
      ],
      "outputs": [
        {
          "output_type": "execute_result",
          "data": {
            "text/plain": [
              "array([[0., 0., 1., ..., 0., 0., 1.],\n",
              "       [1., 0., 0., ..., 1., 0., 0.],\n",
              "       [0., 0., 1., ..., 0., 0., 1.],\n",
              "       ...,\n",
              "       [0., 0., 1., ..., 0., 0., 1.],\n",
              "       [1., 0., 0., ..., 1., 0., 0.],\n",
              "       [0., 0., 1., ..., 0., 1., 0.]])"
            ]
          },
          "metadata": {},
          "execution_count": 120
        }
      ],
      "metadata": {
        "id": "LWFzOW5jHY1_",
        "outputId": "1b49d0f7-406a-4de1-e723-15b93d0fded9"
      }
    },
    {
      "cell_type": "markdown",
      "source": [
        "마지막으로 숫자와 범주형 파이프라인을 연결한다."
      ],
      "metadata": {
        "id": "ddfhs4DOHY1_"
      }
    },
    {
      "cell_type": "code",
      "execution_count": null,
      "source": [
        "from sklearn.pipeline import FeatureUnion\n",
        "preprocess_pipeline = FeatureUnion(transformer_list = [\n",
        "        (\"num_pipeline\", num_pipeline),\n",
        "        (\"cat_pipeline\", cat_pipeline),\n",
        "])"
      ],
      "outputs": [],
      "metadata": {
        "id": "w9_t49QbHY1_"
      }
    },
    {
      "cell_type": "markdown",
      "source": [
        "원본 데이터를 받아 머신러닝 모델에 주입할 숫자 입력 특성을 출력하는 전처리 파이프라인을 만들었다."
      ],
      "metadata": {
        "id": "-CR4-sIRHY1_"
      }
    },
    {
      "cell_type": "code",
      "execution_count": null,
      "source": [
        "X_train = preprocess_pipeline.fit_transform(train_data)\n",
        "X_train"
      ],
      "outputs": [
        {
          "output_type": "execute_result",
          "data": {
            "text/plain": [
              "array([[22.,  1.,  0., ...,  0.,  0.,  1.],\n",
              "       [38.,  1.,  0., ...,  1.,  0.,  0.],\n",
              "       [26.,  0.,  0., ...,  0.,  0.,  1.],\n",
              "       ...,\n",
              "       [28.,  1.,  2., ...,  0.,  0.,  1.],\n",
              "       [26.,  0.,  0., ...,  1.,  0.,  0.],\n",
              "       [32.,  0.,  0., ...,  0.,  1.,  0.]])"
            ]
          },
          "metadata": {},
          "execution_count": 122
        }
      ],
      "metadata": {
        "id": "v8MQl5SjHY1_",
        "outputId": "1f66991e-ff85-41f4-8099-7ae505cf6627"
      }
    },
    {
      "cell_type": "markdown",
      "source": [
        "레이블을 가져온다."
      ],
      "metadata": {
        "id": "LcVi7oKsHY2A"
      }
    },
    {
      "cell_type": "code",
      "execution_count": null,
      "source": [
        "y_train = train_data[\"Survived\"]"
      ],
      "outputs": [],
      "metadata": {
        "id": "Ib6oiPnWHY2A"
      }
    },
    {
      "cell_type": "markdown",
      "source": [
        "이제 분류기를 훈련시키자. 먼저 SVC로  "
      ],
      "metadata": {
        "id": "W8q8N7HHHY2A"
      }
    },
    {
      "cell_type": "code",
      "execution_count": null,
      "source": [
        "from sklearn.svm import SVC\n",
        "\n",
        "svm_clf = SVC(gamma = \"auto\")\n",
        "svm_clf.fit(X_train, y_train)"
      ],
      "outputs": [
        {
          "output_type": "execute_result",
          "data": {
            "text/plain": [
              "SVC(gamma='auto')"
            ]
          },
          "metadata": {},
          "execution_count": 125
        }
      ],
      "metadata": {
        "id": "GGnwZS1IHY2A",
        "outputId": "be3f4c02-7619-453b-8884-beec400fda71"
      }
    },
    {
      "cell_type": "markdown",
      "source": [
        "모델 훈련을 완료했고 이걸로 테스트 세트에 대한 예측 만들기"
      ],
      "metadata": {
        "id": "5dQKyPidHY2A"
      }
    },
    {
      "cell_type": "code",
      "execution_count": null,
      "source": [
        "X_test = preprocess_pipeline.transform(test_data)\n",
        "y_pred = svm_clf.predict(X_test)"
      ],
      "outputs": [],
      "metadata": {
        "id": "hBpQDep2HY2A"
      }
    },
    {
      "cell_type": "markdown",
      "source": [
        "예측을 완료했지만 교차 검증으로 모델이 얼마나 좋은지 평가해 보자"
      ],
      "metadata": {
        "id": "e9LtWd1_HY2A"
      }
    },
    {
      "cell_type": "code",
      "execution_count": null,
      "source": [
        "from sklearn.model_selection import cross_val_score\n",
        "\n",
        "svm_scores = cross_val_score(svm_clf, X_train, y_train, cv = 10)\n",
        "svm_scores.mean()"
      ],
      "outputs": [
        {
          "output_type": "execute_result",
          "data": {
            "text/plain": [
              "0.7329588014981274"
            ]
          },
          "metadata": {},
          "execution_count": 127
        }
      ],
      "metadata": {
        "id": "9qxSEgGPHY2A",
        "outputId": "c1350e38-7e8a-4b5d-e42d-bf33e382101a"
      }
    },
    {
      "cell_type": "markdown",
      "source": [
        "만족스러운 수치는 아니다.  \n",
        "RandomForestClassifier를 적용해 보자"
      ],
      "metadata": {
        "id": "Gz3HmZm2HY2B"
      }
    },
    {
      "cell_type": "code",
      "execution_count": null,
      "source": [
        "from sklearn.ensemble import RandomForestClassifier\n",
        "\n",
        "forest_clf = RandomForestClassifier(n_estimators = 100, random_state = 42)\n",
        "forest_scores = cross_val_score(forest_clf, X_train, y_train, cv = 10)\n",
        "forest_scores.mean()"
      ],
      "outputs": [
        {
          "output_type": "execute_result",
          "data": {
            "text/plain": [
              "0.8126466916354558"
            ]
          },
          "metadata": {},
          "execution_count": 128
        }
      ],
      "metadata": {
        "id": "Od8imiiCHY2B",
        "outputId": "f70d1074-4952-4702-8306-11246e36803a"
      }
    },
    {
      "cell_type": "markdown",
      "source": [
        "이전보다 꽤 높아졌다."
      ],
      "metadata": {
        "id": "L8WPztzaHY2B"
      }
    },
    {
      "cell_type": "code",
      "execution_count": null,
      "source": [
        "plt.figure(figsize = (8, 4))\n",
        "plt.plot([1]*10, svm_scores, \".\")\n",
        "plt.plot([2]*10, forest_scores, \".\")\n",
        "plt.boxplot([svm_scores, forest_scores], labels = (\"SVM\", \"Random Forest\"))\n",
        "plt.ylabel(\"Accuracy\", fontsize = 14)\n",
        "plt.show()"
      ],
      "outputs": [
        {
          "output_type": "display_data",
          "data": {
            "image/png": "[encoded data removed]",
            "text/plain": [
              "<Figure size 576x288 with 1 Axes>"
            ]
          },
          "metadata": {
            "needs_background": "light"
          }
        }
      ],
      "metadata": {
        "id": "R7CcnuGLHY2B",
        "outputId": "8e0b4e2c-82fe-4ea2-e4a6-2c982c506d65"
      }
    },
    {
      "cell_type": "code",
      "execution_count": null,
      "source": [
        "train_data[\"AgeBucket\"] = train_data[\"Age\"] // 15 * 15\n",
        "train_data[[\"AgeBucket\", \"Survived\"]].groupby(['AgeBucket']).mean()"
      ],
      "outputs": [
        {
          "output_type": "execute_result",
          "data": {
            "text/html": [
              "<div>\n",
              "<style scoped>\n",
              "    .dataframe tbody tr th:only-of-type {\n",
              "        vertical-align: middle;\n",
              "    }\n",
              "\n",
              "    .dataframe tbody tr th {\n",
              "        vertical-align: top;\n",
              "    }\n",
              "\n",
              "    .dataframe thead th {\n",
              "        text-align: right;\n",
              "    }\n",
              "</style>\n",
              "<table border=\"1\" class=\"dataframe\">\n",
              "  <thead>\n",
              "    <tr style=\"text-align: right;\">\n",
              "      <th></th>\n",
              "      <th>Survived</th>\n",
              "    </tr>\n",
              "    <tr>\n",
              "      <th>AgeBucket</th>\n",
              "      <th></th>\n",
              "    </tr>\n",
              "  </thead>\n",
              "  <tbody>\n",
              "    <tr>\n",
              "      <th>0.0</th>\n",
              "      <td>0.576923</td>\n",
              "    </tr>\n",
              "    <tr>\n",
              "      <th>15.0</th>\n",
              "      <td>0.362745</td>\n",
              "    </tr>\n",
              "    <tr>\n",
              "      <th>30.0</th>\n",
              "      <td>0.423256</td>\n",
              "    </tr>\n",
              "    <tr>\n",
              "      <th>45.0</th>\n",
              "      <td>0.404494</td>\n",
              "    </tr>\n",
              "    <tr>\n",
              "      <th>60.0</th>\n",
              "      <td>0.240000</td>\n",
              "    </tr>\n",
              "    <tr>\n",
              "      <th>75.0</th>\n",
              "      <td>1.000000</td>\n",
              "    </tr>\n",
              "  </tbody>\n",
              "</table>\n",
              "</div>"
            ],
            "text/plain": [
              "           Survived\n",
              "AgeBucket          \n",
              "0.0        0.576923\n",
              "15.0       0.362745\n",
              "30.0       0.423256\n",
              "45.0       0.404494\n",
              "60.0       0.240000\n",
              "75.0       1.000000"
            ]
          },
          "metadata": {},
          "execution_count": 130
        }
      ],
      "metadata": {
        "id": "O38Zz335HY2B",
        "outputId": "e5a1390f-e8f2-4799-e65d-6b4b7d1826ac"
      }
    },
    {
      "cell_type": "code",
      "execution_count": null,
      "source": [
        "train_data[\"RelativesOnboard\"] = train_data[\"SibSp\"] + train_data[\"Parch\"]\n",
        "train_data[[\"RelativesOnboard\", \"Survived\"]].groupby(['RelativesOnboard']).mean()"
      ],
      "outputs": [
        {
          "output_type": "execute_result",
          "data": {
            "text/html": [
              "<div>\n",
              "<style scoped>\n",
              "    .dataframe tbody tr th:only-of-type {\n",
              "        vertical-align: middle;\n",
              "    }\n",
              "\n",
              "    .dataframe tbody tr th {\n",
              "        vertical-align: top;\n",
              "    }\n",
              "\n",
              "    .dataframe thead th {\n",
              "        text-align: right;\n",
              "    }\n",
              "</style>\n",
              "<table border=\"1\" class=\"dataframe\">\n",
              "  <thead>\n",
              "    <tr style=\"text-align: right;\">\n",
              "      <th></th>\n",
              "      <th>Survived</th>\n",
              "    </tr>\n",
              "    <tr>\n",
              "      <th>RelativesOnboard</th>\n",
              "      <th></th>\n",
              "    </tr>\n",
              "  </thead>\n",
              "  <tbody>\n",
              "    <tr>\n",
              "      <th>0</th>\n",
              "      <td>0.303538</td>\n",
              "    </tr>\n",
              "    <tr>\n",
              "      <th>1</th>\n",
              "      <td>0.552795</td>\n",
              "    </tr>\n",
              "    <tr>\n",
              "      <th>2</th>\n",
              "      <td>0.578431</td>\n",
              "    </tr>\n",
              "    <tr>\n",
              "      <th>3</th>\n",
              "      <td>0.724138</td>\n",
              "    </tr>\n",
              "    <tr>\n",
              "      <th>4</th>\n",
              "      <td>0.200000</td>\n",
              "    </tr>\n",
              "    <tr>\n",
              "      <th>5</th>\n",
              "      <td>0.136364</td>\n",
              "    </tr>\n",
              "    <tr>\n",
              "      <th>6</th>\n",
              "      <td>0.333333</td>\n",
              "    </tr>\n",
              "    <tr>\n",
              "      <th>7</th>\n",
              "      <td>0.000000</td>\n",
              "    </tr>\n",
              "    <tr>\n",
              "      <th>10</th>\n",
              "      <td>0.000000</td>\n",
              "    </tr>\n",
              "  </tbody>\n",
              "</table>\n",
              "</div>"
            ],
            "text/plain": [
              "                  Survived\n",
              "RelativesOnboard          \n",
              "0                 0.303538\n",
              "1                 0.552795\n",
              "2                 0.578431\n",
              "3                 0.724138\n",
              "4                 0.200000\n",
              "5                 0.136364\n",
              "6                 0.333333\n",
              "7                 0.000000\n",
              "10                0.000000"
            ]
          },
          "metadata": {},
          "execution_count": 131
        }
      ],
      "metadata": {
        "id": "SJcQ5WQ3HY2C",
        "outputId": "90f2d1c9-6686-4754-ea1a-2089f69c96bd"
      }
    },
    {
      "cell_type": "markdown",
      "source": [
        "### 4. \n",
        "스팸 분류기 만들기"
      ],
      "metadata": {
        "id": "C8uqB1uRmpZp"
      }
    },
    {
      "cell_type": "code",
      "source": [
        ""
      ],
      "metadata": {
        "id": "bdXMjikvmrP3"
      },
      "execution_count": null,
      "outputs": []
    }
  ],
  "metadata": {
    "orig_nbformat": 4,
    "language_info": {
      "name": "python",
      "version": "3.9.6",
      "mimetype": "text/x-python",
      "codemirror_mode": {
        "name": "ipython",
        "version": 3
      },
      "pygments_lexer": "ipython3",
      "nbconvert_exporter": "python",
      "file_extension": ".py"
    },
    "kernelspec": {
      "name": "python3",
      "display_name": "Python 3.9.6 64-bit ('myenv': venv)"
    },
    "interpreter": {
      "hash": "db14ae103f93568e7329035f9dae10eea815d74dab9d87f6bd2f583844f8cdbd"
    },
    "colab": {
      "name": "03_classification.ipynb",
      "provenance": []
    },
    "accelerator": "GPU"
  },
  "nbformat": 4,
  "nbformat_minor": 0
}