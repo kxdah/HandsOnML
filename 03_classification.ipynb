{
  "cells": [
    {
      "cell_type": "markdown",
      "source": [
        "# 설정\n",
        "먼저 몇 개의 모듈을 임포트 한다. 맷플롯립 그래프를 인라인으로 출력하도록 만들고 그림을 저장하는 함수를 준비한다. 또한 파이썬 버전이 3.5 이상인지 확인한다."
      ],
      "metadata": {
        "id": "5P8m_vReHY1R"
      }
    },
    {
      "cell_type": "code",
      "execution_count": 1,
      "source": [
        "# 파이썬 >= 3.5 필수\n",
        "import sys\n",
        "assert sys.version_info >= (3, 5)                                                       \n",
        "\n",
        "# 사이킷런 >= 0.20 필수\n",
        "import sklearn\n",
        "assert sklearn.__version__ >= \"0.20\"\n",
        "\n",
        "# 공통 모듈 임포트\n",
        "import numpy as np\n",
        "import os\n",
        "\n",
        "# 노트북 실행 결과를 동일하게 유지하기 위해\n",
        "np.random.seed(42)\n",
        "\n",
        "# 깔끔한 그래픽 출력을 위해\n",
        "%matplotlib inline\n",
        "import matplotlib as mpl\n",
        "import matplotlib.pyplot as plt\n",
        "mpl.rc('axes', labelsize = 14)\n",
        "mpl.rc('xtick', labelsize = 12)\n",
        "mpl.rc('ytick', labelsize = 12)\n",
        "\n",
        "# 그림을 저장할 위치\n",
        "PROJECT_ROOT_DIR = \".\"\n",
        "CHAPTER_ID = \"classification\"\n",
        "IMAGES_PATH = os.path.join(PROJECT_ROOT_DIR, \"images\", CHAPTER_ID)\n",
        "os.makedirs(IMAGES_PATH, exist_ok = True)\n",
        "\n",
        "def save_fig(fig_id, tight_layout=True, fig_extension = \"png\", resolution = 300):\n",
        "    path = os.path.join(IMAGES_PATH, fig_id + \".\" + fig_extension)\n",
        "    print(\"그림 저장:\", fig_id)\n",
        "    if tight_layout:\n",
        "        plt.tight_layout()\n",
        "    plt.savefig(path, format = fig_extension, dpi = resolution)\n"
      ],
      "outputs": [],
      "metadata": {
        "id": "7VuVBTAMHY1U"
      }
    },
    {
      "cell_type": "markdown",
      "source": [
        "## 3.1 MNIST"
      ],
      "metadata": {
        "id": "1J970ejLHY1W"
      }
    },
    {
      "cell_type": "code",
      "execution_count": 2,
      "source": [
        "# MNIST 데이터 내려받기\n",
        "\n",
        "from sklearn.datasets import fetch_openml\n",
        "mnist = fetch_openml('mnist_784', version = 1, as_frame = False)\n",
        "mnist.keys()  # 사이킷런에서 읽어들인 데이터셋들은 일반적으로 비슷한 딕셔너리 구조를 갖는다."
      ],
      "outputs": [
        {
          "output_type": "execute_result",
          "data": {
            "text/plain": [
              "dict_keys(['data', 'target', 'frame', 'categories', 'feature_names', 'target_names', 'DESCR', 'details', 'url'])"
            ]
          },
          "metadata": {},
          "execution_count": 2
        }
      ],
      "metadata": {
        "id": "q1Voh0zKHY1W",
        "outputId": "71131978-9643-43b3-982f-951bcb15cac5",
        "colab": {
          "base_uri": "https://localhost:8080/"
        }
      }
    },
    {
      "cell_type": "code",
      "execution_count": 3,
      "source": [
        "# 살펴보기\n",
        "\n",
        "X, y = mnist[\"data\"], mnist[\"target\"]\n",
        "X.shape"
      ],
      "outputs": [
        {
          "output_type": "execute_result",
          "data": {
            "text/plain": [
              "(70000, 784)"
            ]
          },
          "metadata": {},
          "execution_count": 3
        }
      ],
      "metadata": {
        "id": "BzgaRkSyHY1X",
        "outputId": "e8c4afda-23e0-4c4e-acdc-1bebfd2c1999",
        "colab": {
          "base_uri": "https://localhost:8080/"
        }
      }
    },
    {
      "cell_type": "markdown",
      "source": [
        "70000 개의 이미지가 있고 각 이미지에는 784개의 특성(이미지가 28x28 픽셀이기 떄문에)이 있다는 의미  \n",
        "이때 특성이란 단순히 0(흰색)부터 255(검은색)까지의 픽셀 강도를 나타낸다."
      ],
      "metadata": {
        "id": "pSPx_GJKHY1Y"
      }
    },
    {
      "cell_type": "code",
      "execution_count": 4,
      "source": [
        "y.shape"
      ],
      "outputs": [
        {
          "output_type": "execute_result",
          "data": {
            "text/plain": [
              "(70000,)"
            ]
          },
          "metadata": {},
          "execution_count": 4
        }
      ],
      "metadata": {
        "id": "8_VYTHITHY1Y",
        "outputId": "42e83149-2f2e-4b01-ae83-fb9fdb152dbf",
        "colab": {
          "base_uri": "https://localhost:8080/"
        }
      }
    },
    {
      "cell_type": "code",
      "execution_count": 5,
      "source": [
        "28*28"
      ],
      "outputs": [
        {
          "output_type": "execute_result",
          "data": {
            "text/plain": [
              "784"
            ]
          },
          "metadata": {},
          "execution_count": 5
        }
      ],
      "metadata": {
        "id": "dWQmwd9bHY1Z",
        "outputId": "fcc51e7e-9a99-486e-9a9d-ab3ce299b8c4",
        "colab": {
          "base_uri": "https://localhost:8080/"
        }
      }
    },
    {
      "cell_type": "code",
      "execution_count": 6,
      "source": [
        "# 데이터셋에서 이미지 하나를 확인해 본다.\n",
        "# 샘플의 특성 벡터를 추출해서 28*28 배열로 크기를 바꾸고 맷플롯립의 imshow( )함수로 그려본다.\n",
        "\n",
        "%matplotlib inline\n",
        "import matplotlib as mpl\n",
        "import matplotlib.pyplot as plt\n",
        "\n",
        "some_digit = X[0]\n",
        "some_digit_image = some_digit.reshape(28, 28)  #.reshape() 함수로 1차원배열을 2차원 배열로 바꾼다.\n",
        "plt.imshow(some_digit_image, cmap = mpl.cm.binary)\n",
        "plt.axis(\"off\")\n",
        "\n",
        "save_fig(\"some_digit_plot\")\n",
        "plt.show()"
      ],
      "outputs": [
        {
          "output_type": "stream",
          "name": "stdout",
          "text": [
            "그림 저장: some_digit_plot\n"
          ]
        },
        {
          "output_type": "display_data",
          "data": {
            "image/png": "[encoded data removed]",
            "text/plain": [
              "<Figure size 432x288 with 1 Axes>"
            ]
          },
          "metadata": {
            "needs_background": "light"
          }
        }
      ],
      "metadata": {
        "id": "vJ-LN3UYHY1a",
        "outputId": "e90cfcdc-6e84-4ccd-9b6d-b87c06956bd7",
        "colab": {
          "base_uri": "https://localhost:8080/",
          "height": 315
        }
      }
    },
    {
      "cell_type": "code",
      "execution_count": 7,
      "source": [
        "# 위 그림의 레이블 확인\n",
        "\n",
        "y[0]"
      ],
      "outputs": [
        {
          "output_type": "execute_result",
          "data": {
            "application/vnd.google.colaboratory.intrinsic+json": {
              "type": "string"
            },
            "text/plain": [
              "'5'"
            ]
          },
          "metadata": {},
          "execution_count": 7
        }
      ],
      "metadata": {
        "id": "Atbt1hmrHY1b",
        "outputId": "d8ef68e5-a58a-4532-dde1-2b95f4c1e8e3",
        "colab": {
          "base_uri": "https://localhost:8080/",
          "height": 35
        }
      }
    },
    {
      "cell_type": "code",
      "execution_count": 8,
      "source": [
        "# 레이블은 문자열이다.\n",
        "# 머신러닝 알고리즘에서는 숫자를 기대하므로 정수로 변환한다.\n",
        "\n",
        "y = y.astype(np.uint8)"
      ],
      "outputs": [],
      "metadata": {
        "id": "NlB6CTv6HY1b"
      }
    },
    {
      "cell_type": "code",
      "execution_count": 9,
      "source": [
        "# MNIST 데이터셋에 들어 있는 다른 숫자이미지들도 출력\n",
        "\n",
        "def plot_digit(data):\n",
        "    image = data.reshape(28, 28)\n",
        "    plt.imshow(image, cmap = mpl.cm.binary,\n",
        "                interpolation = \"nearest\")\n",
        "    plt.axis(\"off\")"
      ],
      "outputs": [],
      "metadata": {
        "id": "6mAIjxcDHY1b"
      }
    },
    {
      "cell_type": "code",
      "execution_count": 10,
      "source": [
        "# 숫자 그림을 위한 추가 함수\n",
        "# 이해못함\n",
        "\n",
        "def plot_digits(instances, images_per_row = 10, **options):\n",
        "    size = 28\n",
        "    images_per_row = min(len(instances), images_per_row)\n",
        "    images = [instance.reshape(size, size) for instance in instances]\n",
        "    n_rows = (len(instances) - 1) // images_per_row + 1\n",
        "    row_images = []\n",
        "    n_empty = n_rows * images_per_row - len(instances)\n",
        "    images.append(np.zeros((size, size * n_empty)))\n",
        "    for row in range(n_rows):\n",
        "        rimages = images[row * images_per_row : (row + 1) * images_per_row]\n",
        "        row_images.append(np.concatenate(rimages, axis = 1))\n",
        "    image = np.concatenate(row_images, axis = 0)\n",
        "    plt.imshow(image, cmap = mpl.cm.binary, **options)\n",
        "    plt.axis(\"off\")"
      ],
      "outputs": [],
      "metadata": {
        "id": "3MiUaju4HY1c"
      }
    },
    {
      "cell_type": "code",
      "execution_count": 11,
      "source": [
        "plt.figure(figsize = (9, 9))\n",
        "example_images = X[:100]\n",
        "plot_digits(example_images, images_per_row = 10)\n",
        "save_fig(\"more_digits_plot\")\n",
        "plt.show()"
      ],
      "outputs": [
        {
          "output_type": "stream",
          "name": "stdout",
          "text": [
            "그림 저장: more_digits_plot\n"
          ]
        },
        {
          "output_type": "display_data",
          "data": {
            "image/png": "[encoded data removed]",
            "text/plain": [
              "<Figure size 648x648 with 1 Axes>"
            ]
          },
          "metadata": {
            "needs_background": "light"
          }
        }
      ],
      "metadata": {
        "id": "zdizgUzdHY1c",
        "outputId": "c314db28-c811-4233-8e06-05b51efee60f",
        "colab": {
          "base_uri": "https://localhost:8080/",
          "height": 675
        }
      }
    },
    {
      "cell_type": "code",
      "execution_count": 12,
      "source": [
        "# MNIST 데이터셋은 훈련세트와 테스트세트가 이미 나누어져 있다.\n",
        "\n",
        "X_train, X_test, y_train, y_test = X[:60000], X[60000:], y[:60000], y[60000:]"
      ],
      "outputs": [],
      "metadata": {
        "id": "zYJev1cAHY1d"
      }
    },
    {
      "cell_type": "markdown",
      "source": [
        "## 3.2 이진 분류기 훈련"
      ],
      "metadata": {
        "id": "XkV4Dg3WHY1d"
      }
    },
    {
      "cell_type": "code",
      "execution_count": 13,
      "source": [
        "# 분류 작업을 위해 타깃 벡터를 만든다.\n",
        "\n",
        "y_train_5 = (y_train == 5) \n",
        "y_test_5 = (y_test == 5)"
      ],
      "outputs": [],
      "metadata": {
        "id": "IgaTAezHHY1d"
      }
    },
    {
      "cell_type": "code",
      "execution_count": 14,
      "source": [
        "# 분류 모델 중 확률적 경사 하강법 분류기를 선택\n",
        "# SGDClassifier 모델을 만들고 전체 훈련 세트를 사용해 훈련시킨다.\n",
        "\n",
        "from sklearn.linear_model import SGDClassifier\n",
        "\n",
        "sgd_clf = SGDClassifier(max_iter = 1000, tol = 1e-3, random_state = 42)  # 결과를 이후에 똑같이 재현하기 위해 random_state 매개변수를 지정해 준다.\n",
        "sgd_clf.fit(X_train, y_train_5)"
      ],
      "outputs": [
        {
          "output_type": "execute_result",
          "data": {
            "text/plain": [
              "SGDClassifier(random_state=42)"
            ]
          },
          "metadata": {},
          "execution_count": 14
        }
      ],
      "metadata": {
        "id": "7FXvhgGgHY1e",
        "outputId": "21d7220a-8f7d-411d-f985-3f7201a8860d",
        "colab": {
          "base_uri": "https://localhost:8080/"
        }
      }
    },
    {
      "cell_type": "markdown",
      "source": [
        "모델 훈련을 완료했고 이제 예측을 해본다."
      ],
      "metadata": {
        "id": "8rhTmXmCHY1e"
      }
    },
    {
      "cell_type": "code",
      "execution_count": 15,
      "source": [
        "# 이전에 만들어둔 숫자5 이미지 감지해보기\n",
        "\n",
        "sgd_clf.predict([some_digit])"
      ],
      "outputs": [
        {
          "output_type": "execute_result",
          "data": {
            "text/plain": [
              "array([ True])"
            ]
          },
          "metadata": {},
          "execution_count": 15
        }
      ],
      "metadata": {
        "id": "9Pio3sYfHY1f",
        "outputId": "e775bb33-2d83-4e5d-9831-10d6bc53c8f7",
        "colab": {
          "base_uri": "https://localhost:8080/"
        }
      }
    },
    {
      "cell_type": "markdown",
      "source": [
        "분류기는 이 이미지가 5를 나타낸다고 추측했다는 의미 \"True\""
      ],
      "metadata": {
        "id": "xh31OgsFHY1f"
      }
    },
    {
      "cell_type": "markdown",
      "source": [
        "## 3.3 성능 측정\n",
        "### 3.3.1 교차 검증을 사용한 정확도 측정"
      ],
      "metadata": {
        "id": "Yuwv5D0OHY1g"
      }
    },
    {
      "cell_type": "code",
      "execution_count": 16,
      "source": [
        "# cross_val_score() 함수로 폴드가 3개인 k-겹 교차 검증을 사용해 SGDClassifier 모델을 평가한다.\n",
        "\n",
        "from sklearn.model_selection import cross_val_score\n",
        "\n",
        "cross_val_score(sgd_clf, X_train, y_train_5, cv = 3, scoring = \"accuracy\")"
      ],
      "outputs": [
        {
          "output_type": "execute_result",
          "data": {
            "text/plain": [
              "array([0.95035, 0.96035, 0.9604 ])"
            ]
          },
          "metadata": {},
          "execution_count": 16
        }
      ],
      "metadata": {
        "id": "16wTH1dtHY1g",
        "outputId": "1d4f986c-05c6-441a-b613-9277e0e97492",
        "colab": {
          "base_uri": "https://localhost:8080/"
        }
      }
    },
    {
      "cell_type": "markdown",
      "source": [
        "출력 결과를 보면 모두 95% 이상의 높은 정확도를 보이는 것을 알 수 있다."
      ],
      "metadata": {
        "id": "ott9MTzfHY1h"
      }
    },
    {
      "cell_type": "code",
      "execution_count": 17,
      "source": [
        "# 사이킷런의 cross_val_score()와 같은 기능을 수행하는 교차 검증을 직접 구현한 경우\n",
        "\n",
        "from sklearn.model_selection import StratifiedKFold\n",
        "from sklearn.base import clone\n",
        "\n",
        "skfolds = StratifiedKFold(n_splits = 3, random_state = 42, shuffle = True)\n",
        "\n",
        "for train_index, test_index in skfolds.split(X_train, y_train_5):\n",
        "    clone_clf = clone(sgd_clf)\n",
        "    X_train_folds = X_train[train_index]\n",
        "    y_train_folds = y_train_5[train_index]\n",
        "    X_test_fold = X_train[test_index]\n",
        "    y_test_fold = y_train_5[test_index]\n",
        "\n",
        "    clone_clf.fit(X_train_folds, y_train_folds)\n",
        "    y_pred = clone_clf.predict(X_test_fold)\n",
        "    n_correct = sum(y_pred == y_test_fold)\n",
        "    print(n_correct / len(y_pred))"
      ],
      "outputs": [
        {
          "output_type": "stream",
          "name": "stdout",
          "text": [
            "0.9669\n",
            "0.91625\n",
            "0.96785\n"
          ]
        }
      ],
      "metadata": {
        "id": "WlMw7TKLHY1h",
        "outputId": "660b6c72-311b-45c0-8cf1-421b2140ab40",
        "colab": {
          "base_uri": "https://localhost:8080/"
        }
      }
    },
    {
      "cell_type": "code",
      "execution_count": 18,
      "source": [
        "# 모든 이미지를 '5 아님' 클래스로 분류하는 더미 분류기를 만들어 비교해 본다.\n",
        "\n",
        "from sklearn.base import BaseEstimator\n",
        "\n",
        "class Never5Classifier(BaseEstimator):\n",
        "    def fit(self, X, y = None):\n",
        "        return self\n",
        "    def predict(self, X):\n",
        "        return np.zeros((len(X), 1), dtype = bool)"
      ],
      "outputs": [],
      "metadata": {
        "id": "PUouxyQlHY1h"
      }
    },
    {
      "cell_type": "code",
      "execution_count": 19,
      "source": [
        "# 모델의 정확도 추측해 보기\n",
        "\n",
        "never_5_clf = Never5Classifier()\n",
        "cross_val_score(never_5_clf, X_train, y_train_5, cv = 3, scoring = \"accuracy\")"
      ],
      "outputs": [
        {
          "output_type": "execute_result",
          "data": {
            "text/plain": [
              "array([0.91125, 0.90855, 0.90915])"
            ]
          },
          "metadata": {},
          "execution_count": 19
        }
      ],
      "metadata": {
        "id": "Q5sApxblHY1i",
        "outputId": "3f9e3a6b-4a50-4214-8ee1-bddc6670be11",
        "colab": {
          "base_uri": "https://localhost:8080/"
        }
      }
    },
    {
      "cell_type": "markdown",
      "source": [
        "출력해 보면 마찬가지로 높은 정확도를 띈다.  \n",
        "애초에 이미지의 10% 정도만 숫자 5이기 때문에 무조건 '5 아님' 으로 예측하면 정확히 맞출 확률이 90% 다.  \n",
        "이처럼 **불균형한 데이터셋** (어떤 클래스가 다른 것보다 월등히 많은 경우)을 다룰 때는 정확도는 분류기의 성능 측정 지표로 선호되지 않는다.  "
      ],
      "metadata": {
        "id": "3_6ND9sTHY1i"
      }
    },
    {
      "cell_type": "markdown",
      "source": [
        "### 3.3.2 오차 행렬\n",
        "분류기의 성능을 평가하는 더 좋은 방법.  \n",
        "예를 들어 분류기가 숫자 5의 이미지를 3으로 잘못 분류한 횟수를 알고 싶다면 오차 행렬의 5행 3열을 보면 된다."
      ],
      "metadata": {
        "id": "R5oZtIoxHY1i"
      }
    },
    {
      "cell_type": "code",
      "execution_count": 20,
      "source": [
        "# 오차 행렬을 만들려면 실제 타깃과 비교할 예측값이 필요한데 이때 테스트 세트로 예측값을 만드는 것이 아니라\n",
        "# cross_val_predict() 메서드를 사용한다.\n",
        "\n",
        "from sklearn.model_selection import cross_val_predict\n",
        "\n",
        "y_train_pred = cross_val_predict(sgd_clf, X_train, y_train_5, cv = 3)\n",
        "\n",
        "# cross_val_predict()는 교차 검증을 수행하고 각 테스트 폴드에서 얻은 예측을 반환한다.\n",
        "# 즉 훈련 세트의 모든 샘플에 대한 예측을 얻게 된다."
      ],
      "outputs": [],
      "metadata": {
        "id": "YME1Ng1YHY1i"
      }
    },
    {
      "cell_type": "code",
      "execution_count": 21,
      "source": [
        "# 오차 행렬 만들기\n",
        "\n",
        "from sklearn.metrics import confusion_matrix\n",
        "\n",
        "confusion_matrix(y_train_5, y_train_pred)"
      ],
      "outputs": [
        {
          "output_type": "execute_result",
          "data": {
            "text/plain": [
              "array([[53892,   687],\n",
              "       [ 1891,  3530]])"
            ]
          },
          "metadata": {},
          "execution_count": 21
        }
      ],
      "metadata": {
        "id": "wqDschpHHY1j",
        "outputId": "b5bfe3bf-524e-4c08-b11a-4a827b9829d3",
        "colab": {
          "base_uri": "https://localhost:8080/"
        }
      }
    },
    {
      "cell_type": "markdown",
      "source": [
        "1행 : 진짜 음성 ('5 아님'을 '5 아님'으로 분류)  |  거짓 양성 ('5 아님'을 '5' 라고 분류)  \n",
        "2행 : 거짓 음성 (''5'를 '5 아님'으로 분류)  | 진짜 양성 ('5'를 '5'라고 분류)  \n",
        "완벽한 분류기라면 오차 행렬의 주대각선만 0이 아닌 값을 가진다."
      ],
      "metadata": {
        "id": "1I71u8nI-j8y"
      }
    },
    {
      "cell_type": "code",
      "execution_count": 23,
      "source": [
        "y_train_5.shape"
      ],
      "outputs": [
        {
          "output_type": "execute_result",
          "data": {
            "text/plain": [
              "(60000,)"
            ]
          },
          "metadata": {},
          "execution_count": 23
        }
      ],
      "metadata": {
        "id": "5jLViUHSHY1j",
        "outputId": "27c0cb4e-ccbd-4aa2-a7a1-3080c941d560",
        "colab": {
          "base_uri": "https://localhost:8080/"
        }
      }
    },
    {
      "cell_type": "code",
      "execution_count": 24,
      "source": [
        "# 완벽한 분류기인 경우\n",
        "y_train_perfect_predictions = y_train_5\n",
        "confusion_matrix(y_train_5, y_train_perfect_predictions)\n",
        "\n",
        "# 전부 진짜양성 혹은 진짜음성에만 해당"
      ],
      "outputs": [
        {
          "output_type": "execute_result",
          "data": {
            "text/plain": [
              "array([[54579,     0],\n",
              "       [    0,  5421]])"
            ]
          },
          "metadata": {},
          "execution_count": 24
        }
      ],
      "metadata": {
        "id": "BqOkjY2yHY1j",
        "outputId": "7fabe277-1bb6-4f7c-e22d-0362ab805681",
        "colab": {
          "base_uri": "https://localhost:8080/"
        }
      }
    },
    {
      "cell_type": "markdown",
      "source": [
        "오차 행렬이 많은 정보를 제공해주지만 더 요약된 지표가 필요할 때도 있다.  \n",
        "**양성 예측의 정확도**  \n",
        "이를 분류기의 **정밀도**라고 한다.  \n",
        "정밀도는 **재현율**이라는 또 다른 지표와 같이 사용하는 것이 일반적이다.  \n",
        "### 3.3.3 정밀도와 재현율"
      ],
      "metadata": {
        "id": "1Uccmqle_n0U"
      }
    },
    {
      "cell_type": "code",
      "execution_count": 26,
      "source": [
        "from sklearn.metrics import precision_score, recall_score\n",
        "\n",
        "precision_score(y_train_5, y_train_pred)  # 정밀도"
      ],
      "outputs": [
        {
          "output_type": "execute_result",
          "data": {
            "text/plain": [
              "0.8370879772350012"
            ]
          },
          "metadata": {},
          "execution_count": 26
        }
      ],
      "metadata": {
        "id": "lKSrmNYNHY1k",
        "outputId": "7840003b-4a34-44c2-f7d9-627efb5fea9b",
        "colab": {
          "base_uri": "https://localhost:8080/"
        }
      }
    },
    {
      "cell_type": "markdown",
      "source": [
        "즉 **5로 판별된 이미지 중** 83.7%만 정확하다."
      ],
      "metadata": {
        "id": "Ayp10fIxBOt0"
      }
    },
    {
      "cell_type": "code",
      "source": [
        "cm = confusion_matrix(y_train_5, y_train_pred)  # 오차 행렬을 만들고\n",
        "cm[1, 1] / (cm[0, 1] + cm[1, 1])  # 직접 숫자를 대입해서 계산해보니 위의 메서드로 한 값과 동일하다."
      ],
      "metadata": {
        "id": "yNn_OyThB3cE",
        "outputId": "ce9cb921-db00-4cea-dd55-ed7773cf4b0c",
        "colab": {
          "base_uri": "https://localhost:8080/"
        }
      },
      "execution_count": 28,
      "outputs": [
        {
          "output_type": "execute_result",
          "data": {
            "text/plain": [
              "0.8370879772350012"
            ]
          },
          "metadata": {},
          "execution_count": 28
        }
      ]
    },
    {
      "cell_type": "code",
      "source": [
        "recall_score(y_train_5, y_train_pred)  # 재현율"
      ],
      "metadata": {
        "id": "uHntYnMrBlSs",
        "outputId": "fe696dda-b939-4f50-9176-1f5bca4697e5",
        "colab": {
          "base_uri": "https://localhost:8080/"
        }
      },
      "execution_count": 29,
      "outputs": [
        {
          "output_type": "execute_result",
          "data": {
            "text/plain": [
              "0.6511713705958311"
            ]
          },
          "metadata": {},
          "execution_count": 29
        }
      ]
    },
    {
      "cell_type": "markdown",
      "source": [
        "**전체 숫자 5**에서 65.1%만 감지했다."
      ],
      "metadata": {
        "id": "ga5I2iLABogW"
      }
    },
    {
      "cell_type": "code",
      "execution_count": 30,
      "source": [
        "cm[1, 1] / (cm[1, 0] + cm[1, 1])"
      ],
      "outputs": [
        {
          "output_type": "execute_result",
          "data": {
            "text/plain": [
              "0.6511713705958311"
            ]
          },
          "metadata": {},
          "execution_count": 30
        }
      ],
      "metadata": {
        "id": "WJm6diwVHY1l",
        "outputId": "173b32c9-d90d-481d-c050-808b1c85b31c",
        "colab": {
          "base_uri": "https://localhost:8080/"
        }
      }
    },
    {
      "cell_type": "markdown",
      "source": [
        "정밀도와 재현율을 $F_1$ 점수 라고 하는 하나의 숫자로 표현할 수 있다.  \n",
        "$F_1$ 점수는 정밀도와 재현율의 조화 평균이다."
      ],
      "metadata": {
        "id": "ySJs9fNrCGez"
      }
    },
    {
      "cell_type": "code",
      "execution_count": 31,
      "source": [
        "from sklearn.metrics import f1_score\n",
        "\n",
        "f1_score(y_train_5, y_train_pred)"
      ],
      "outputs": [
        {
          "output_type": "execute_result",
          "data": {
            "text/plain": [
              "0.7325171197343846"
            ]
          },
          "metadata": {},
          "execution_count": 31
        }
      ],
      "metadata": {
        "id": "YLz4v3PIHY1l",
        "outputId": "28db1105-031c-4d65-e12b-88ea627ff88a",
        "colab": {
          "base_uri": "https://localhost:8080/"
        }
      }
    },
    {
      "cell_type": "markdown",
      "source": [
        "### 3.3.4 정밀도/재현율 트레이드오프"
      ],
      "metadata": {
        "id": "zCH_2DRxDLbq"
      }
    },
    {
      "cell_type": "code",
      "execution_count": 32,
      "source": [
        "# 사이킷런에서 임곗값을 지정할 수는 없지만 예측에 사용한 점수는 확인할 수 있다.\n",
        "# predict() 대신 decision_function()을 호출하면 각 샘플의 점수를 얻을 수 있다.\n",
        "# 이 점수를 기반으로 원하는 임곗값을 정해 예측을 만들 수 있다.\n",
        "\n",
        "y_scores = sgd_clf.decision_function([some_digit])  # 결정 함수로 샘플의 점수 계산\n",
        "y_scores  "
      ],
      "outputs": [
        {
          "output_type": "execute_result",
          "data": {
            "text/plain": [
              "array([2164.22030239])"
            ]
          },
          "metadata": {},
          "execution_count": 32
        }
      ],
      "metadata": {
        "id": "ECQ422M6HY1l",
        "outputId": "203eb088-76ad-4a95-be28-9d24a7011d83",
        "colab": {
          "base_uri": "https://localhost:8080/"
        }
      }
    },
    {
      "cell_type": "code",
      "execution_count": 33,
      "source": [
        "threshold = 0\n",
        "y_some_digit_pred = (y_scores > threshold)\n",
        "y_some_digit_pred \n",
        "\n",
        "# 임곗값이 0이기 때문에 위 코드는 predict() 메서드와 같은 결과 True 를 반환한다.\n",
        "# 즉 predict()도 0보다 큰 경우를 양성을 예측한다.\n",
        "# 아래에서는 임곗값을 높게 설정해 본다."
      ],
      "outputs": [
        {
          "output_type": "execute_result",
          "data": {
            "text/plain": [
              "array([ True])"
            ]
          },
          "metadata": {},
          "execution_count": 33
        }
      ],
      "metadata": {
        "id": "p9pm-aSVHY1m",
        "outputId": "612b4542-b6e9-404f-9264-2370be1e0404",
        "colab": {
          "base_uri": "https://localhost:8080/"
        }
      }
    },
    {
      "cell_type": "code",
      "execution_count": 34,
      "source": [
        "threshold = 8000\n",
        "y_some_digit_pred = (y_scores > threshold)\n",
        "y_some_digit_pred\n",
        "\n",
        "# 임곗값을 높이면 재현율이 줄어드는 것을 결과로 확인할 수 있다.\n",
        "# \"이미지가 실제로 숫자 5이고 임곗값이 0일 때는 분류기가 이를 감지했지만, 임곗값을 높이면 놓치게 된다\""
      ],
      "outputs": [
        {
          "output_type": "execute_result",
          "data": {
            "text/plain": [
              "array([False])"
            ]
          },
          "metadata": {},
          "execution_count": 34
        }
      ],
      "metadata": {
        "id": "XkS4pJU5HY1m",
        "outputId": "d65edf47-b9a6-4867-ed91-d688f55e8978",
        "colab": {
          "base_uri": "https://localhost:8080/"
        }
      }
    },
    {
      "cell_type": "code",
      "execution_count": 35,
      "source": [
        "# 적절한 임곗값을 찾으려면 cross_val_predict() 로 훈련 세트에 있는 모든 샘플의 점수를 구해야 한다.\n",
        "# 이때 예측 결과가 아니라 결정 점수를 반환 받는다.\n",
        "# 이 점수로 precision_recall_curve() 함수를 사용하여 가능한 모든 임곗값에 대한 정밀도와 재현율을 계산할 수 있다.\n",
        "\n",
        "y_scores = cross_val_predict(sgd_clf, X_train, y_train_5, cv = 3, method = \"decision_function\")\n",
        "\n",
        "# 예측 결과가 아니라 결정 점수를 반환"
      ],
      "outputs": [],
      "metadata": {
        "id": "FVtl1_naHY1m"
      }
    },
    {
      "cell_type": "code",
      "execution_count": 36,
      "source": [
        "from sklearn.metrics import precision_recall_curve\n",
        "\n",
        "precisions, recalls, thresholds = precision_recall_curve(y_train_5, y_scores)\n",
        "\n",
        "#  임곗값의 함수로 정밀도와 재현율을 그려본다."
      ],
      "outputs": [],
      "metadata": {
        "id": "LybRqm9zHY1m"
      }
    },
    {
      "cell_type": "code",
      "execution_count": 37,
      "source": [
        "def plot_precision_recall_vs_threshold(precisions, recalls, thresholds):\n",
        "    plt.plot(thresholds, precisions[:-1], \"b--\", label = \"Precisions\", linewidth = 2)\n",
        "    plt.plot(thresholds, recalls[:-1], \"g-\", label = \"Recall\", linewidth = 2)\n",
        "    plt.legend(loc = \"center right\", fontsize = 16)\n",
        "    plt.xlabel(\"Threshold\", fontsize = 16)\n",
        "    plt.grid(True)\n",
        "    plt.axis([-50000, 50000, 0, 1])\n",
        "\n",
        "\n",
        "recall_90_precision = recalls[np.argmax(precisions >= 0.90)]\n",
        "threshold_90_precision = thresholds[np.argmax(precisions >= 0.90)]\n",
        "\n",
        "plt.figure(figsize = (8, 4))\n",
        "plot_precision_recall_vs_threshold(precisions, recalls, thresholds)\n",
        "plt.plot([threshold_90_precision, threshold_90_precision], [0., 0.9], \"r:\")\n",
        "plt.plot([-50000, threshold_90_precision], [0.9, 0.9], \"r:\")\n",
        "plt.plot([-50000, threshold_90_precision], [recall_90_precision, recall_90_precision], \"r:\")\n",
        "plt.plot([threshold_90_precision], [0.9], \"ro\")\n",
        "plt.plot([threshold_90_precision], [recall_90_precision], \"ro\")\n",
        "save_fig(\"precision_recall_vs_threshold_plot\")\n",
        "plt.show()"
      ],
      "outputs": [
        {
          "output_type": "stream",
          "name": "stdout",
          "text": [
            "그림 저장: precision_recall_vs_threshold_plot\n"
          ]
        },
        {
          "output_type": "display_data",
          "data": {
            "image/png": "[encoded data removed]",
            "text/plain": [
              "<Figure size 576x288 with 1 Axes>"
            ]
          },
          "metadata": {
            "needs_background": "light"
          }
        }
      ],
      "metadata": {
        "id": "PM-Z-6QfHY1m",
        "outputId": "5af37a28-a1f2-460f-9f3a-640fa2856d75",
        "colab": {
          "base_uri": "https://localhost:8080/",
          "height": 315
        }
      }
    },
    {
      "cell_type": "code",
      "execution_count": 38,
      "source": [
        "# 좋은 정밀도/재현율 트레이드오프를 선택하는 방법은 재현율에 대한 정밀도 곡선 그래프를 그려보는 것 \n",
        "def plot_precision_vs_recall(precisions, recalls):\n",
        "    plt.plot(recalls, precisions, \"b-\", linewidth = 2)\n",
        "    plt.xlabel(\"Recall\", fontsize = 16)\n",
        "    plt.ylabel(\"Precision\", fontsize = 16)\n",
        "    plt.axis([0, 1, 0, 1])\n",
        "    plt.grid(True)\n",
        "\n",
        "plt.figure(figsize = (8, 6))\n",
        "plot_precision_vs_recall(precisions, recalls)\n",
        "plt.plot([recall_90_precision, recall_90_precision], [0., 0.9], \"r:\")\n",
        "plt.plot([0.0, recall_90_precision], [0.9, 0.9], \"r:\")\n",
        "plt.plot([recall_90_precision], [0.9], \"ro\")\n",
        "save_fig(\"precision_vs_recall_plot\")\n",
        "plt.show()\n",
        "\n",
        "# 아래의 그래프를 보면 재현율 80% 근처에서 정밀도가 급격하게 줄어들기 시작한다.\n",
        "# 이 하강점 직전을 정밀도/재현율 트레이드오프로 선택하는 것이 좋다."
      ],
      "outputs": [
        {
          "output_type": "stream",
          "name": "stdout",
          "text": [
            "그림 저장: precision_vs_recall_plot\n"
          ]
        },
        {
          "output_type": "display_data",
          "data": {
            "image/png": "[encoded data removed]",
            "text/plain": [
              "<Figure size 576x432 with 1 Axes>"
            ]
          },
          "metadata": {
            "needs_background": "light"
          }
        }
      ],
      "metadata": {
        "id": "Tw-jJ4XMHY1n",
        "outputId": "5873d58b-1360-4f81-cec4-b909248c257b",
        "colab": {
          "base_uri": "https://localhost:8080/",
          "height": 459
        }
      }
    },
    {
      "cell_type": "code",
      "execution_count": 39,
      "source": [
        "# 최소한 90% 정밀도가 되는 가장 낮은 임계값을 찾아보자\n",
        "# np.argmax()는 최댓값의 첫 번째 인덱스를 반환한다.\n",
        "\n",
        "threshold_90_precision = thresholds[np.argmax(precisions >= 0.90)]\n",
        "threshold_90_precision"
      ],
      "outputs": [
        {
          "output_type": "execute_result",
          "data": {
            "text/plain": [
              "3370.0194991439557"
            ]
          },
          "metadata": {},
          "execution_count": 39
        }
      ],
      "metadata": {
        "id": "oLm1jJyxHY1n",
        "outputId": "40823459-934b-4093-8823-d46cbc88924a",
        "colab": {
          "base_uri": "https://localhost:8080/"
        }
      }
    },
    {
      "cell_type": "code",
      "execution_count": 40,
      "source": [
        "thresholds"
      ],
      "outputs": [
        {
          "output_type": "execute_result",
          "data": {
            "text/plain": [
              "array([-106527.45300471, -105763.22240074, -105406.2965229 , ...,\n",
              "         38871.26391927,   42216.05562787,   49441.43765905])"
            ]
          },
          "metadata": {},
          "execution_count": 40
        }
      ],
      "metadata": {
        "id": "VXMkoX0bHY1n",
        "outputId": "0ae8b66a-a8e4-4f3a-c41c-0850af36d5e7",
        "colab": {
          "base_uri": "https://localhost:8080/"
        }
      }
    },
    {
      "cell_type": "code",
      "execution_count": 41,
      "source": [
        "# 훈련 세트에 대한 예측을 만들려면 분류기의 predict()메서드 대신 아래의 코드를 실행한다.\n",
        "\n",
        "y_train_pred_90 = (y_scores >= threshold_90_precision)"
      ],
      "outputs": [],
      "metadata": {
        "id": "7tDCFHBsHY1o"
      }
    },
    {
      "cell_type": "code",
      "execution_count": 42,
      "source": [
        "# 위의 예측에 대한 정밀도와 재현율을 확인해 보자\n",
        "\n",
        "precision_score(y_train_5, y_train_pred_90)"
      ],
      "outputs": [
        {
          "output_type": "execute_result",
          "data": {
            "text/plain": [
              "0.9000345901072293"
            ]
          },
          "metadata": {},
          "execution_count": 42
        }
      ],
      "metadata": {
        "id": "heX2jb2QHY1o",
        "outputId": "c1a134d3-c3b1-4501-c083-5845397b88e9",
        "colab": {
          "base_uri": "https://localhost:8080/"
        }
      }
    },
    {
      "cell_type": "code",
      "execution_count": 43,
      "source": [
        "recall_score(y_train_5, y_train_pred_90)"
      ],
      "outputs": [
        {
          "output_type": "execute_result",
          "data": {
            "text/plain": [
              "0.4799852425751706"
            ]
          },
          "metadata": {},
          "execution_count": 43
        }
      ],
      "metadata": {
        "id": "jEtM6K2NHY1o",
        "outputId": "49df1e37-9369-4acf-db62-b708353ec643",
        "colab": {
          "base_uri": "https://localhost:8080/"
        }
      }
    },
    {
      "cell_type": "markdown",
      "source": [
        "정밀도 90% 를 달성한 분류기를 만들었다.  \n",
        "하지만 이때 재현율이 너무 낮다면 높은 정밀도의 분류기는 전혀 유용하지 않다."
      ],
      "metadata": {
        "id": "VDmRX875GUw2"
      }
    },
    {
      "cell_type": "markdown",
      "source": [
        "### 3.3.5 ROC 곡선\n",
        "재현율 = \"진짜 양성 비율\"  \n",
        "ROC 곡선은 민감도(재현율)에 대한 1-특이도 그래프다."
      ],
      "metadata": {
        "id": "n3vKsydMHY1o"
      }
    },
    {
      "cell_type": "code",
      "execution_count": 44,
      "source": [
        "# roc_curve()함수로 여러 임곗값에서의 TPR과 FRP를 계산할 수 있다.\n",
        "\n",
        "from sklearn.metrics import roc_curve\n",
        "\n",
        "fpr, tpr, thresholds = roc_curve(y_train_5, y_scores)  # y_score의 값이 임곗값보다 크면 양성 클래스, 아니면 음성 클래스"
      ],
      "outputs": [],
      "metadata": {
        "id": "kEbg8uuUHY1o"
      }
    },
    {
      "cell_type": "code",
      "execution_count": null,
      "source": [
        "# TPR에 대한 FPR 곡선\n",
        "\n",
        "def plot_roc_curve(fpr, tpr, label = None):\n",
        "    plt.plot(fpr, tpr, linewidth = 2, label = label)\n",
        "    plt.plot([0, 1], [0 ,1], 'k--')  # 대각 점선\n",
        "    plt.axis([0, 1, 0, 1])  # 축의 범위 지정\n",
        "    plt.xlabel('False Positive Rate (Fall-Out)', fontsize = 16)  # 축 이름\n",
        "    plt.ylabel('True Positive Rate (Recall)', fontsize = 16)\n",
        "    plt.grid(True)  # 그리드 추가\n",
        "\n",
        "plt.figure(figsize = (8, 6))\n",
        "plot_roc_curve(fpr, tpr)\n",
        "fpr_90 = fpr[np.argmax(tpr >= recall_90_precision)]\n",
        "plt.plot([fpr_90, fpr_90], [0., recall_90_precision], \"r:\")\n",
        "plt.plot([fpr_90], [recall_90_precision], \"ro\")\n",
        "save_fig(\"roc_curve_plot\")\n",
        "plt.show()\n",
        "\n",
        "# 출력된 그래프에서 점선은 완전한 랜덤 분류기의 ROC 곡선을 나타낸다.\n",
        "# 좋은 분류기는 이 점선에서 최대한 멀리 떨어져야 한다."
      ],
      "outputs": [
        {
          "output_type": "stream",
          "name": "stdout",
          "text": [
            "그림 저장: roc_curve_plot\n"
          ]
        },
        {
          "output_type": "display_data",
          "data": {
            "image/png": "[encoded data removed]",
            "text/plain": [
              "<Figure size 576x432 with 1 Axes>"
            ]
          },
          "metadata": {
            "needs_background": "light"
          }
        }
      ],
      "metadata": {
        "id": "sFupuRmZHY1p",
        "outputId": "6c2767e6-78b9-42bb-cc54-b7abec286648"
      }
    },
    {
      "cell_type": "code",
      "execution_count": null,
      "source": [
        "# 사이킷런의 ROC의 AUC를 계산하는 함수\n",
        "\n",
        "from sklearn.metrics import roc_auc_score\n",
        "\n",
        "roc_auc_score(y_train_5, y_scores)"
      ],
      "outputs": [
        {
          "output_type": "execute_result",
          "data": {
            "text/plain": [
              "0.9604938554008616"
            ]
          },
          "metadata": {},
          "execution_count": 43
        }
      ],
      "metadata": {
        "id": "MIfXl5JpHY1p",
        "outputId": "fde0ca81-55bd-4cd3-d7cb-d189b60cbbe1"
      }
    },
    {
      "cell_type": "code",
      "execution_count": null,
      "source": [
        "# RandomForestClassifier 를 훈련시켜서 SGDClassifier의 ROC 곡선과 ROC AUC 점수를 비교해 보자.\n",
        "# 먼저 훈련세트의 샘플에 대한 점수를 알아야 한다.\n",
        "# predict_proba()메서드를 이용한다.\n",
        "# predict_proba()메서드는 샘플이 행, 클래스가 열이고 샘플이 주어진 클래스에 속할 확률을 담은 배열을 반환한다.\n",
        "\n",
        "from sklearn.ensemble import RandomForestClassifier\n",
        "\n",
        "forest_clf = RandomForestClassifier(n_estimators = 100, random_state = 42)\n",
        "y_probas_forest = cross_val_predict(forest_clf, X_train, y_train_5, cv = 3, \n",
        "                                    method = \"predict_proba\")"
      ],
      "outputs": [],
      "metadata": {
        "id": "2r1x25W1HY1p"
      }
    },
    {
      "cell_type": "code",
      "execution_count": null,
      "source": [
        "y_scores_forest = y_probas_forest[:, 1]  # 점수 대신 양성 클래스의 확률을 넣어준다.\n",
        "fpr_forest, tpr_forest, thresholds_forest = roc_curve(y_train_5, y_scores_forest)"
      ],
      "outputs": [],
      "metadata": {
        "id": "ysO0rYN4HY1q"
      }
    },
    {
      "cell_type": "code",
      "execution_count": null,
      "source": [
        "# 이제 ROC 곡선을 그려보자.\n",
        "\n",
        "recall_for_forest = tpr_forest[np.argmax(fpr_forest >= fpr_90)]\n",
        "\n",
        "plt.figure(figsize = (8, 6))\n",
        "plt.plot(fpr, tpr, \"b:\", linewidth = 2, label = \"SGD\")\n",
        "plot_roc_curve(fpr_forest, tpr_forest, \"Random Forest\")\n",
        "plt.plot([fpr_90, fpr_90], [0., recall_90_precision], \"r:\")\n",
        "plt.plot([0.0, fpr_90], [recall_90_precision, recall_90_precision], \"r:\")\n",
        "plt.plot([fpr_90], [recall_90_precision], \"ro\")\n",
        "plt.plot([fpr_90, fpr_90], [0., recall_for_forest], \"r:\")\n",
        "plt.plot([fpr_90], [recall_for_forest], \"ro\")\n",
        "plt.grid(True)\n",
        "plt.legend(loc = \"lower right\", fontsize = 16)\n",
        "save_fig(\"roc_curve_comparison_plot\")\n",
        "plt.show()\n",
        "\n",
        "# 나타난 그래프를 보면 RandomForestClassifier의 ROC 곡선이 왼쪽 위 모서리에 더 가까우며 SGDClassifier 보다 좋아 보인다.\n",
        "# 당연히 ROC AUC 점수도 훨씬 높다."
      ],
      "outputs": [
        {
          "output_type": "stream",
          "name": "stdout",
          "text": [
            "그림 저장: roc_curve_comparison_plot\n"
          ]
        },
        {
          "output_type": "display_data",
          "data": {
            "image/png": "[encoded data removed]",
            "text/plain": [
              "<Figure size 576x432 with 1 Axes>"
            ]
          },
          "metadata": {
            "needs_background": "light"
          }
        }
      ],
      "metadata": {
        "id": "3Cq_vlKtHY1q",
        "outputId": "adaf07f1-da95-43cb-c17a-d458dacdb7db"
      }
    },
    {
      "cell_type": "code",
      "execution_count": null,
      "source": [
        "roc_auc_score(y_train_5, y_scores_forest)"
      ],
      "outputs": [
        {
          "output_type": "execute_result",
          "data": {
            "text/plain": [
              "0.9983436731328145"
            ]
          },
          "metadata": {},
          "execution_count": 47
        }
      ],
      "metadata": {
        "id": "x1prKRfYHY1q",
        "outputId": "be8467a6-ca7b-48de-8522-c1084e3d9ac9"
      }
    },
    {
      "cell_type": "code",
      "execution_count": null,
      "source": [
        "y_train_pred_forest = cross_val_predict(forest_clf, X_train, y_train_5, cv = 3)\n",
        "precision_score(y_train_5, y_train_pred_forest)\n",
        "\n",
        "# 99% 의 정밀도 !"
      ],
      "outputs": [
        {
          "output_type": "execute_result",
          "data": {
            "text/plain": [
              "0.9905083315756169"
            ]
          },
          "metadata": {},
          "execution_count": 48
        }
      ],
      "metadata": {
        "id": "yV3bMCKaHY1q",
        "outputId": "e93d0d8e-d086-4c4e-990f-beeafe97b4bd"
      }
    },
    {
      "cell_type": "code",
      "execution_count": null,
      "source": [
        "recall_score(y_train_5, y_train_pred_forest)\n",
        "\n",
        "# 86.6%의 재현율 !\n",
        "\n",
        "# 이진분류기를 훈련시키는 방법과 작업에 맞는 적절한 지표 선택, 교차 검증을 사용한 평가, 요구 사항에 맞는 정밀도/재현율 트레이드오프 선택, ROC곡선과 ROC AUC 점수를 사용한 여러 모델의 비교해 대해 알아봤다."
      ],
      "outputs": [
        {
          "output_type": "execute_result",
          "data": {
            "text/plain": [
              "0.8662608374838591"
            ]
          },
          "metadata": {},
          "execution_count": 49
        }
      ],
      "metadata": {
        "id": "xmBJxYnQHY1r",
        "outputId": "5a3508a7-a18b-4586-e16d-6dae073bbf06"
      }
    },
    {
      "cell_type": "markdown",
      "source": [
        "## 3.4 다중 분류"
      ],
      "metadata": {
        "id": "T7yTdUWXHY1r"
      }
    },
    {
      "cell_type": "code",
      "execution_count": null,
      "source": [
        "# 서포트 벡터 머신 분류기 테스트해 보기\n",
        "\n",
        "from sklearn.svm import SVC\n",
        "svm_clf = SVC(gamma = \"auto\", random_state = 42)\n",
        "svm_clf.fit(X_train[:1000], y_train[:1000])  # 0에서 9까지의 원래 타깃클래스(y_train)으로 SVC를 훈련\n",
        "svm_clf.predict([some_digit])  # 훈련했으니 이제 그걸고 예측하기"
      ],
      "outputs": [
        {
          "output_type": "execute_result",
          "data": {
            "text/plain": [
              "array([5], dtype=uint8)"
            ]
          },
          "metadata": {},
          "execution_count": 50
        }
      ],
      "metadata": {
        "id": "2v4iXGh3HY1r",
        "outputId": "bceb9863-c03d-4452-a71d-d6777b079e6b"
      }
    },
    {
      "cell_type": "code",
      "execution_count": null,
      "source": [
        "# decision_function() 는 샘플 당 10개의 점수(0~9니까)를 반환한다.\n",
        "# 각 점수는 클래스마다 하나씩\n",
        "\n",
        "some_digit_scores = svm_clf.decision_function([some_digit])\n",
        "some_digit_scores\n",
        "\n",
        "# 결과를 보면 클래스 5 의 점수가 가장 높다. "
      ],
      "outputs": [
        {
          "output_type": "execute_result",
          "data": {
            "text/plain": [
              "array([[ 2.81585438,  7.09167958,  3.82972099,  0.79365551,  5.8885703 ,\n",
              "         9.29718395,  1.79862509,  8.10392157, -0.228207  ,  4.83753243]])"
            ]
          },
          "metadata": {},
          "execution_count": 51
        }
      ],
      "metadata": {
        "id": "slzDtnr_HY1r",
        "outputId": "689c7c74-6367-40ad-8acd-ba4d323ebd76"
      }
    },
    {
      "cell_type": "code",
      "execution_count": null,
      "source": [
        "np.argmax(some_digit_scores)\n",
        "\n",
        "# np.argmax 는 인자로 받은 배열에서 최댓값의 인덱스를 반환한다."
      ],
      "outputs": [
        {
          "output_type": "execute_result",
          "data": {
            "text/plain": [
              "5"
            ]
          },
          "metadata": {},
          "execution_count": 52
        }
      ],
      "metadata": {
        "id": "JwYLqUBtHY1s",
        "outputId": "159bdc5d-4c2a-47cb-b3e8-6035e00276ad"
      }
    },
    {
      "cell_type": "code",
      "execution_count": null,
      "source": [
        "svm_clf.classes_"
      ],
      "outputs": [
        {
          "output_type": "execute_result",
          "data": {
            "text/plain": [
              "array([0, 1, 2, 3, 4, 5, 6, 7, 8, 9], dtype=uint8)"
            ]
          },
          "metadata": {},
          "execution_count": 53
        }
      ],
      "metadata": {
        "id": "Q87tlaWXHY1s",
        "outputId": "da4199fb-e2fa-4b39-bed4-f4c62a4cf917"
      }
    },
    {
      "cell_type": "code",
      "execution_count": null,
      "source": [
        "svm_clf.classes_[5]\n",
        "\n",
        "# classes 배열에 있는 각 클래스의 인덱스가 클래스 값 자체와 같다. <- 근데 이런 경우는 드물다."
      ],
      "outputs": [
        {
          "output_type": "execute_result",
          "data": {
            "text/plain": [
              "5"
            ]
          },
          "metadata": {},
          "execution_count": 54
        }
      ],
      "metadata": {
        "id": "bZ1aPIzYHY1s",
        "outputId": "16ba75a1-8dd1-49e8-825e-e08154832760"
      }
    },
    {
      "cell_type": "code",
      "execution_count": null,
      "source": [
        "# SVC 기반으로 OvR 전략을 사용하려는 경우\n",
        "\n",
        "from sklearn.multiclass import OneVsRestClassifier\n",
        "\n",
        "ovr_clf = OneVsRestClassifier(SVC(gamma = \"auto\", random_state = 42))\n",
        "ovr_clf.fit(X_train[:1000], y_train[:1000])  # 훈련 시키고~\n",
        "ovr_clf.predict([some_digit])  # 예측해야지"
      ],
      "outputs": [
        {
          "output_type": "execute_result",
          "data": {
            "text/plain": [
              "array([5], dtype=uint8)"
            ]
          },
          "metadata": {},
          "execution_count": 55
        }
      ],
      "metadata": {
        "id": "yvMIiRAiHY1s",
        "outputId": "bf77830a-74d3-45bf-c695-ecba000c739e"
      }
    },
    {
      "cell_type": "code",
      "execution_count": null,
      "source": [
        "len(ovr_clf.estimators_)"
      ],
      "outputs": [
        {
          "output_type": "execute_result",
          "data": {
            "text/plain": [
              "10"
            ]
          },
          "metadata": {},
          "execution_count": 56
        }
      ],
      "metadata": {
        "id": "9nILOQ3uHY1s",
        "outputId": "33696dda-6c21-40c3-c99f-dffabf6ab417"
      }
    },
    {
      "cell_type": "code",
      "execution_count": null,
      "source": [
        "# 이번엔 SGDClassifier를 훈련시켜 보자\n",
        "\n",
        "sgd_clf.fit(X_train, y_train)\n",
        "sgd_clf.predict([some_digit])\n",
        "\n",
        "# SGD 분류기는 직접 샘플을 다중 클래스로 분류할 수 있기 떄문에 별도로 OvR 이나 OvO 를 적용할 필요가 없다.\n",
        "# decision_function()을 통해 SGD 분류기가 클래스마다 부여한 점수를 확인해 보자."
      ],
      "outputs": [
        {
          "output_type": "execute_result",
          "data": {
            "text/plain": [
              "array([3], dtype=uint8)"
            ]
          },
          "metadata": {},
          "execution_count": 57
        }
      ],
      "metadata": {
        "id": "BE7xmSHYHY1t",
        "outputId": "0298ed09-115c-42e3-d2fa-b6d982b172c3"
      }
    },
    {
      "cell_type": "code",
      "execution_count": null,
      "source": [
        "sgd_clf.decision_function([some_digit])\n",
        "\n",
        "# 클래스 3의 점수가 가장 높다.\n",
        "# 위코드의 출력에서 [3] 이 나왔듯 .!"
      ],
      "outputs": [
        {
          "output_type": "execute_result",
          "data": {
            "text/plain": [
              "array([[-31893.03095419, -34419.69069632,  -9530.63950739,\n",
              "          1823.73154031, -22320.14822878,  -1385.80478895,\n",
              "        -26188.91070951, -16147.51323997,  -4604.35491274,\n",
              "        -12050.767298  ]])"
            ]
          },
          "metadata": {},
          "execution_count": 58
        }
      ],
      "metadata": {
        "id": "1xDTCyZ1HY1t",
        "outputId": "e32768bf-e27a-4fbe-f714-ca2debbadb6e"
      }
    },
    {
      "cell_type": "code",
      "execution_count": null,
      "source": [
        "# 교차검증으로 분류기를 평가해 보자\n",
        "\n",
        "cross_val_score(sgd_clf, X_train, y_train, cv = 3, scoring = \"accuracy\")  # 분류기 자체, 훈련 데이터?, 타깃 데이터, 폴드 갯수 등 인자로 넣어주기\n",
        "\n",
        "# 결과를 보니 모든 테스트 폴드에서 84% 이상을 받았다. 점수가 나쁘지는 않지만 성능을 더 높일 여지는 있다.\n",
        "# 예를들어 간단하게 입력의 스케일을 조정해서 정확도를 높여보자"
      ],
      "outputs": [
        {
          "output_type": "execute_result",
          "data": {
            "text/plain": [
              "array([0.87365, 0.85835, 0.8689 ])"
            ]
          },
          "metadata": {},
          "execution_count": 59
        }
      ],
      "metadata": {
        "id": "5xLmN4NKHY1t",
        "outputId": "74d6669f-ee87-4052-85ce-3a55e980581e"
      }
    },
    {
      "cell_type": "code",
      "execution_count": null,
      "source": [
        "from sklearn.preprocessing import StandardScaler\n",
        "\n",
        "scaler = StandardScaler()\n",
        "X_train_scaled = scaler.fit_transform(X_train.astype(np.float64))\n",
        "cross_val_score(sgd_clf, X_train_scaled, y_train, cv = 3, scoring = \"accuracy\")\n",
        "\n",
        "# 성능이 전부 89 이상이 된 것을 확인할 수 있다."
      ],
      "outputs": [
        {
          "output_type": "execute_result",
          "data": {
            "text/plain": [
              "array([0.8983, 0.891 , 0.9018])"
            ]
          },
          "metadata": {},
          "execution_count": 60
        }
      ],
      "metadata": {
        "id": "5GgnBmahHY1t",
        "outputId": "4ad95ec8-0268-4f88-afe1-3cccc57df210"
      }
    },
    {
      "cell_type": "markdown",
      "source": [
        "## 3.5 에러 분석"
      ],
      "metadata": {
        "id": "X_NFDPOvHY1u"
      }
    },
    {
      "cell_type": "code",
      "execution_count": null,
      "source": [
        "# 우선 cross_val_preidct()로 예측을 만들고 confusion_matrix()를 호출\n",
        "\n",
        "y_train_pred = cross_val_predict(sgd_clf, X_train_scaled, y_train, cv=3)\n",
        "conf_mx = confusion_matrix(y_train, y_train_pred)\n",
        "conf_mx"
      ],
      "outputs": [
        {
          "output_type": "execute_result",
          "data": {
            "text/plain": [
              "array([[5577,    0,   22,    5,    8,   43,   36,    6,  225,    1],\n",
              "       [   0, 6400,   37,   24,    4,   44,    4,    7,  212,   10],\n",
              "       [  27,   27, 5220,   92,   73,   27,   67,   36,  378,   11],\n",
              "       [  22,   17,  117, 5227,    2,  203,   27,   40,  403,   73],\n",
              "       [  12,   14,   41,    9, 5182,   12,   34,   27,  347,  164],\n",
              "       [  27,   15,   30,  168,   53, 4444,   75,   14,  535,   60],\n",
              "       [  30,   15,   42,    3,   44,   97, 5552,    3,  131,    1],\n",
              "       [  21,   10,   51,   30,   49,   12,    3, 5684,  195,  210],\n",
              "       [  17,   63,   48,   86,    3,  126,   25,   10, 5429,   44],\n",
              "       [  25,   18,   30,   64,  118,   36,    1,  179,  371, 5107]],\n",
              "      dtype=int64)"
            ]
          },
          "metadata": {},
          "execution_count": 61
        }
      ],
      "metadata": {
        "id": "BBmQb0efHY1u",
        "outputId": "38c44e64-899d-4f25-cc6e-881b266ca5f2"
      }
    },
    {
      "cell_type": "code",
      "execution_count": null,
      "source": [
        "plt.matshow(conf_mx, cmap = plt.cm.gray)\n",
        "save_fig(\"confusion_matrix_plot\", tight_layout = False)\n",
        "plt.show()"
      ],
      "outputs": [
        {
          "output_type": "stream",
          "name": "stdout",
          "text": [
            "그림 저장: confusion_matrix_plot\n"
          ]
        },
        {
          "output_type": "display_data",
          "data": {
            "image/png": "[encoded data removed]",
            "text/plain": [
              "<Figure size 288x288 with 1 Axes>"
            ]
          },
          "metadata": {
            "needs_background": "light"
          }
        }
      ],
      "metadata": {
        "id": "_c39f7Z8HY1u",
        "outputId": "aab47087-8947-4cf8-9acf-09487bd610d1"
      }
    },
    {
      "cell_type": "code",
      "execution_count": null,
      "source": [
        "# 에러 비율! 로 비교하기 위해 각 행의 sum값으로 나눠주기\n",
        "\n",
        "row_sums = conf_mx.sum(axis = 1, keepdims = True)\n",
        "norm_conf_mx = conf_mx / row_sums"
      ],
      "outputs": [],
      "metadata": {
        "id": "zThG_zrvHY1v"
      }
    },
    {
      "cell_type": "code",
      "execution_count": null,
      "source": [
        "# 더 잘보려고? 정답으로 맞춰버린 주대각선 부분은 중요하지 않으니까 주대각선은 전부 0으로 채우고 그래프를 다시 살펴보자\n",
        "\n",
        "np.fill_diagonal(norm_conf_mx, 0)\n",
        "plt.matshow(norm_conf_mx, cmap = plt.cm.gray)\n",
        "plt.show()"
      ],
      "outputs": [
        {
          "output_type": "display_data",
          "data": {
            "image/png": "[encoded data removed]",
            "text/plain": [
              "<Figure size 288x288 with 1 Axes>"
            ]
          },
          "metadata": {
            "needs_background": "light"
          }
        }
      ],
      "metadata": {
        "id": "rr9zq699HY1v",
        "outputId": "79bbb9a3-8de9-41f0-9472-090e457b08e8"
      }
    },
    {
      "cell_type": "markdown",
      "source": [
        "주대각선을 0으로 처리해줘서 에러가 더 잘 보임 !"
      ],
      "metadata": {
        "id": "1p3QmenVHY1v"
      }
    },
    {
      "cell_type": "markdown",
      "source": [
        "## 3.6 다중 레이블 분류"
      ],
      "metadata": {
        "id": "T6vpvKAzHY1v"
      }
    },
    {
      "cell_type": "code",
      "execution_count": null,
      "source": [
        "from sklearn.neighbors import KNeighborsClassifier\n",
        "\n",
        "y_train_large = (y_train >= 7)\n",
        "y_train_odd = (y_train %2 ==1)\n",
        "y_multilabel = np.c_[y_train_large, y_train_odd]\n",
        "\n",
        "knn_clf = KNeighborsClassifier()\n",
        "knn_clf.fit(X_train, y_multilabel)  # 훈련을 하고 나서 ! 모델이 만들어지고 나서 !"
      ],
      "outputs": [
        {
          "output_type": "execute_result",
          "data": {
            "text/plain": [
              "KNeighborsClassifier()"
            ]
          },
          "metadata": {},
          "execution_count": 65
        }
      ],
      "metadata": {
        "id": "GuHenjyuHY1w",
        "outputId": "0af49be3-f88f-42cd-c1b7-7684509ae5f9"
      }
    },
    {
      "cell_type": "code",
      "execution_count": null,
      "source": [
        "# 예측을 해야 겠지\n",
        "\n",
        "knn_clf.predict([some_digit])"
      ],
      "outputs": [
        {
          "output_type": "execute_result",
          "data": {
            "text/plain": [
              "array([[False,  True]])"
            ]
          },
          "metadata": {},
          "execution_count": 66
        }
      ],
      "metadata": {
        "id": "nO7J9PeEHY1w",
        "outputId": "542257c2-4b1e-4e86-8dac-b8272ed0c994"
      }
    },
    {
      "cell_type": "markdown",
      "source": [
        "## 3.7 다중 출력 분류"
      ],
      "metadata": {
        "id": "ko-XB2NdHY1w"
      }
    },
    {
      "cell_type": "code",
      "execution_count": null,
      "source": [
        "# MNIST 이미지에서 추출한 훈련 세트와 테스트 세트에 잡음 추가하기\n",
        "\n",
        "noise = np.random.randint(0, 100, (len(X_train), 784))\n",
        "X_train_mod = X_train + noise\n",
        "noise = np.random.randint(0, 100, (len(X_test), 784))\n",
        "X_test_mod = X_test + noise\n",
        "y_train_mod = X_train\n",
        "y_test_mod = X_test"
      ],
      "outputs": [],
      "metadata": {
        "id": "KuzYZpr7HY1w"
      }
    },
    {
      "cell_type": "code",
      "execution_count": null,
      "source": [
        "some_index = 0\n",
        "plt.subplot(121); plot_digit(X_test_mod[some_index])\n",
        "plt.subplot(122); plot_digit(y_test_mod[some_index])\n",
        "save_fig(\"noisy_digit_examplt_plot\")\n",
        "plt.show()"
      ],
      "outputs": [
        {
          "output_type": "stream",
          "name": "stdout",
          "text": [
            "그림 저장: noisy_digit_examplt_plot\n"
          ]
        },
        {
          "output_type": "display_data",
          "data": {
            "image/png": "[encoded data removed]",
            "text/plain": [
              "<Figure size 432x288 with 2 Axes>"
            ]
          },
          "metadata": {
            "needs_background": "light"
          }
        }
      ],
      "metadata": {
        "id": "jGCIZsafHY1w",
        "outputId": "547ad028-96b4-4d42-c686-f06107785e5a"
      }
    },
    {
      "cell_type": "code",
      "execution_count": null,
      "source": [
        "# 분류기를 훈련시켜서 위의 이미지를 깨끗하게 만들어 보자\n",
        "\n",
        "knn_clf.fit(X_train_mod, y_train_mod)\n",
        "clean_digit = knn_clf.predict([X_test_mod[some_index]])\n",
        "plot_digit(clean_digit)"
      ],
      "outputs": [
        {
          "output_type": "display_data",
          "data": {
            "image/png": "[encoded data removed]",
            "text/plain": [
              "<Figure size 432x288 with 1 Axes>"
            ]
          },
          "metadata": {
            "needs_background": "light"
          }
        }
      ],
      "metadata": {
        "id": "yO0jtgaCHY1w",
        "outputId": "971663eb-07e0-4c9a-ebad-ce4b1275cd3f"
      }
    },
    {
      "cell_type": "markdown",
      "source": [
        "## 추가 내용\n",
        "### 더미 (즉 랜덤) 분류기"
      ],
      "metadata": {
        "id": "uIcq9kO0HY1x"
      }
    },
    {
      "cell_type": "code",
      "execution_count": null,
      "source": [
        "from sklearn.dummy import DummyClassifier\n",
        "\n",
        "dmy_clf = DummyClassifier(strategy = 'prior')\n",
        "y_probas_dmy = cross_val_predict(dmy_clf, X_train, y_train_5, cv = 3, method = \"predict_proba\")\n",
        "y_scores_dmy = y_probas_dmy[:, 1]"
      ],
      "outputs": [],
      "metadata": {
        "id": "KkAAZkd-HY1x"
      }
    },
    {
      "cell_type": "code",
      "execution_count": null,
      "source": [
        "fprr, tprr, thresholdsr = roc_curve(y_train_5, y_scores_dmy)\n",
        "plot_roc_curve(fprr, tprr)\n",
        "\n",
        "# 랜덤이라서 AOC?가 딱 0.5가 되게 그려진건가"
      ],
      "outputs": [
        {
          "output_type": "display_data",
          "data": {
            "image/png": "[encoded data removed]",
            "text/plain": [
              "<Figure size 432x288 with 1 Axes>"
            ]
          },
          "metadata": {
            "needs_background": "light"
          }
        }
      ],
      "metadata": {
        "id": "xta_rpn5HY1x",
        "outputId": "68788758-c4f3-49fc-9e87-3cba5263419f"
      }
    },
    {
      "cell_type": "markdown",
      "source": [
        "### KNN 분류기"
      ],
      "metadata": {
        "id": "abhgMr78HY1x"
      }
    },
    {
      "cell_type": "code",
      "execution_count": null,
      "source": [
        "from sklearn.neighbors import KNeighborsClassifier\n",
        "\n",
        "knn_clf = KNeighborsClassifier(weights = 'distance', n_neighbors = 4)\n",
        "knn_clf.fit(X_train, y_train)\n"
      ],
      "outputs": [
        {
          "output_type": "execute_result",
          "data": {
            "text/plain": [
              "KNeighborsClassifier(n_neighbors=4, weights='distance')"
            ]
          },
          "metadata": {},
          "execution_count": 72
        }
      ],
      "metadata": {
        "id": "-L019DCIHY1x",
        "outputId": "3132a3d1-f3a2-4c42-eb9e-0b74bf44516b"
      }
    },
    {
      "cell_type": "code",
      "execution_count": null,
      "source": [
        "y_knn_pred = knn_clf.predict(X_test)"
      ],
      "outputs": [],
      "metadata": {
        "id": "9g8cKIaPHY11"
      }
    },
    {
      "cell_type": "code",
      "execution_count": null,
      "source": [
        "from sklearn.metrics import accuracy_score\n",
        "\n",
        "accuracy_score(y_test, y_knn_pred)"
      ],
      "outputs": [
        {
          "output_type": "execute_result",
          "data": {
            "text/plain": [
              "0.9714"
            ]
          },
          "metadata": {},
          "execution_count": 74
        }
      ],
      "metadata": {
        "id": "LGOhOmB2HY11",
        "outputId": "8ef6682b-9540-41bb-a71d-f595425ba621"
      }
    },
    {
      "cell_type": "code",
      "execution_count": null,
      "source": [
        "from scipy.ndimage.interpolation import shift\n",
        "\n",
        "def shift_digit(digit_array, dx, dy, new = 0):\n",
        "    return shift(digit_array.reshape(28, 28), [dy, dx], cval = new).reshape(784)\n",
        "\n",
        "plot_digit(shift_digit(some_digit, 5, 1, new = 100))"
      ],
      "outputs": [
        {
          "output_type": "display_data",
          "data": {
            "image/png": "[encoded data removed]",
            "text/plain": [
              "<Figure size 432x288 with 1 Axes>"
            ]
          },
          "metadata": {
            "needs_background": "light"
          }
        }
      ],
      "metadata": {
        "id": "4FfBNY39HY11",
        "outputId": "d1e68cfd-737c-4cd6-8d70-dd300bfeb6a2"
      }
    },
    {
      "cell_type": "code",
      "execution_count": null,
      "source": [
        "X_train_expanded = [X_train]\n",
        "y_train_expanded = [y_train]\n",
        "for dx, dy in ((1, 0), (-1, 0), (0, 1), (0, -1)):\n",
        "    shifted_images = np.apply_along_axis(shift_digit, axis = 1, arr = X_train, dx = dx, dy = dy)\n",
        "    X_train_expanded.append(shifted_images)\n",
        "    y_train_expanded.append(y_train)\n",
        "\n",
        "X_train_expanded = np.concatenate(X_train_expanded)\n",
        "y_train_expanded = np.concatenate(y_train_expanded)\n",
        "X_train_expanded.shape, y_train_expanded.shape"
      ],
      "outputs": [
        {
          "output_type": "execute_result",
          "data": {
            "text/plain": [
              "((300000, 784), (300000,))"
            ]
          },
          "metadata": {},
          "execution_count": 76
        }
      ],
      "metadata": {
        "id": "1aMLzWldHY11",
        "outputId": "bd9600a1-009c-4202-a7de-5c6e9d7366b1"
      }
    },
    {
      "cell_type": "code",
      "execution_count": null,
      "source": [
        "# 훈련 세트 만들었으니 fit으로 모델 만들기\n",
        "\n",
        "knn_clf.fit(X_train_expanded, y_train_expanded)"
      ],
      "outputs": [
        {
          "output_type": "execute_result",
          "data": {
            "text/plain": [
              "KNeighborsClassifier(n_neighbors=4, weights='distance')"
            ]
          },
          "metadata": {},
          "execution_count": 77
        }
      ],
      "metadata": {
        "id": "OUbYqh0tHY11",
        "outputId": "f3e30814-5e46-411f-9cd9-f163e1181fe8"
      }
    },
    {
      "cell_type": "code",
      "execution_count": null,
      "source": [
        "y_knn_expanded_pred = knn_clf.predict(X_test)"
      ],
      "outputs": [],
      "metadata": {
        "id": "Y-zyDSd3HY12"
      }
    },
    {
      "cell_type": "code",
      "execution_count": null,
      "source": [
        "accuracy_score(y_test, y_knn_expanded_pred)\n",
        "\n",
        "# 늘어난 훈련 세트로 만든 모델로 예측한 것의 점수가 전보다 높아졌다 !"
      ],
      "outputs": [
        {
          "output_type": "execute_result",
          "data": {
            "text/plain": [
              "0.9763"
            ]
          },
          "metadata": {},
          "execution_count": 79
        }
      ],
      "metadata": {
        "id": "6jAQO05tHY12",
        "outputId": "7f93b912-492d-4589-fc74-aec298893814"
      }
    },
    {
      "cell_type": "code",
      "execution_count": null,
      "source": [
        "ambiguous_digit = X_test[2589]\n",
        "knn_clf.predict_proba([ambiguous_digit])"
      ],
      "outputs": [
        {
          "output_type": "execute_result",
          "data": {
            "text/plain": [
              "array([[0.24579675, 0.        , 0.        , 0.        , 0.        ,\n",
              "        0.        , 0.        , 0.        , 0.        , 0.75420325]])"
            ]
          },
          "metadata": {},
          "execution_count": 80
        }
      ],
      "metadata": {
        "id": "zQQhK4htHY12",
        "outputId": "966b2075-f938-4e08-a0eb-3991f7336cda"
      }
    },
    {
      "cell_type": "code",
      "execution_count": null,
      "source": [
        "plot_digit(ambiguous_digit)"
      ],
      "outputs": [
        {
          "output_type": "display_data",
          "data": {
            "image/png": "[encoded data removed]",
            "text/plain": [
              "<Figure size 432x288 with 1 Axes>"
            ]
          },
          "metadata": {
            "needs_background": "light"
          }
        }
      ],
      "metadata": {
        "id": "3dTTI6uHHY12",
        "outputId": "7fed7ac5-51fa-45fb-888f-7f11d7392db9"
      }
    },
    {
      "cell_type": "markdown",
      "source": [
        "## 3.8 연습문제"
      ],
      "metadata": {
        "id": "CVZGYi3yHY12"
      }
    },
    {
      "cell_type": "markdown",
      "source": [
        "## 문제 1. 97% 정확도의 MNIST 분류기"
      ],
      "metadata": {
        "id": "CzBm72O0HY13"
      }
    },
    {
      "cell_type": "code",
      "execution_count": null,
      "source": [
        "# ***\n",
        "print(X_train[0])"
      ],
      "outputs": [
        {
          "output_type": "stream",
          "name": "stdout",
          "text": [
            "[  0.   0.   0.   0.   0.   0.   0.   0.   0.   0.   0.   0.   0.   0.\n",
            "   0.   0.   0.   0.   0.   0.   0.   0.   0.   0.   0.   0.   0.   0.\n",
            "   0.   0.   0.   0.   0.   0.   0.   0.   0.   0.   0.   0.   0.   0.\n",
            "   0.   0.   0.   0.   0.   0.   0.   0.   0.   0.   0.   0.   0.   0.\n",
            "   0.   0.   0.   0.   0.   0.   0.   0.   0.   0.   0.   0.   0.   0.\n",
            "   0.   0.   0.   0.   0.   0.   0.   0.   0.   0.   0.   0.   0.   0.\n",
            "   0.   0.   0.   0.   0.   0.   0.   0.   0.   0.   0.   0.   0.   0.\n",
            "   0.   0.   0.   0.   0.   0.   0.   0.   0.   0.   0.   0.   0.   0.\n",
            "   0.   0.   0.   0.   0.   0.   0.   0.   0.   0.   0.   0.   0.   0.\n",
            "   0.   0.   0.   0.   0.   0.   0.   0.   0.   0.   0.   0.   0.   0.\n",
            "   0.   0.   0.   0.   0.   0.   0.   0.   0.   0.   0.   0.   3.  18.\n",
            "  18.  18. 126. 136. 175.  26. 166. 255. 247. 127.   0.   0.   0.   0.\n",
            "   0.   0.   0.   0.   0.   0.   0.   0.  30.  36.  94. 154. 170. 253.\n",
            " 253. 253. 253. 253. 225. 172. 253. 242. 195.  64.   0.   0.   0.   0.\n",
            "   0.   0.   0.   0.   0.   0.   0.  49. 238. 253. 253. 253. 253. 253.\n",
            " 253. 253. 253. 251.  93.  82.  82.  56.  39.   0.   0.   0.   0.   0.\n",
            "   0.   0.   0.   0.   0.   0.   0.  18. 219. 253. 253. 253. 253. 253.\n",
            " 198. 182. 247. 241.   0.   0.   0.   0.   0.   0.   0.   0.   0.   0.\n",
            "   0.   0.   0.   0.   0.   0.   0.   0.  80. 156. 107. 253. 253. 205.\n",
            "  11.   0.  43. 154.   0.   0.   0.   0.   0.   0.   0.   0.   0.   0.\n",
            "   0.   0.   0.   0.   0.   0.   0.   0.   0.  14.   1. 154. 253.  90.\n",
            "   0.   0.   0.   0.   0.   0.   0.   0.   0.   0.   0.   0.   0.   0.\n",
            "   0.   0.   0.   0.   0.   0.   0.   0.   0.   0.   0. 139. 253. 190.\n",
            "   2.   0.   0.   0.   0.   0.   0.   0.   0.   0.   0.   0.   0.   0.\n",
            "   0.   0.   0.   0.   0.   0.   0.   0.   0.   0.   0.  11. 190. 253.\n",
            "  70.   0.   0.   0.   0.   0.   0.   0.   0.   0.   0.   0.   0.   0.\n",
            "   0.   0.   0.   0.   0.   0.   0.   0.   0.   0.   0.   0.  35. 241.\n",
            " 225. 160. 108.   1.   0.   0.   0.   0.   0.   0.   0.   0.   0.   0.\n",
            "   0.   0.   0.   0.   0.   0.   0.   0.   0.   0.   0.   0.   0.  81.\n",
            " 240. 253. 253. 119.  25.   0.   0.   0.   0.   0.   0.   0.   0.   0.\n",
            "   0.   0.   0.   0.   0.   0.   0.   0.   0.   0.   0.   0.   0.   0.\n",
            "  45. 186. 253. 253. 150.  27.   0.   0.   0.   0.   0.   0.   0.   0.\n",
            "   0.   0.   0.   0.   0.   0.   0.   0.   0.   0.   0.   0.   0.   0.\n",
            "   0.  16.  93. 252. 253. 187.   0.   0.   0.   0.   0.   0.   0.   0.\n",
            "   0.   0.   0.   0.   0.   0.   0.   0.   0.   0.   0.   0.   0.   0.\n",
            "   0.   0.   0. 249. 253. 249.  64.   0.   0.   0.   0.   0.   0.   0.\n",
            "   0.   0.   0.   0.   0.   0.   0.   0.   0.   0.   0.   0.   0.   0.\n",
            "  46. 130. 183. 253. 253. 207.   2.   0.   0.   0.   0.   0.   0.   0.\n",
            "   0.   0.   0.   0.   0.   0.   0.   0.   0.   0.   0.   0.  39. 148.\n",
            " 229. 253. 253. 253. 250. 182.   0.   0.   0.   0.   0.   0.   0.   0.\n",
            "   0.   0.   0.   0.   0.   0.   0.   0.   0.   0.  24. 114. 221. 253.\n",
            " 253. 253. 253. 201.  78.   0.   0.   0.   0.   0.   0.   0.   0.   0.\n",
            "   0.   0.   0.   0.   0.   0.   0.   0.  23.  66. 213. 253. 253. 253.\n",
            " 253. 198.  81.   2.   0.   0.   0.   0.   0.   0.   0.   0.   0.   0.\n",
            "   0.   0.   0.   0.   0.   0.  18. 171. 219. 253. 253. 253. 253. 195.\n",
            "  80.   9.   0.   0.   0.   0.   0.   0.   0.   0.   0.   0.   0.   0.\n",
            "   0.   0.   0.   0.  55. 172. 226. 253. 253. 253. 253. 244. 133.  11.\n",
            "   0.   0.   0.   0.   0.   0.   0.   0.   0.   0.   0.   0.   0.   0.\n",
            "   0.   0.   0.   0. 136. 253. 253. 253. 212. 135. 132.  16.   0.   0.\n",
            "   0.   0.   0.   0.   0.   0.   0.   0.   0.   0.   0.   0.   0.   0.\n",
            "   0.   0.   0.   0.   0.   0.   0.   0.   0.   0.   0.   0.   0.   0.\n",
            "   0.   0.   0.   0.   0.   0.   0.   0.   0.   0.   0.   0.   0.   0.\n",
            "   0.   0.   0.   0.   0.   0.   0.   0.   0.   0.   0.   0.   0.   0.\n",
            "   0.   0.   0.   0.   0.   0.   0.   0.   0.   0.   0.   0.   0.   0.\n",
            "   0.   0.   0.   0.   0.   0.   0.   0.   0.   0.   0.   0.   0.   0.\n",
            "   0.   0.   0.   0.   0.   0.   0.   0.   0.   0.   0.   0.   0.   0.]\n"
          ]
        }
      ],
      "metadata": {
        "id": "ryTapCesHY13",
        "outputId": "fb13e4bd-a573-4034-b95c-794aee58dc34"
      }
    },
    {
      "cell_type": "code",
      "execution_count": null,
      "source": [
        "# ***\n",
        "print(y_train[0])"
      ],
      "outputs": [
        {
          "output_type": "stream",
          "name": "stdout",
          "text": [
            "5\n"
          ]
        }
      ],
      "metadata": {
        "id": "EUmyn19oHY13",
        "outputId": "690011ac-da3e-40d9-a531-deca796ff73e"
      }
    },
    {
      "cell_type": "code",
      "execution_count": null,
      "source": [
        "print(KNeighborsClassifier().weights)"
      ],
      "outputs": [
        {
          "output_type": "stream",
          "name": "stdout",
          "text": [
            "uniform\n"
          ]
        }
      ],
      "metadata": {
        "id": "W_KetahxHY13",
        "outputId": "49043bc5-ad4f-4f6e-bfa1-fd2728259bb1"
      }
    },
    {
      "cell_type": "markdown",
      "source": [
        "KNN 분류기의 weights에는 uniform과 distance가 있다.  \n",
        "디폴트 값은 uniform !  \n",
        "그래서 아마 위의 코드에서 uniform이 출력된 듯 하다.  \n",
        "KNN 분류기에서 weights와 n_neighbors같은 하이퍼파라미터를 조정해가며 최적의 모델을 찾는 것  \n",
        "이때 이 최적의 하이퍼파라미터를 찾아주는 게 GridSearchCV 다 .  "
      ],
      "metadata": {
        "id": "0eQtJLQyHY13"
      }
    },
    {
      "cell_type": "code",
      "execution_count": null,
      "source": [
        "from sklearn.model_selection import GridSearchCV\n",
        "\n",
        "# ********************\n",
        "param_grid = [{\n",
        "    'weights': [\"uniform\", \"distance\"], \n",
        "    'n_neighbors': [3, 4, 5]\n",
        "    }]\n",
        "\n",
        "knn_clf = KNeighborsClassifier()\n",
        "grid_search = GridSearchCV(knn_clf, param_grid, cv=5, verbose=3)  \n",
        "grid_search.fit(X_train, y_train)\n",
        "\n",
        "# 위에서 GridSearchCV의 인자로 준 verbose는 코드의 장황한 정도라고 한다.\n",
        "# 이 cell을 실행했을 떄 출력되는 것의 정도 ? 를 결정하는 듯 하다."
      ],
      "outputs": [
        {
          "output_type": "stream",
          "name": "stdout",
          "text": [
            "Fitting 5 folds for each of 6 candidates, totalling 30 fits\n",
            "[CV 1/5] END ....n_neighbors=3, weights=uniform;, score=0.972 total time=  22.9s\n",
            "[CV 2/5] END ....n_neighbors=3, weights=uniform;, score=0.971 total time=  22.4s\n",
            "[CV 3/5] END ....n_neighbors=3, weights=uniform;, score=0.969 total time=  24.5s\n",
            "[CV 4/5] END ....n_neighbors=3, weights=uniform;, score=0.969 total time=  24.2s\n",
            "[CV 5/5] END ....n_neighbors=3, weights=uniform;, score=0.970 total time=  23.7s\n",
            "[CV 1/5] END ...n_neighbors=3, weights=distance;, score=0.972 total time=  21.3s\n",
            "[CV 2/5] END ...n_neighbors=3, weights=distance;, score=0.972 total time=  20.4s\n",
            "[CV 3/5] END ...n_neighbors=3, weights=distance;, score=0.970 total time=  21.6s\n",
            "[CV 4/5] END ...n_neighbors=3, weights=distance;, score=0.970 total time=  23.1s\n",
            "[CV 5/5] END ...n_neighbors=3, weights=distance;, score=0.971 total time=  22.0s\n",
            "[CV 1/5] END ....n_neighbors=4, weights=uniform;, score=0.969 total time=  25.7s\n",
            "[CV 2/5] END ....n_neighbors=4, weights=uniform;, score=0.968 total time=  25.8s\n",
            "[CV 3/5] END ....n_neighbors=4, weights=uniform;, score=0.968 total time=  24.6s\n",
            "[CV 4/5] END ....n_neighbors=4, weights=uniform;, score=0.967 total time=  25.1s\n",
            "[CV 5/5] END ....n_neighbors=4, weights=uniform;, score=0.970 total time=  26.3s\n",
            "[CV 1/5] END ...n_neighbors=4, weights=distance;, score=0.973 total time=  26.7s\n",
            "[CV 2/5] END ...n_neighbors=4, weights=distance;, score=0.972 total time=  30.0s\n",
            "[CV 3/5] END ...n_neighbors=4, weights=distance;, score=0.970 total time=  23.4s\n",
            "[CV 4/5] END ...n_neighbors=4, weights=distance;, score=0.971 total time=  23.8s\n",
            "[CV 5/5] END ...n_neighbors=4, weights=distance;, score=0.972 total time=  24.3s\n",
            "[CV 1/5] END ....n_neighbors=5, weights=uniform;, score=0.970 total time=  24.4s\n",
            "[CV 2/5] END ....n_neighbors=5, weights=uniform;, score=0.970 total time=  23.8s\n",
            "[CV 3/5] END ....n_neighbors=5, weights=uniform;, score=0.969 total time=  23.7s\n",
            "[CV 4/5] END ....n_neighbors=5, weights=uniform;, score=0.968 total time=  24.4s\n",
            "[CV 5/5] END ....n_neighbors=5, weights=uniform;, score=0.969 total time=  24.5s\n",
            "[CV 1/5] END ...n_neighbors=5, weights=distance;, score=0.970 total time=  23.4s\n",
            "[CV 2/5] END ...n_neighbors=5, weights=distance;, score=0.971 total time=  24.8s\n",
            "[CV 3/5] END ...n_neighbors=5, weights=distance;, score=0.970 total time=  24.6s\n",
            "[CV 4/5] END ...n_neighbors=5, weights=distance;, score=0.969 total time=  25.3s\n",
            "[CV 5/5] END ...n_neighbors=5, weights=distance;, score=0.971 total time=  24.8s\n"
          ]
        },
        {
          "output_type": "execute_result",
          "data": {
            "text/plain": [
              "GridSearchCV(cv=5, estimator=KNeighborsClassifier(),\n",
              "             param_grid=[{'n_neighbors': [3, 4, 5],\n",
              "                          'weights': ['uniform', 'distance']}],\n",
              "             verbose=3)"
            ]
          },
          "metadata": {},
          "execution_count": 95
        }
      ],
      "metadata": {
        "id": "E4H7aqd7HY13",
        "outputId": "5609bf65-2b79-4fea-f796-c32e7518d88f"
      }
    },
    {
      "cell_type": "code",
      "execution_count": null,
      "source": [
        "# .fit 해 본 결과 가장 좋은 파라미터를 알려줌\n",
        "grid_search.best_params_"
      ],
      "outputs": [
        {
          "output_type": "execute_result",
          "data": {
            "text/plain": [
              "{'n_neighbors': 4, 'weights': 'distance'}"
            ]
          },
          "metadata": {},
          "execution_count": 96
        }
      ],
      "metadata": {
        "id": "XGnDcJu9HY13",
        "outputId": "e1ed1a71-972b-4655-aa6f-4117713afed8"
      }
    },
    {
      "cell_type": "code",
      "execution_count": null,
      "source": [
        "grid_search.best_score_"
      ],
      "outputs": [
        {
          "output_type": "execute_result",
          "data": {
            "text/plain": [
              "0.9716166666666666"
            ]
          },
          "metadata": {},
          "execution_count": 97
        }
      ],
      "metadata": {
        "id": "TbproXFKHY14",
        "outputId": "290c26c0-3dab-436b-d912-0bb3263de34f"
      }
    },
    {
      "cell_type": "code",
      "execution_count": null,
      "source": [
        "from sklearn.metrics import accuracy_score\n",
        "\n",
        "y_pred = grid_search.predict(X_test)\n",
        "accuracy_score(y_test, y_pred)"
      ],
      "outputs": [
        {
          "output_type": "execute_result",
          "data": {
            "text/plain": [
              "0.9714"
            ]
          },
          "metadata": {},
          "execution_count": 98
        }
      ],
      "metadata": {
        "id": "eNvHKOXdHY14",
        "outputId": "4dad42dd-338b-4c2b-ca0b-7de2f71d5425"
      }
    },
    {
      "cell_type": "markdown",
      "source": [
        "## 문제 2. 데이터 증식"
      ],
      "metadata": {
        "id": "Wmm-S-TeHY14"
      }
    },
    {
      "cell_type": "code",
      "execution_count": null,
      "source": [
        "from scipy.ndimage.interpolation import shift"
      ],
      "outputs": [],
      "metadata": {
        "id": "RG6kyZNfHY14"
      }
    },
    {
      "cell_type": "code",
      "execution_count": null,
      "source": [
        "def shift_image(image, dx, dy):\n",
        "    image = image.reshape((28, 28))\n",
        "    shifted_image = shift(image, [dy, dx], cval = 0, mode=\"constant\")\n",
        "    return shifted_image.reshape([-1])"
      ],
      "outputs": [],
      "metadata": {
        "id": "dt9EjhcRHY14"
      }
    },
    {
      "cell_type": "code",
      "execution_count": null,
      "source": [
        "# 샘플 ! 한번 이동시킨거 봐볼라고 ?\n",
        "image = X_train[1000]\n",
        "shifted_image_down = shift_image(image, 0, 5)\n",
        "shifted_image_left = shift_image(image, -5, 0)\n",
        "\n",
        "plt.figure(figsize = (12, 3))\n",
        "plt.subplot(131)  # 1행 3열의 첫번째\n",
        "plt.title(\"Original\", fontsize = 14)\n",
        "plt.imshow(image.reshape(28, 28), interpolation = \"nearest\", cmap = \"Greys\")\n",
        "plt.subplot(132)\n",
        "plt.title(\"Shifted down\", fontsize = 14)\n",
        "plt.imshow(shifted_image_down.reshape(28, 28), interpolation = \"nearest\", cmap = \"Greys\")\n",
        "plt.subplot(133)\n",
        "plt.title(\"Shifted left\", fontsize = 14)\n",
        "plt.imshow(shifted_image_left.reshape(28, 28), interpolation = \"nearest\", cmap = \"Greys\")\n",
        "plt.show()"
      ],
      "outputs": [
        {
          "output_type": "display_data",
          "data": {
            "image/png": "[encoded data removed]",
            "text/plain": [
              "<Figure size 864x216 with 3 Axes>"
            ]
          },
          "metadata": {
            "needs_background": "light"
          }
        }
      ],
      "metadata": {
        "id": "kypNUtbjHY14",
        "outputId": "3d08e953-5122-48c4-8b22-0066c9c56b74"
      }
    },
    {
      "cell_type": "markdown",
      "source": [
        "plt.imshow() :  \n",
        "2차원 배열 객체를 색깔로 표시해 준다.  \n",
        "interpolation은 보간법 & nearest는 가장 고해상도인 보간법  "
      ],
      "metadata": {
        "id": "BbN4kU80HY15"
      }
    },
    {
      "cell_type": "code",
      "execution_count": null,
      "source": [
        "for image in X_train:\n",
        "    print(image)"
      ],
      "outputs": [],
      "metadata": {
        "id": "yyW9-UaJHY15"
      }
    },
    {
      "cell_type": "code",
      "execution_count": null,
      "source": [
        "X_train_augmented = [image for image in X_train]\n",
        "y_train_augmented = [label for label in y_train]\n",
        "\n",
        "for dx, dy in ((1, 0), (-1, 0), (0, 1), (0, -1)):\n",
        "    for image, label in zip(X_train, y_train):\n",
        "        X_train_augmented.append(shift_image(image, dx, dy))\n",
        "        y_train_augmented.append(label)\n",
        "\n",
        "# ********************\n",
        "X_train_augmented = np.array(X_train_augmented)  # 리스트?를 np 배열로 다시 바꿔서 넣는건가\n",
        "y_train_augmented = np.array(y_train_augmented)"
      ],
      "outputs": [],
      "metadata": {
        "id": "LGiXfGThHY15"
      }
    },
    {
      "cell_type": "code",
      "execution_count": null,
      "source": [
        "shuffle_idx = np.random.permutation(len(X_train_augmented))\n",
        "X_train_augmented = X_train_augmented[shuffle_idx]  # 순서 섞기\n",
        "y_train_augmented = y_train_augmented[shuffle_idx]"
      ],
      "outputs": [],
      "metadata": {
        "id": "VXRKd6JqHY15"
      }
    },
    {
      "cell_type": "code",
      "execution_count": null,
      "source": [
        "knn_clf = KNeighborsClassifier(**grid_search.best_params_)  # 1번 문제에서 찾아둔 최적의 파라미터들 그대로 사용"
      ],
      "outputs": [],
      "metadata": {
        "id": "7r2EEL10HY15"
      }
    },
    {
      "cell_type": "code",
      "execution_count": null,
      "source": [
        "knn_clf.fit(X_train_augmented, y_train_augmented)  # 확장된 훈련세트로 모델 훈련하기"
      ],
      "outputs": [
        {
          "output_type": "execute_result",
          "data": {
            "text/plain": [
              "KNeighborsClassifier(n_neighbors=4, weights='distance')"
            ]
          },
          "metadata": {},
          "execution_count": 97
        }
      ],
      "metadata": {
        "id": "55BLJzcLHY15",
        "outputId": "93299775-cc03-4459-e856-876c0de63580"
      }
    },
    {
      "cell_type": "code",
      "execution_count": null,
      "source": [
        "y_pred = knn_clf.predict(X_test)\n",
        "accuracy_score(y_test, y_pred)"
      ],
      "outputs": [
        {
          "output_type": "execute_result",
          "data": {
            "text/plain": [
              "0.9763"
            ]
          },
          "metadata": {},
          "execution_count": 98
        }
      ],
      "metadata": {
        "id": "rnv9rkeNHY16",
        "outputId": "4b128a66-6cd1-48ff-dc6a-777decb32c6f"
      }
    },
    {
      "cell_type": "markdown",
      "source": [
        "정확도가 높아진 것을 알 수 있다."
      ],
      "metadata": {
        "id": "ulBeS2-qHY16"
      }
    },
    {
      "cell_type": "markdown",
      "source": [
        "## 문제 3. 타이타닉 데이터셋"
      ],
      "metadata": {
        "id": "aNpY7kfgHY16"
      }
    },
    {
      "cell_type": "code",
      "execution_count": null,
      "source": [
        "import os\n",
        "\n",
        "TITANIC_PATH = os.path.join(\"datasets\", \"titanic\")"
      ],
      "outputs": [],
      "metadata": {
        "id": "YpRzFvKoHY16"
      }
    },
    {
      "cell_type": "code",
      "execution_count": null,
      "source": [
        "import pandas as pd\n",
        "\n",
        "def load_titanic_data(filename, titanic_path = TITANIC_PATH):\n",
        "    csv_path = os.path.join(titanic_path, filename)\n",
        "    return pd.read_csv(csv_path)"
      ],
      "outputs": [],
      "metadata": {
        "id": "8EYXNh0nHY16"
      }
    },
    {
      "cell_type": "code",
      "execution_count": null,
      "source": [
        "train_data = load_titanic_data(\"train.csv\")\n",
        "test_data = load_titanic_data(\"test.csv\")"
      ],
      "outputs": [],
      "metadata": {
        "id": "PhVoacDSHY17"
      }
    },
    {
      "cell_type": "markdown",
      "source": [
        "데이터는 이미 훈련 세트와 테스트 세트로 분리되어 있다.  \n",
        "그러나 테스트 데이터는 레이블을 가지고 있지 않다. <- 무슨말 ..?"
      ],
      "metadata": {
        "id": "2DR2zOH-HY17"
      }
    },
    {
      "cell_type": "code",
      "execution_count": null,
      "source": [
        "# 상위 몇 개의 열만 우선 살펴보자\n",
        "\n",
        "train_data.head()"
      ],
      "outputs": [
        {
          "output_type": "execute_result",
          "data": {
            "text/html": [
              "<div>\n",
              "<style scoped>\n",
              "    .dataframe tbody tr th:only-of-type {\n",
              "        vertical-align: middle;\n",
              "    }\n",
              "\n",
              "    .dataframe tbody tr th {\n",
              "        vertical-align: top;\n",
              "    }\n",
              "\n",
              "    .dataframe thead th {\n",
              "        text-align: right;\n",
              "    }\n",
              "</style>\n",
              "<table border=\"1\" class=\"dataframe\">\n",
              "  <thead>\n",
              "    <tr style=\"text-align: right;\">\n",
              "      <th></th>\n",
              "      <th>PassengerId</th>\n",
              "      <th>Survived</th>\n",
              "      <th>Pclass</th>\n",
              "      <th>Name</th>\n",
              "      <th>Sex</th>\n",
              "      <th>Age</th>\n",
              "      <th>SibSp</th>\n",
              "      <th>Parch</th>\n",
              "      <th>Ticket</th>\n",
              "      <th>Fare</th>\n",
              "      <th>Cabin</th>\n",
              "      <th>Embarked</th>\n",
              "    </tr>\n",
              "  </thead>\n",
              "  <tbody>\n",
              "    <tr>\n",
              "      <th>0</th>\n",
              "      <td>1</td>\n",
              "      <td>0</td>\n",
              "      <td>3</td>\n",
              "      <td>Braund, Mr. Owen Harris</td>\n",
              "      <td>male</td>\n",
              "      <td>22.0</td>\n",
              "      <td>1</td>\n",
              "      <td>0</td>\n",
              "      <td>A/5 21171</td>\n",
              "      <td>7.2500</td>\n",
              "      <td>NaN</td>\n",
              "      <td>S</td>\n",
              "    </tr>\n",
              "    <tr>\n",
              "      <th>1</th>\n",
              "      <td>2</td>\n",
              "      <td>1</td>\n",
              "      <td>1</td>\n",
              "      <td>Cumings, Mrs. John Bradley (Florence Briggs Th...</td>\n",
              "      <td>female</td>\n",
              "      <td>38.0</td>\n",
              "      <td>1</td>\n",
              "      <td>0</td>\n",
              "      <td>PC 17599</td>\n",
              "      <td>71.2833</td>\n",
              "      <td>C85</td>\n",
              "      <td>C</td>\n",
              "    </tr>\n",
              "    <tr>\n",
              "      <th>2</th>\n",
              "      <td>3</td>\n",
              "      <td>1</td>\n",
              "      <td>3</td>\n",
              "      <td>Heikkinen, Miss. Laina</td>\n",
              "      <td>female</td>\n",
              "      <td>26.0</td>\n",
              "      <td>0</td>\n",
              "      <td>0</td>\n",
              "      <td>STON/O2. 3101282</td>\n",
              "      <td>7.9250</td>\n",
              "      <td>NaN</td>\n",
              "      <td>S</td>\n",
              "    </tr>\n",
              "    <tr>\n",
              "      <th>3</th>\n",
              "      <td>4</td>\n",
              "      <td>1</td>\n",
              "      <td>1</td>\n",
              "      <td>Futrelle, Mrs. Jacques Heath (Lily May Peel)</td>\n",
              "      <td>female</td>\n",
              "      <td>35.0</td>\n",
              "      <td>1</td>\n",
              "      <td>0</td>\n",
              "      <td>113803</td>\n",
              "      <td>53.1000</td>\n",
              "      <td>C123</td>\n",
              "      <td>S</td>\n",
              "    </tr>\n",
              "    <tr>\n",
              "      <th>4</th>\n",
              "      <td>5</td>\n",
              "      <td>0</td>\n",
              "      <td>3</td>\n",
              "      <td>Allen, Mr. William Henry</td>\n",
              "      <td>male</td>\n",
              "      <td>35.0</td>\n",
              "      <td>0</td>\n",
              "      <td>0</td>\n",
              "      <td>373450</td>\n",
              "      <td>8.0500</td>\n",
              "      <td>NaN</td>\n",
              "      <td>S</td>\n",
              "    </tr>\n",
              "  </tbody>\n",
              "</table>\n",
              "</div>"
            ],
            "text/plain": [
              "   PassengerId  Survived  Pclass  \\\n",
              "0            1         0       3   \n",
              "1            2         1       1   \n",
              "2            3         1       3   \n",
              "3            4         1       1   \n",
              "4            5         0       3   \n",
              "\n",
              "                                                Name     Sex   Age  SibSp  \\\n",
              "0                            Braund, Mr. Owen Harris    male  22.0      1   \n",
              "1  Cumings, Mrs. John Bradley (Florence Briggs Th...  female  38.0      1   \n",
              "2                             Heikkinen, Miss. Laina  female  26.0      0   \n",
              "3       Futrelle, Mrs. Jacques Heath (Lily May Peel)  female  35.0      1   \n",
              "4                           Allen, Mr. William Henry    male  35.0      0   \n",
              "\n",
              "   Parch            Ticket     Fare Cabin Embarked  \n",
              "0      0         A/5 21171   7.2500   NaN        S  \n",
              "1      0          PC 17599  71.2833   C85        C  \n",
              "2      0  STON/O2. 3101282   7.9250   NaN        S  \n",
              "3      0            113803  53.1000  C123        S  \n",
              "4      0            373450   8.0500   NaN        S  "
            ]
          },
          "metadata": {},
          "execution_count": 105
        }
      ],
      "metadata": {
        "id": "imFmfVGzHY17",
        "outputId": "5b978d8d-1c39-4cbc-e6cd-d033390cf46c"
      }
    },
    {
      "cell_type": "markdown",
      "source": [
        "Survived : 타깃 !  "
      ],
      "metadata": {
        "id": "_hVU5qsoHY17"
      }
    },
    {
      "cell_type": "code",
      "execution_count": null,
      "source": [
        "# 누락된 데이터가 얼마나 되는지 살펴보자\n",
        "\n",
        "train_data.info()"
      ],
      "outputs": [
        {
          "output_type": "stream",
          "name": "stdout",
          "text": [
            "<class 'pandas.core.frame.DataFrame'>\n",
            "RangeIndex: 891 entries, 0 to 890\n",
            "Data columns (total 12 columns):\n",
            " #   Column       Non-Null Count  Dtype  \n",
            "---  ------       --------------  -----  \n",
            " 0   PassengerId  891 non-null    int64  \n",
            " 1   Survived     891 non-null    int64  \n",
            " 2   Pclass       891 non-null    int64  \n",
            " 3   Name         891 non-null    object \n",
            " 4   Sex          891 non-null    object \n",
            " 5   Age          714 non-null    float64\n",
            " 6   SibSp        891 non-null    int64  \n",
            " 7   Parch        891 non-null    int64  \n",
            " 8   Ticket       891 non-null    object \n",
            " 9   Fare         891 non-null    float64\n",
            " 10  Cabin        204 non-null    object \n",
            " 11  Embarked     889 non-null    object \n",
            "dtypes: float64(2), int64(5), object(5)\n",
            "memory usage: 83.7+ KB\n"
          ]
        }
      ],
      "metadata": {
        "id": "4terZVddHY17",
        "outputId": "e556d050-a551-4360-a570-31ffe588777e"
      }
    },
    {
      "cell_type": "markdown",
      "source": [
        "살펴보면 Cabin은 null값이 너무 많다. -> Cabin 말고 다른 것들을 활용하자  \n",
        "Name과 Ticket 속성도 값을 non-null이 많긴 하지만 Dtype 이 숫자가 아니기 때문에\n",
        "숫자로 변환하는 것이 까다로울 수 있다."
      ],
      "metadata": {
        "id": "2Rn1Wte-HY18"
      }
    },
    {
      "cell_type": "code",
      "execution_count": null,
      "source": [
        "# 통계치를 살펴보자\n",
        "\n",
        "train_data.describe()"
      ],
      "outputs": [
        {
          "output_type": "execute_result",
          "data": {
            "text/html": [
              "<div>\n",
              "<style scoped>\n",
              "    .dataframe tbody tr th:only-of-type {\n",
              "        vertical-align: middle;\n",
              "    }\n",
              "\n",
              "    .dataframe tbody tr th {\n",
              "        vertical-align: top;\n",
              "    }\n",
              "\n",
              "    .dataframe thead th {\n",
              "        text-align: right;\n",
              "    }\n",
              "</style>\n",
              "<table border=\"1\" class=\"dataframe\">\n",
              "  <thead>\n",
              "    <tr style=\"text-align: right;\">\n",
              "      <th></th>\n",
              "      <th>PassengerId</th>\n",
              "      <th>Survived</th>\n",
              "      <th>Pclass</th>\n",
              "      <th>Age</th>\n",
              "      <th>SibSp</th>\n",
              "      <th>Parch</th>\n",
              "      <th>Fare</th>\n",
              "    </tr>\n",
              "  </thead>\n",
              "  <tbody>\n",
              "    <tr>\n",
              "      <th>count</th>\n",
              "      <td>891.000000</td>\n",
              "      <td>891.000000</td>\n",
              "      <td>891.000000</td>\n",
              "      <td>714.000000</td>\n",
              "      <td>891.000000</td>\n",
              "      <td>891.000000</td>\n",
              "      <td>891.000000</td>\n",
              "    </tr>\n",
              "    <tr>\n",
              "      <th>mean</th>\n",
              "      <td>446.000000</td>\n",
              "      <td>0.383838</td>\n",
              "      <td>2.308642</td>\n",
              "      <td>29.699118</td>\n",
              "      <td>0.523008</td>\n",
              "      <td>0.381594</td>\n",
              "      <td>32.204208</td>\n",
              "    </tr>\n",
              "    <tr>\n",
              "      <th>std</th>\n",
              "      <td>257.353842</td>\n",
              "      <td>0.486592</td>\n",
              "      <td>0.836071</td>\n",
              "      <td>14.526497</td>\n",
              "      <td>1.102743</td>\n",
              "      <td>0.806057</td>\n",
              "      <td>49.693429</td>\n",
              "    </tr>\n",
              "    <tr>\n",
              "      <th>min</th>\n",
              "      <td>1.000000</td>\n",
              "      <td>0.000000</td>\n",
              "      <td>1.000000</td>\n",
              "      <td>0.420000</td>\n",
              "      <td>0.000000</td>\n",
              "      <td>0.000000</td>\n",
              "      <td>0.000000</td>\n",
              "    </tr>\n",
              "    <tr>\n",
              "      <th>25%</th>\n",
              "      <td>223.500000</td>\n",
              "      <td>0.000000</td>\n",
              "      <td>2.000000</td>\n",
              "      <td>20.125000</td>\n",
              "      <td>0.000000</td>\n",
              "      <td>0.000000</td>\n",
              "      <td>7.910400</td>\n",
              "    </tr>\n",
              "    <tr>\n",
              "      <th>50%</th>\n",
              "      <td>446.000000</td>\n",
              "      <td>0.000000</td>\n",
              "      <td>3.000000</td>\n",
              "      <td>28.000000</td>\n",
              "      <td>0.000000</td>\n",
              "      <td>0.000000</td>\n",
              "      <td>14.454200</td>\n",
              "    </tr>\n",
              "    <tr>\n",
              "      <th>75%</th>\n",
              "      <td>668.500000</td>\n",
              "      <td>1.000000</td>\n",
              "      <td>3.000000</td>\n",
              "      <td>38.000000</td>\n",
              "      <td>1.000000</td>\n",
              "      <td>0.000000</td>\n",
              "      <td>31.000000</td>\n",
              "    </tr>\n",
              "    <tr>\n",
              "      <th>max</th>\n",
              "      <td>891.000000</td>\n",
              "      <td>1.000000</td>\n",
              "      <td>3.000000</td>\n",
              "      <td>80.000000</td>\n",
              "      <td>8.000000</td>\n",
              "      <td>6.000000</td>\n",
              "      <td>512.329200</td>\n",
              "    </tr>\n",
              "  </tbody>\n",
              "</table>\n",
              "</div>"
            ],
            "text/plain": [
              "       PassengerId    Survived      Pclass         Age       SibSp  \\\n",
              "count   891.000000  891.000000  891.000000  714.000000  891.000000   \n",
              "mean    446.000000    0.383838    2.308642   29.699118    0.523008   \n",
              "std     257.353842    0.486592    0.836071   14.526497    1.102743   \n",
              "min       1.000000    0.000000    1.000000    0.420000    0.000000   \n",
              "25%     223.500000    0.000000    2.000000   20.125000    0.000000   \n",
              "50%     446.000000    0.000000    3.000000   28.000000    0.000000   \n",
              "75%     668.500000    1.000000    3.000000   38.000000    1.000000   \n",
              "max     891.000000    1.000000    3.000000   80.000000    8.000000   \n",
              "\n",
              "            Parch        Fare  \n",
              "count  891.000000  891.000000  \n",
              "mean     0.381594   32.204208  \n",
              "std      0.806057   49.693429  \n",
              "min      0.000000    0.000000  \n",
              "25%      0.000000    7.910400  \n",
              "50%      0.000000   14.454200  \n",
              "75%      0.000000   31.000000  \n",
              "max      6.000000  512.329200  "
            ]
          },
          "metadata": {},
          "execution_count": 107
        }
      ],
      "metadata": {
        "id": "6TIbg4qmHY18",
        "outputId": "94179505-99b5-4772-83f5-c7c5ac3a9290"
      }
    },
    {
      "cell_type": "code",
      "execution_count": null,
      "source": [
        "# 타깃이 0과 1로 이루어졌는지 확인하기\n",
        "\n",
        "train_data[\"Survived\"].value_counts()"
      ],
      "outputs": [
        {
          "output_type": "execute_result",
          "data": {
            "text/plain": [
              "0    549\n",
              "1    342\n",
              "Name: Survived, dtype: int64"
            ]
          },
          "metadata": {},
          "execution_count": 108
        }
      ],
      "metadata": {
        "id": "r8dL4uOWHY18",
        "outputId": "be940453-0ceb-4299-bcb9-d77dda9bf795"
      }
    },
    {
      "cell_type": "code",
      "execution_count": null,
      "source": [
        "# 범주형 특성들을 확인하자\n",
        "\n",
        "train_data[\"Pclass\"].value_counts()"
      ],
      "outputs": [
        {
          "output_type": "execute_result",
          "data": {
            "text/plain": [
              "3    491\n",
              "1    216\n",
              "2    184\n",
              "Name: Pclass, dtype: int64"
            ]
          },
          "metadata": {},
          "execution_count": 109
        }
      ],
      "metadata": {
        "id": "3PYQxWJ8HY18",
        "outputId": "39e74cee-bdd6-4acc-973d-17cdb94ae9bf"
      }
    },
    {
      "cell_type": "code",
      "execution_count": null,
      "source": [
        "train_data[\"Sex\"].value_counts()"
      ],
      "outputs": [
        {
          "output_type": "execute_result",
          "data": {
            "text/plain": [
              "male      577\n",
              "female    314\n",
              "Name: Sex, dtype: int64"
            ]
          },
          "metadata": {},
          "execution_count": 110
        }
      ],
      "metadata": {
        "id": "Xp5tIuGHHY19",
        "outputId": "176e9651-1a96-4287-b76e-86a18bb11a4b"
      }
    },
    {
      "cell_type": "code",
      "execution_count": null,
      "source": [
        "train_data[\"Embarked\"].value_counts()"
      ],
      "outputs": [
        {
          "output_type": "execute_result",
          "data": {
            "text/plain": [
              "S    644\n",
              "C    168\n",
              "Q     77\n",
              "Name: Embarked, dtype: int64"
            ]
          },
          "metadata": {},
          "execution_count": 111
        }
      ],
      "metadata": {
        "id": "sZBcfTBJHY19",
        "outputId": "6ac864be-3c0f-4bf8-f10b-cd682b72cd14"
      }
    },
    {
      "cell_type": "markdown",
      "source": [
        "전처리 파이프라인을 만들어 보자"
      ],
      "metadata": {
        "id": "jjv6hR7GHY19"
      }
    },
    {
      "cell_type": "code",
      "execution_count": null,
      "source": [
        "from sklearn.base import BaseEstimator, TransformerMixin\n",
        "\n",
        "class DataFrameSelector(BaseEstimator, TransformerMixin):\n",
        "    def __init__(self, attribute_names):\n",
        "        self.attribute_names = attribute_names\n",
        "    def fit(self, X, y = None):\n",
        "        return self\n",
        "    def transform(self, X):\n",
        "        return X[self.attribute_names]\n"
      ],
      "outputs": [],
      "metadata": {
        "id": "tA4J0LIHHY19"
      }
    },
    {
      "cell_type": "markdown",
      "source": [
        "숫자 특성을 위한 파이프라인 만들기"
      ],
      "metadata": {
        "id": "9Wv-j3U8HY19"
      }
    },
    {
      "cell_type": "code",
      "execution_count": null,
      "source": [
        "from sklearn.pipeline import Pipeline\n",
        "from sklearn.impute import SimpleImputer\n",
        "\n",
        "num_pipeline = Pipeline([\n",
        "        (\"select_numeric\", DataFrameSelector([\"Age\", \"SibSp\", \"Parch\", \"Fare\"])),\n",
        "        (\"Imputer\", SimpleImputer(strategy = \"median\"))\n",
        "])"
      ],
      "outputs": [],
      "metadata": {
        "id": "b9aXpc7sHY19"
      }
    },
    {
      "cell_type": "code",
      "execution_count": null,
      "source": [
        "num_pipeline.fit_transform(train_data)"
      ],
      "outputs": [
        {
          "output_type": "execute_result",
          "data": {
            "text/plain": [
              "array([[22.    ,  1.    ,  0.    ,  7.25  ],\n",
              "       [38.    ,  1.    ,  0.    , 71.2833],\n",
              "       [26.    ,  0.    ,  0.    ,  7.925 ],\n",
              "       ...,\n",
              "       [28.    ,  1.    ,  2.    , 23.45  ],\n",
              "       [26.    ,  0.    ,  0.    , 30.    ],\n",
              "       [32.    ,  0.    ,  0.    ,  7.75  ]])"
            ]
          },
          "metadata": {},
          "execution_count": 114
        }
      ],
      "metadata": {
        "id": "FySsT3jLHY1-",
        "outputId": "a3567c29-9375-45b2-80b5-742d30709890"
      }
    },
    {
      "cell_type": "markdown",
      "source": [
        "문자열로 된 범주형 열을 위해 별도의 Imputer 클래스가 필요하다.  "
      ],
      "metadata": {
        "id": "gvYZipC9HY1-"
      }
    },
    {
      "cell_type": "code",
      "execution_count": null,
      "source": [
        "class MostFrequentImputer(BaseEstimator, TransformerMixin):\n",
        "    def fit(self, X, y = None):\n",
        "        self.most_frequent_ = pd.Series([X[c].value_counts().index[0] for c in X],\n",
        "                                        index = X.columns)\n",
        "        return self\n",
        "    def transform(self, X, y = None):\n",
        "        return X.fillna(self.most_frequent_)"
      ],
      "outputs": [],
      "metadata": {
        "id": "HcWaWlbSHY1-"
      }
    },
    {
      "cell_type": "code",
      "execution_count": null,
      "source": [
        "from sklearn.preprocessing import OneHotEncoder"
      ],
      "outputs": [],
      "metadata": {
        "id": "aI_qq8CGHY1-"
      }
    },
    {
      "cell_type": "markdown",
      "source": [
        "범주형 특성을 위한 파이프라인 만들기"
      ],
      "metadata": {
        "id": "t6Gj52Y2HY1-"
      }
    },
    {
      "cell_type": "code",
      "execution_count": null,
      "source": [
        "cat_pipeline = Pipeline([\n",
        "        (\"select_cat\", DataFrameSelector([\"Pclass\", \"Sex\", \"Embarked\"])),\n",
        "        (\"imputer\", MostFrequentImputer()),\n",
        "        (\"cat_encoder\", OneHotEncoder(sparse = False)),\n",
        "])"
      ],
      "outputs": [],
      "metadata": {
        "id": "ORwBx27JHY1-"
      }
    },
    {
      "cell_type": "code",
      "execution_count": null,
      "source": [
        "cat_pipeline.fit_transform(train_data)"
      ],
      "outputs": [
        {
          "output_type": "execute_result",
          "data": {
            "text/plain": [
              "array([[0., 0., 1., ..., 0., 0., 1.],\n",
              "       [1., 0., 0., ..., 1., 0., 0.],\n",
              "       [0., 0., 1., ..., 0., 0., 1.],\n",
              "       ...,\n",
              "       [0., 0., 1., ..., 0., 0., 1.],\n",
              "       [1., 0., 0., ..., 1., 0., 0.],\n",
              "       [0., 0., 1., ..., 0., 1., 0.]])"
            ]
          },
          "metadata": {},
          "execution_count": 120
        }
      ],
      "metadata": {
        "id": "LWFzOW5jHY1_",
        "outputId": "1b49d0f7-406a-4de1-e723-15b93d0fded9"
      }
    },
    {
      "cell_type": "markdown",
      "source": [
        "마지막으로 숫자와 범주형 파이프라인을 연결한다."
      ],
      "metadata": {
        "id": "ddfhs4DOHY1_"
      }
    },
    {
      "cell_type": "code",
      "execution_count": null,
      "source": [
        "from sklearn.pipeline import FeatureUnion\n",
        "preprocess_pipeline = FeatureUnion(transformer_list = [\n",
        "        (\"num_pipeline\", num_pipeline),\n",
        "        (\"cat_pipeline\", cat_pipeline),\n",
        "])"
      ],
      "outputs": [],
      "metadata": {
        "id": "w9_t49QbHY1_"
      }
    },
    {
      "cell_type": "markdown",
      "source": [
        "원본 데이터를 받아 머신러닝 모델에 주입할 숫자 입력 특성을 출력하는 전처리 파이프라인을 만들었다."
      ],
      "metadata": {
        "id": "-CR4-sIRHY1_"
      }
    },
    {
      "cell_type": "code",
      "execution_count": null,
      "source": [
        "X_train = preprocess_pipeline.fit_transform(train_data)\n",
        "X_train"
      ],
      "outputs": [
        {
          "output_type": "execute_result",
          "data": {
            "text/plain": [
              "array([[22.,  1.,  0., ...,  0.,  0.,  1.],\n",
              "       [38.,  1.,  0., ...,  1.,  0.,  0.],\n",
              "       [26.,  0.,  0., ...,  0.,  0.,  1.],\n",
              "       ...,\n",
              "       [28.,  1.,  2., ...,  0.,  0.,  1.],\n",
              "       [26.,  0.,  0., ...,  1.,  0.,  0.],\n",
              "       [32.,  0.,  0., ...,  0.,  1.,  0.]])"
            ]
          },
          "metadata": {},
          "execution_count": 122
        }
      ],
      "metadata": {
        "id": "v8MQl5SjHY1_",
        "outputId": "1f66991e-ff85-41f4-8099-7ae505cf6627"
      }
    },
    {
      "cell_type": "markdown",
      "source": [
        "레이블을 가져온다."
      ],
      "metadata": {
        "id": "LcVi7oKsHY2A"
      }
    },
    {
      "cell_type": "code",
      "execution_count": null,
      "source": [
        "y_train = train_data[\"Survived\"]"
      ],
      "outputs": [],
      "metadata": {
        "id": "Ib6oiPnWHY2A"
      }
    },
    {
      "cell_type": "markdown",
      "source": [
        "이제 분류기를 훈련시키자. 먼저 SVC로  "
      ],
      "metadata": {
        "id": "W8q8N7HHHY2A"
      }
    },
    {
      "cell_type": "code",
      "execution_count": null,
      "source": [
        "from sklearn.svm import SVC\n",
        "\n",
        "svm_clf = SVC(gamma = \"auto\")\n",
        "svm_clf.fit(X_train, y_train)"
      ],
      "outputs": [
        {
          "output_type": "execute_result",
          "data": {
            "text/plain": [
              "SVC(gamma='auto')"
            ]
          },
          "metadata": {},
          "execution_count": 125
        }
      ],
      "metadata": {
        "id": "GGnwZS1IHY2A",
        "outputId": "be3f4c02-7619-453b-8884-beec400fda71"
      }
    },
    {
      "cell_type": "markdown",
      "source": [
        "모델 훈련을 완료했고 이걸로 테스트 세트에 대한 예측 만들기"
      ],
      "metadata": {
        "id": "5dQKyPidHY2A"
      }
    },
    {
      "cell_type": "code",
      "execution_count": null,
      "source": [
        "X_test = preprocess_pipeline.transform(test_data)\n",
        "y_pred = svm_clf.predict(X_test)"
      ],
      "outputs": [],
      "metadata": {
        "id": "hBpQDep2HY2A"
      }
    },
    {
      "cell_type": "markdown",
      "source": [
        "예측을 완료했지만 교차 검증으로 모델이 얼마나 좋은지 평가해 보자"
      ],
      "metadata": {
        "id": "e9LtWd1_HY2A"
      }
    },
    {
      "cell_type": "code",
      "execution_count": null,
      "source": [
        "from sklearn.model_selection import cross_val_score\n",
        "\n",
        "svm_scores = cross_val_score(svm_clf, X_train, y_train, cv = 10)\n",
        "svm_scores.mean()"
      ],
      "outputs": [
        {
          "output_type": "execute_result",
          "data": {
            "text/plain": [
              "0.7329588014981274"
            ]
          },
          "metadata": {},
          "execution_count": 127
        }
      ],
      "metadata": {
        "id": "9qxSEgGPHY2A",
        "outputId": "c1350e38-7e8a-4b5d-e42d-bf33e382101a"
      }
    },
    {
      "cell_type": "markdown",
      "source": [
        "만족스러운 수치는 아니다.  \n",
        "RandomForestClassifier를 적용해 보자"
      ],
      "metadata": {
        "id": "Gz3HmZm2HY2B"
      }
    },
    {
      "cell_type": "code",
      "execution_count": null,
      "source": [
        "from sklearn.ensemble import RandomForestClassifier\n",
        "\n",
        "forest_clf = RandomForestClassifier(n_estimators = 100, random_state = 42)\n",
        "forest_scores = cross_val_score(forest_clf, X_train, y_train, cv = 10)\n",
        "forest_scores.mean()"
      ],
      "outputs": [
        {
          "output_type": "execute_result",
          "data": {
            "text/plain": [
              "0.8126466916354558"
            ]
          },
          "metadata": {},
          "execution_count": 128
        }
      ],
      "metadata": {
        "id": "Od8imiiCHY2B",
        "outputId": "f70d1074-4952-4702-8306-11246e36803a"
      }
    },
    {
      "cell_type": "markdown",
      "source": [
        "이전보다 꽤 높아졌다."
      ],
      "metadata": {
        "id": "L8WPztzaHY2B"
      }
    },
    {
      "cell_type": "code",
      "execution_count": null,
      "source": [
        "plt.figure(figsize = (8, 4))\n",
        "plt.plot([1]*10, svm_scores, \".\")\n",
        "plt.plot([2]*10, forest_scores, \".\")\n",
        "plt.boxplot([svm_scores, forest_scores], labels = (\"SVM\", \"Random Forest\"))\n",
        "plt.ylabel(\"Accuracy\", fontsize = 14)\n",
        "plt.show()"
      ],
      "outputs": [
        {
          "output_type": "display_data",
          "data": {
            "image/png": "[encoded data removed]",
            "text/plain": [
              "<Figure size 576x288 with 1 Axes>"
            ]
          },
          "metadata": {
            "needs_background": "light"
          }
        }
      ],
      "metadata": {
        "id": "R7CcnuGLHY2B",
        "outputId": "8e0b4e2c-82fe-4ea2-e4a6-2c982c506d65"
      }
    },
    {
      "cell_type": "code",
      "execution_count": null,
      "source": [
        "train_data[\"AgeBucket\"] = train_data[\"Age\"] // 15 * 15\n",
        "train_data[[\"AgeBucket\", \"Survived\"]].groupby(['AgeBucket']).mean()"
      ],
      "outputs": [
        {
          "output_type": "execute_result",
          "data": {
            "text/html": [
              "<div>\n",
              "<style scoped>\n",
              "    .dataframe tbody tr th:only-of-type {\n",
              "        vertical-align: middle;\n",
              "    }\n",
              "\n",
              "    .dataframe tbody tr th {\n",
              "        vertical-align: top;\n",
              "    }\n",
              "\n",
              "    .dataframe thead th {\n",
              "        text-align: right;\n",
              "    }\n",
              "</style>\n",
              "<table border=\"1\" class=\"dataframe\">\n",
              "  <thead>\n",
              "    <tr style=\"text-align: right;\">\n",
              "      <th></th>\n",
              "      <th>Survived</th>\n",
              "    </tr>\n",
              "    <tr>\n",
              "      <th>AgeBucket</th>\n",
              "      <th></th>\n",
              "    </tr>\n",
              "  </thead>\n",
              "  <tbody>\n",
              "    <tr>\n",
              "      <th>0.0</th>\n",
              "      <td>0.576923</td>\n",
              "    </tr>\n",
              "    <tr>\n",
              "      <th>15.0</th>\n",
              "      <td>0.362745</td>\n",
              "    </tr>\n",
              "    <tr>\n",
              "      <th>30.0</th>\n",
              "      <td>0.423256</td>\n",
              "    </tr>\n",
              "    <tr>\n",
              "      <th>45.0</th>\n",
              "      <td>0.404494</td>\n",
              "    </tr>\n",
              "    <tr>\n",
              "      <th>60.0</th>\n",
              "      <td>0.240000</td>\n",
              "    </tr>\n",
              "    <tr>\n",
              "      <th>75.0</th>\n",
              "      <td>1.000000</td>\n",
              "    </tr>\n",
              "  </tbody>\n",
              "</table>\n",
              "</div>"
            ],
            "text/plain": [
              "           Survived\n",
              "AgeBucket          \n",
              "0.0        0.576923\n",
              "15.0       0.362745\n",
              "30.0       0.423256\n",
              "45.0       0.404494\n",
              "60.0       0.240000\n",
              "75.0       1.000000"
            ]
          },
          "metadata": {},
          "execution_count": 130
        }
      ],
      "metadata": {
        "id": "O38Zz335HY2B",
        "outputId": "e5a1390f-e8f2-4799-e65d-6b4b7d1826ac"
      }
    },
    {
      "cell_type": "code",
      "execution_count": null,
      "source": [
        "train_data[\"RelativesOnboard\"] = train_data[\"SibSp\"] + train_data[\"Parch\"]\n",
        "train_data[[\"RelativesOnboard\", \"Survived\"]].groupby(['RelativesOnboard']).mean()"
      ],
      "outputs": [
        {
          "output_type": "execute_result",
          "data": {
            "text/html": [
              "<div>\n",
              "<style scoped>\n",
              "    .dataframe tbody tr th:only-of-type {\n",
              "        vertical-align: middle;\n",
              "    }\n",
              "\n",
              "    .dataframe tbody tr th {\n",
              "        vertical-align: top;\n",
              "    }\n",
              "\n",
              "    .dataframe thead th {\n",
              "        text-align: right;\n",
              "    }\n",
              "</style>\n",
              "<table border=\"1\" class=\"dataframe\">\n",
              "  <thead>\n",
              "    <tr style=\"text-align: right;\">\n",
              "      <th></th>\n",
              "      <th>Survived</th>\n",
              "    </tr>\n",
              "    <tr>\n",
              "      <th>RelativesOnboard</th>\n",
              "      <th></th>\n",
              "    </tr>\n",
              "  </thead>\n",
              "  <tbody>\n",
              "    <tr>\n",
              "      <th>0</th>\n",
              "      <td>0.303538</td>\n",
              "    </tr>\n",
              "    <tr>\n",
              "      <th>1</th>\n",
              "      <td>0.552795</td>\n",
              "    </tr>\n",
              "    <tr>\n",
              "      <th>2</th>\n",
              "      <td>0.578431</td>\n",
              "    </tr>\n",
              "    <tr>\n",
              "      <th>3</th>\n",
              "      <td>0.724138</td>\n",
              "    </tr>\n",
              "    <tr>\n",
              "      <th>4</th>\n",
              "      <td>0.200000</td>\n",
              "    </tr>\n",
              "    <tr>\n",
              "      <th>5</th>\n",
              "      <td>0.136364</td>\n",
              "    </tr>\n",
              "    <tr>\n",
              "      <th>6</th>\n",
              "      <td>0.333333</td>\n",
              "    </tr>\n",
              "    <tr>\n",
              "      <th>7</th>\n",
              "      <td>0.000000</td>\n",
              "    </tr>\n",
              "    <tr>\n",
              "      <th>10</th>\n",
              "      <td>0.000000</td>\n",
              "    </tr>\n",
              "  </tbody>\n",
              "</table>\n",
              "</div>"
            ],
            "text/plain": [
              "                  Survived\n",
              "RelativesOnboard          \n",
              "0                 0.303538\n",
              "1                 0.552795\n",
              "2                 0.578431\n",
              "3                 0.724138\n",
              "4                 0.200000\n",
              "5                 0.136364\n",
              "6                 0.333333\n",
              "7                 0.000000\n",
              "10                0.000000"
            ]
          },
          "metadata": {},
          "execution_count": 131
        }
      ],
      "metadata": {
        "id": "SJcQ5WQ3HY2C",
        "outputId": "90f2d1c9-6686-4754-ea1a-2089f69c96bd"
      }
    }
  ],
  "metadata": {
    "orig_nbformat": 4,
    "language_info": {
      "name": "python",
      "version": "3.9.6",
      "mimetype": "text/x-python",
      "codemirror_mode": {
        "name": "ipython",
        "version": 3
      },
      "pygments_lexer": "ipython3",
      "nbconvert_exporter": "python",
      "file_extension": ".py"
    },
    "kernelspec": {
      "name": "python3",
      "display_name": "Python 3.9.6 64-bit ('myenv': venv)"
    },
    "interpreter": {
      "hash": "db14ae103f93568e7329035f9dae10eea815d74dab9d87f6bd2f583844f8cdbd"
    },
    "colab": {
      "name": "03_classification.ipynb",
      "provenance": []
    },
    "accelerator": "GPU"
  },
  "nbformat": 4,
  "nbformat_minor": 0
}