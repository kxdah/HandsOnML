{
 "cells": [
  {
   "cell_type": "markdown",
   "source": [
    "## 설정"
   ],
   "metadata": {}
  },
  {
   "cell_type": "code",
   "execution_count": 1,
   "source": [
    "# 파이썬 ≥3.5 필수\r\n",
    "import sys\r\n",
    "assert sys.version_info >= (3, 5)\r\n",
    "\r\n",
    "# 사이킷런 ≥0.20 필수\r\n",
    "import sklearn\r\n",
    "assert sklearn.__version__ >= \"0.20\"\r\n",
    "\r\n",
    "# 공통 모듈 임포트\r\n",
    "import numpy as np\r\n",
    "import os\r\n",
    "\r\n",
    "# 노트북 실행 결과를 동일하게 유지하기 위해\r\n",
    "np.random.seed(42)\r\n",
    "\r\n",
    "# 깔끔한 그래프 출력을 위해\r\n",
    "%matplotlib inline\r\n",
    "import matplotlib as mpl\r\n",
    "import matplotlib.pyplot as plt\r\n",
    "mpl.rc('axes', labelsize=14)\r\n",
    "mpl.rc('xtick', labelsize=12)\r\n",
    "mpl.rc('ytick', labelsize=12)\r\n",
    "\r\n",
    "# 그림을 저장할 위치\r\n",
    "PROJECT_ROOT_DIR = \".\"\r\n",
    "CHAPTER_ID = \"training_linear_models\"\r\n",
    "IMAGES_PATH = os.path.join(PROJECT_ROOT_DIR, \"images\", CHAPTER_ID)\r\n",
    "os.makedirs(IMAGES_PATH, exist_ok=True)\r\n",
    "\r\n",
    "def save_fig(fig_id, tight_layout=True, fig_extension=\"png\", resolution=300):\r\n",
    "    path = os.path.join(IMAGES_PATH, fig_id + \".\" + fig_extension)\r\n",
    "    print(\"그림 저장:\", fig_id)\r\n",
    "    if tight_layout:\r\n",
    "        plt.tight_layout()\r\n",
    "    plt.savefig(path, format=fig_extension, dpi=resolution)"
   ],
   "outputs": [],
   "metadata": {}
  },
  {
   "cell_type": "markdown",
   "source": [
    "## 정규방정식을 이용한 선형회귀"
   ],
   "metadata": {}
  },
  {
   "cell_type": "code",
   "execution_count": 2,
   "source": [
    "# 정규방정식을 테스트해 보기 위해 선형처럼 보이는 데이터를 생성한다\r\n",
    "\r\n",
    "import numpy as np\r\n",
    "\r\n",
    "X = 2 * np.random.rand(100, 1)  # 100x1 크기의 0~1 사이의 값으로 이루어진 값을 리턴\r\n",
    "y = 4 + 3 * X + np.random.randn(100, 1)  # 100x1 크기의 정규분포를 따르는 값을 리턴"
   ],
   "outputs": [],
   "metadata": {}
  },
  {
   "cell_type": "markdown",
   "source": [
    ".rand() : Random values in a given shape  \r\n",
    ".randn() : Return a sample from the \"standard normal\" distribution"
   ],
   "metadata": {}
  },
  {
   "cell_type": "code",
   "execution_count": 3,
   "source": [
    "# 그래프 그리기\r\n",
    "\r\n",
    "plt.plot(X, y, \"b.\")\r\n",
    "plt.xlabel(\"$x_1$\", fontsize = 18)\r\n",
    "plt.ylabel(\"$y$\", rotation = 0, fontsize = 18)\r\n",
    "plt.axis([0, 2, 0, 15])\r\n",
    "plt.show()"
   ],
   "outputs": [
    {
     "output_type": "display_data",
     "data": {
      "image/png": "[encoded data removed]",
      "text/plain": [
       "<Figure size 432x288 with 1 Axes>"
      ]
     },
     "metadata": {
      "needs_background": "light"
     }
    }
   ],
   "metadata": {}
  },
  {
   "cell_type": "code",
   "execution_count": 4,
   "source": [
    "# 선형 데이터를 생성했고 이제 정규방정식을 이용해 세타^hat을 계산한다\r\n",
    "\r\n",
    "X_b = np.c_[np.ones((100, 1)), X]  # 모든 샘플에 x0=1을 추가한다\r\n",
    "theta_best = np.linalg.inv(X_b.T.dot(X_b)).dot(X_b.T).dot(y)"
   ],
   "outputs": [],
   "metadata": {}
  },
  {
   "cell_type": "code",
   "execution_count": 5,
   "source": [
    "# 구한 세타 출력해 보기\r\n",
    "\r\n",
    "theta_best"
   ],
   "outputs": [
    {
     "output_type": "execute_result",
     "data": {
      "text/plain": [
       "array([[4.21509616],\n",
       "       [2.77011339]])"
      ]
     },
     "metadata": {},
     "execution_count": 5
    }
   ],
   "metadata": {}
  },
  {
   "cell_type": "markdown",
   "source": [
    "이 데이터를 생성하기 위해 사용한 함수는 y = 4 + 3x + 가우시안_잡음 이었다.  \r\n",
    "즉 세타0 = 4, 세타1 = 3이 나오길 기대했는데 잡음 떄문에 원래 함수의 파라미터를 정확하게 재현하지 못했다.  \r\n",
    "구한 세타^ 을 사용해 예측을 해보자 <- (y^ = X세타^)"
   ],
   "metadata": {}
  },
  {
   "cell_type": "code",
   "execution_count": 6,
   "source": [
    "# 구한 세타^hat 을 사용해 예측을 해보자\r\n",
    "\r\n",
    "X_new = np.array([[0], [2]])\r\n",
    "X_new_b = np.c_[np.ones((2, 1)), X_new]  # 모든 샘플에 x0=1을 추가한다\r\n",
    "y_predict = X_new_b.dot(theta_best)\r\n",
    "y_predict"
   ],
   "outputs": [
    {
     "output_type": "execute_result",
     "data": {
      "text/plain": [
       "array([[4.21509616],\n",
       "       [9.75532293]])"
      ]
     },
     "metadata": {},
     "execution_count": 6
    }
   ],
   "metadata": {}
  },
  {
   "cell_type": "code",
   "execution_count": 7,
   "source": [
    "# 모델의 예측을 그래프로 나타내자\r\n",
    "\r\n",
    "plt.plot(X_new, y_predict, \"r-\", linewidth=2, label=\"Predictions\")\r\n",
    "plt.plot(X, y, \"b.\")\r\n",
    "plt.xlabel(\"$x_1$\", fontsize=18)\r\n",
    "plt.ylabel(\"$y$\", rotation=0, fontsize=18)\r\n",
    "plt.legend(loc=\"upper left\", fontsize=14)\r\n",
    "plt.axis([0, 2, 0, 15])\r\n",
    "plt.show()"
   ],
   "outputs": [
    {
     "output_type": "display_data",
     "data": {
      "image/png": "[encoded data removed]",
      "text/plain": [
       "<Figure size 432x288 with 1 Axes>"
      ]
     },
     "metadata": {
      "needs_background": "light"
     }
    }
   ],
   "metadata": {}
  },
  {
   "cell_type": "code",
   "execution_count": 8,
   "source": [
    "# 사이킷 런에서 선형 회귀를 수행한다\r\n",
    "\r\n",
    "from sklearn.linear_model import LinearRegression\r\n",
    "\r\n",
    "lin_reg = LinearRegression()\r\n",
    "lin_reg.fit(X, y)\r\n",
    "lin_reg.intercept_, lin_reg.coef_  # .intercept_(편향), .coef_(가중치)"
   ],
   "outputs": [
    {
     "output_type": "execute_result",
     "data": {
      "text/plain": [
       "(array([4.21509616]), array([[2.77011339]]))"
      ]
     },
     "metadata": {},
     "execution_count": 8
    }
   ],
   "metadata": {}
  },
  {
   "cell_type": "code",
   "execution_count": 9,
   "source": [
    "lin_reg.predict(X_new)"
   ],
   "outputs": [
    {
     "output_type": "execute_result",
     "data": {
      "text/plain": [
       "array([[4.21509616],\n",
       "       [9.75532293]])"
      ]
     },
     "metadata": {},
     "execution_count": 9
    }
   ],
   "metadata": {}
  },
  {
   "cell_type": "markdown",
   "source": [
    "LinearRegression 클래스는 scipy.linalg.lstsq() 함수(\"least squares\"의 약자)를 사용하므로 이 함수를 직접 사용할 수 있습니다:"
   ],
   "metadata": {}
  },
  {
   "cell_type": "code",
   "execution_count": 10,
   "source": [
    "# 싸이파이 lstsq() 함수를 사용하려면 scipy.linalg.lstsq(X_b, y)와 같이 씁니다.\r\n",
    "theta_best_svd, residuals, rank, s = np.linalg.lstsq(X_b, y, rcond=1e-6)\r\n",
    "theta_best_svd\r\n",
    "\r\n",
    "# 앞에서 한 정규방정식 대체 ?~?"
   ],
   "outputs": [
    {
     "output_type": "execute_result",
     "data": {
      "text/plain": [
       "array([[4.21509616],\n",
       "       [2.77011339]])"
      ]
     },
     "metadata": {},
     "execution_count": 10
    }
   ],
   "metadata": {}
  },
  {
   "cell_type": "markdown",
   "source": [
    "이 함수는 $\\mathbf{X}^+\\mathbf{y}$을 계산합니다. $\\mathbf{X}^{+}$는 $\\mathbf{X}$의 유사역행렬 (pseudoinverse)입니다(Moore–Penrose 유사역행렬입니다). np.linalg.pinv()을 사용해서 유사역행렬을 직접 계산할 수 있습니다:"
   ],
   "metadata": {}
  },
  {
   "cell_type": "code",
   "execution_count": 11,
   "source": [
    "np.linalg.pinv(X_b).dot(y)"
   ],
   "outputs": [
    {
     "output_type": "execute_result",
     "data": {
      "text/plain": [
       "array([[4.21509616],\n",
       "       [2.77011339]])"
      ]
     },
     "metadata": {},
     "execution_count": 11
    }
   ],
   "metadata": {}
  },
  {
   "cell_type": "markdown",
   "source": [
    "## 배치 경사 하강법을 사용한 선형 회귀"
   ],
   "metadata": {}
  },
  {
   "cell_type": "code",
   "execution_count": 12,
   "source": [
    "eta = 0.1  # 학습률\r\n",
    "n_iterations = 1000\r\n",
    "m = 100\r\n",
    "\r\n",
    "theta = np.random.randn(2, 1)  # 초기값은 랜덤으로 초기화\r\n",
    "\r\n",
    "for iteration in range(n_iterations):\r\n",
    "    gradients = 2/m * X_b.T.dot(X_b.dot(theta) - y)\r\n",
    "    theta = theta - eta * gradients"
   ],
   "outputs": [],
   "metadata": {}
  },
  {
   "cell_type": "code",
   "execution_count": 13,
   "source": [
    "theta"
   ],
   "outputs": [
    {
     "output_type": "execute_result",
     "data": {
      "text/plain": [
       "array([[4.21509616],\n",
       "       [2.77011339]])"
      ]
     },
     "metadata": {},
     "execution_count": 13
    }
   ],
   "metadata": {}
  },
  {
   "cell_type": "code",
   "execution_count": 14,
   "source": [
    "X_new_b.dot(theta)"
   ],
   "outputs": [
    {
     "output_type": "execute_result",
     "data": {
      "text/plain": [
       "array([[4.21509616],\n",
       "       [9.75532293]])"
      ]
     },
     "metadata": {},
     "execution_count": 14
    }
   ],
   "metadata": {}
  },
  {
   "cell_type": "code",
   "execution_count": 15,
   "source": [
    "theta_path_bgd = []\r\n",
    "\r\n",
    "def plot_gradient_descent(theta, eta, theta_path=None):\r\n",
    "    m = len(X_b)\r\n",
    "    plt.plot(X, y, \"b.\")\r\n",
    "    n_iterations = 1000\r\n",
    "    for iteration in range(n_iterations):\r\n",
    "        if iteration < 10:\r\n",
    "            y_predict = X_new_b.dot(theta)\r\n",
    "            style = \"b-\" if iteration > 0 else \"r--\"\r\n",
    "            plt.plot(X_new, y_predict, style)\r\n",
    "        gradients = 2/m * X_b.T.dot(X_b.dot(theta) - y)\r\n",
    "        theta = theta - eta * gradients\r\n",
    "        if theta_path is not None:\r\n",
    "            theta_path.append(theta)\r\n",
    "    plt.xlabel(\"$x_1$\", fontsize=18)\r\n",
    "    plt.axis([0, 2, 0, 15])\r\n",
    "    plt.title(r\"$\\eta = {}$\".format(eta), fontsize=16)"
   ],
   "outputs": [],
   "metadata": {}
  },
  {
   "cell_type": "code",
   "execution_count": 16,
   "source": [
    "np.random.seed(42)\r\n",
    "theta = np.random.randn(2, 1)  # random initialization\r\n",
    "\r\n",
    "plt.figure(figsize = (10, 4))\r\n",
    "plt.subplot(131); plot_gradient_descent(theta, eta = 0.02)\r\n",
    "plt.ylabel(\"$y$\", rotation = 0, fontsize = 18)\r\n",
    "plt.subplot(132); plot_gradient_descent(theta, eta = 0.01, theta_path = theta_path_bgd)\r\n",
    "plt.subplot(133); plot_gradient_descent(theta, eta = 0.5)\r\n",
    "\r\n",
    "plt.show()"
   ],
   "outputs": [
    {
     "output_type": "display_data",
     "data": {
      "image/png": "[encoded data removed]",
      "text/plain": [
       "<Figure size 720x288 with 3 Axes>"
      ]
     },
     "metadata": {
      "needs_background": "light"
     }
    }
   ],
   "metadata": {}
  },
  {
   "cell_type": "markdown",
   "source": [
    "## 확률적 경사 하강법"
   ],
   "metadata": {}
  },
  {
   "cell_type": "code",
   "execution_count": 17,
   "source": [
    "theta_path_sgd = []\r\n",
    "m = len(X_b)\r\n",
    "np.random.seed(42)"
   ],
   "outputs": [],
   "metadata": {}
  },
  {
   "cell_type": "code",
   "execution_count": 18,
   "source": [
    "n_epochs = 50\r\n",
    "t0, t1 = 5, 50  # 학습 스케줄 하이퍼파라미터\r\n",
    "\r\n",
    "def learning_schedule(t):\r\n",
    "    return t0 / (t + t1)\r\n",
    "\r\n",
    "theta = np.random.randn(2, 1)  # 랜덤 초기화\r\n",
    "\r\n",
    "for epoch in range(n_epochs):\r\n",
    "    for i in range(m):\r\n",
    "        if epoch == 0 and i < 20:\r\n",
    "            y_predict = X_new_b.dot(theta)\r\n",
    "            style = \"b-\" if i > 0 else \"r--\"\r\n",
    "            plt.plot(X_new, y_predict, style)\r\n",
    "        random_index = np.random.randint(m)\r\n",
    "        xi = X_b[random_index:random_index+1]\r\n",
    "        yi = y[random_index:random_index+1]\r\n",
    "        gradients = 2 * xi.T.dot(xi.dot(theta) - yi)\r\n",
    "        eta = learning_schedule(epoch * m + i)\r\n",
    "        theta = theta - eta * gradients\r\n",
    "        theta_path_sgd.append(theta)\r\n",
    "\r\n",
    "plt.plot(X, y, \"b.\")\r\n",
    "plt.xlabel(\"$x_1$\", fontsize = 18)\r\n",
    "plt.ylabel(\"$y$\", rotation = 0, fontsize = 18)\r\n",
    "plt.axis([0, 2, 0, 15])\r\n",
    "plt.show()"
   ],
   "outputs": [
    {
     "output_type": "display_data",
     "data": {
      "image/png": "[encoded data removed]",
      "text/plain": [
       "<Figure size 432x288 with 1 Axes>"
      ]
     },
     "metadata": {
      "needs_background": "light"
     }
    }
   ],
   "metadata": {}
  },
  {
   "cell_type": "code",
   "execution_count": 19,
   "source": [
    "theta"
   ],
   "outputs": [
    {
     "output_type": "execute_result",
     "data": {
      "text/plain": [
       "array([[4.21076011],\n",
       "       [2.74856079]])"
      ]
     },
     "metadata": {},
     "execution_count": 19
    }
   ],
   "metadata": {}
  },
  {
   "cell_type": "code",
   "execution_count": 21,
   "source": [
    "from sklearn.linear_model import SGDRegressor\r\n",
    "\r\n",
    "sgd_reg = SGDRegressor(max_iter = 1000, tol = 1e-3, penalty = None, eta0 = 0.1, random_state = 42)\r\n",
    "sgd_reg.fit(X, y.ravel())"
   ],
   "outputs": [
    {
     "output_type": "execute_result",
     "data": {
      "text/plain": [
       "SGDRegressor(eta0=0.1, penalty=None, random_state=42)"
      ]
     },
     "metadata": {},
     "execution_count": 21
    }
   ],
   "metadata": {}
  },
  {
   "cell_type": "code",
   "execution_count": 22,
   "source": [
    "sgd_reg.intercept_, sgd_reg.coef_\r\n",
    "# 결과를 보면 정규방정식으로 구한 것과 매우 비슷하다."
   ],
   "outputs": [
    {
     "output_type": "execute_result",
     "data": {
      "text/plain": [
       "(array([4.24365286]), array([2.8250878]))"
      ]
     },
     "metadata": {},
     "execution_count": 22
    }
   ],
   "metadata": {}
  },
  {
   "cell_type": "markdown",
   "source": [
    "## 미니배치 경사 하강법"
   ],
   "metadata": {}
  },
  {
   "cell_type": "code",
   "execution_count": 23,
   "source": [
    "theta_path_mgd = []\r\n",
    "\r\n",
    "n_iterations = 50\r\n",
    "minibatch_size = 20\r\n",
    "\r\n",
    "np.random.seed(42)\r\n",
    "theta = np.random.randn(2, 1)  # 랜덤 초기화\r\n",
    "\r\n",
    "t0, t1 = 200, 1000\r\n",
    "def learning_schedule(t):\r\n",
    "    return t0 / (t + t1)\r\n",
    "\r\n",
    "t = 0\r\n",
    "for epoch in range(n_iterations):\r\n",
    "    shuffled_indices = np.random.permutation(m)\r\n",
    "    X_b_shuffeled = X_b[shuffled_indices]\r\n",
    "    y_shuffled = y[shuffled_indices]\r\n",
    "    for i in range(0, m, minibatch_size):\r\n",
    "        t += 1\r\n",
    "        xi = X_b_shuffeled[i:i + minibatch_size]\r\n",
    "        yi = y_shuffled[i:i + minibatch_size]\r\n",
    "        gradients = 2 / minibatch_size * xi.T.dot(xi.dot(theta) - yi)\r\n",
    "        eta = learning_schedule(t)\r\n",
    "        theta = theta - eta * gradients\r\n",
    "        theta_path_mgd.append(theta)"
   ],
   "outputs": [],
   "metadata": {}
  },
  {
   "cell_type": "code",
   "execution_count": 24,
   "source": [
    "theta"
   ],
   "outputs": [
    {
     "output_type": "execute_result",
     "data": {
      "text/plain": [
       "array([[4.25214635],\n",
       "       [2.7896408 ]])"
      ]
     },
     "metadata": {},
     "execution_count": 24
    }
   ],
   "metadata": {}
  },
  {
   "cell_type": "code",
   "execution_count": 25,
   "source": [
    "theta_path_bgd = np.array(theta_path_bgd)\r\n",
    "theta_path_sgd = np.array(theta_path_sgd)\r\n",
    "theta_path_mgd = np.array(theta_path_mgd)"
   ],
   "outputs": [],
   "metadata": {}
  },
  {
   "cell_type": "code",
   "execution_count": 26,
   "source": [
    "plt.figure(figsize=(7,4))\r\n",
    "plt.plot(theta_path_sgd[:, 0], theta_path_sgd[:, 1], \"r-s\", linewidth=1, label=\"Stochastic\")\r\n",
    "plt.plot(theta_path_mgd[:, 0], theta_path_mgd[:, 1], \"g-+\", linewidth=2, label=\"Mini-batch\")\r\n",
    "plt.plot(theta_path_bgd[:, 0], theta_path_bgd[:, 1], \"b-o\", linewidth=3, label=\"Batch\")\r\n",
    "plt.legend(loc=\"upper left\", fontsize=16)\r\n",
    "plt.xlabel(r\"$\\theta_0$\", fontsize=20)\r\n",
    "plt.ylabel(r\"$\\theta_1$   \", fontsize=20, rotation=0)\r\n",
    "plt.axis([2.5, 4.5, 2.3, 3.9])\r\n",
    "save_fig(\"gradient_descent_paths_plot\")\r\n",
    "plt.show()"
   ],
   "outputs": [
    {
     "output_type": "stream",
     "name": "stdout",
     "text": [
      "그림 저장: gradient_descent_paths_plot\n"
     ]
    },
    {
     "output_type": "display_data",
     "data": {
      "image/png": "[encoded data removed]",
      "text/plain": [
       "<Figure size 504x288 with 1 Axes>"
      ]
     },
     "metadata": {
      "needs_background": "light"
     }
    }
   ],
   "metadata": {}
  }
 ],
 "metadata": {
  "orig_nbformat": 4,
  "language_info": {
   "name": "python",
   "version": "3.9.6",
   "mimetype": "text/x-python",
   "codemirror_mode": {
    "name": "ipython",
    "version": 3
   },
   "pygments_lexer": "ipython3",
   "nbconvert_exporter": "python",
   "file_extension": ".py"
  },
  "kernelspec": {
   "name": "python3",
   "display_name": "Python 3.9.6 64-bit ('myenv': venv)"
  },
  "interpreter": {
   "hash": "db14ae103f93568e7329035f9dae10eea815d74dab9d87f6bd2f583844f8cdbd"
  }
 },
 "nbformat": 4,
 "nbformat_minor": 2
}