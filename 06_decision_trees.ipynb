{
 "cells": [
  {
   "cell_type": "markdown",
   "source": [
    "## 설정"
   ],
   "metadata": {}
  },
  {
   "cell_type": "code",
   "execution_count": 2,
   "source": [
    "# 파이썬 ≥3.5 필수\r\n",
    "import sys\r\n",
    "assert sys.version_info >= (3, 5)\r\n",
    "\r\n",
    "# 사이킷런 ≥0.20 필수\r\n",
    "import sklearn\r\n",
    "assert sklearn.__version__ >= \"0.20\"\r\n",
    "\r\n",
    "# 공통 모듈 임포트\r\n",
    "import numpy as np\r\n",
    "import os\r\n",
    "\r\n",
    "# 노트북 실행 결과를 동일하게 유지하기 위해\r\n",
    "np.random.seed(42)\r\n",
    "\r\n",
    "# 깔끔한 그래프 출력을 위해\r\n",
    "%matplotlib inline\r\n",
    "import matplotlib as mpl\r\n",
    "import matplotlib.pyplot as plt\r\n",
    "mpl.rc('axes', labelsize=14)\r\n",
    "mpl.rc('xtick', labelsize=12)\r\n",
    "mpl.rc('ytick', labelsize=12)\r\n",
    "\r\n",
    "# 그림을 저장할 위치\r\n",
    "PROJECT_ROOT_DIR = \".\"\r\n",
    "CHAPTER_ID = \"decision_trees\"\r\n",
    "IMAGES_PATH = os.path.join(PROJECT_ROOT_DIR, \"images\", CHAPTER_ID)\r\n",
    "os.makedirs(IMAGES_PATH, exist_ok=True)\r\n",
    "\r\n",
    "def save_fig(fig_id, tight_layout=True, fig_extension=\"png\", resolution=300):\r\n",
    "    path = os.path.join(IMAGES_PATH, fig_id + \".\" + fig_extension)\r\n",
    "    print(\"그림 저장:\", fig_id)\r\n",
    "    if tight_layout:\r\n",
    "        plt.tight_layout()\r\n",
    "    plt.savefig(path, format=fig_extension, dpi=resolution)"
   ],
   "outputs": [],
   "metadata": {}
  },
  {
   "cell_type": "markdown",
   "source": [
    "# 6.1 결정 트리 학습과 시각화"
   ],
   "metadata": {}
  },
  {
   "cell_type": "code",
   "execution_count": 4,
   "source": [
    "# 결정 트리를 이해하기 위해 모델 하나를 만들어서 어떻게 예측을 하는지 살펴본다.\r\n",
    "# 아래는 DecisionTreeClassifier를 훈련시키는 코드\r\n",
    "\r\n",
    "from sklearn.datasets import load_iris\r\n",
    "from sklearn.tree import DecisionTreeClassifier\r\n",
    "\r\n",
    "iris = load_iris()\r\n",
    "X = iris.data[:, 2:]  # 꽃잎 길이와 너비\r\n",
    "y = iris.target\r\n",
    "\r\n",
    "tree_clf = DecisionTreeClassifier(max_depth = 2, random_state = 42)\r\n",
    "tree_clf.fit(X, y)"
   ],
   "outputs": [
    {
     "output_type": "execute_result",
     "data": {
      "text/plain": [
       "DecisionTreeClassifier(max_depth=2, random_state=42)"
      ]
     },
     "metadata": {},
     "execution_count": 4
    }
   ],
   "metadata": {}
  },
  {
   "cell_type": "code",
   "execution_count": null,
   "source": [
    "# 훈련된 결정 트리를 시각화한다.\r\n",
    "\r\n",
    "from graphviz import Source\r\n",
    "from sklearn.tree import export_graphviz\r\n",
    "\r\n",
    "export_graphviz(\r\n",
    "    tree_clf, \r\n",
    "    out_file = os.path.join(IMAGES_PATH, \"iris_tree.dot\"),\r\n",
    "    feature_names = iris.feature_names[2:],\r\n",
    "    class_names = iris.target_names,\r\n",
    "    rounded = True,\r\n",
    "    filled = True\r\n",
    ")\r\n"
   ],
   "outputs": [],
   "metadata": {}
  }
 ],
 "metadata": {
  "orig_nbformat": 4,
  "language_info": {
   "name": "python",
   "version": "3.9.6",
   "mimetype": "text/x-python",
   "codemirror_mode": {
    "name": "ipython",
    "version": 3
   },
   "pygments_lexer": "ipython3",
   "nbconvert_exporter": "python",
   "file_extension": ".py"
  },
  "kernelspec": {
   "name": "python3",
   "display_name": "Python 3.9.6 64-bit ('myenv': venv)"
  },
  "interpreter": {
   "hash": "db14ae103f93568e7329035f9dae10eea815d74dab9d87f6bd2f583844f8cdbd"
  }
 },
 "nbformat": 4,
 "nbformat_minor": 2
}