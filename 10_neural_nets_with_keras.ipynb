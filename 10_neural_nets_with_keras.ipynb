{
  "nbformat": 4,
  "nbformat_minor": 0,
  "metadata": {
    "colab": {
      "name": "10_neural_nets_with_keras.ipynb",
      "provenance": [],
      "authorship_tag": "ABX9TyPiNP3ZAvKg6XjkqZfRPl68",
      "include_colab_link": true
    },
    "kernelspec": {
      "name": "python3",
      "display_name": "Python 3"
    },
    "language_info": {
      "name": "python"
    },
    "accelerator": "GPU"
  },
  "cells": [
    {
      "cell_type": "markdown",
      "metadata": {
        "id": "view-in-github",
        "colab_type": "text"
      },
      "source": [
        "<a href=\"https://colab.research.google.com/github/rpdahxn/HandsOnML/blob/main/10_neural_nets_with_keras.ipynb\" target=\"_parent\"><img src=\"https://colab.research.google.com/assets/colab-badge.svg\" alt=\"Open In Colab\"/></a>"
      ]
    },
    {
      "cell_type": "code",
      "execution_count": 1,
      "metadata": {
        "id": "2JrdjHBO-T7V"
      },
      "outputs": [],
      "source": [
        "# 파이썬 ≥3.5 필수\n",
        "import sys\n",
        "assert sys.version_info >= (3, 5)\n",
        "\n",
        "# 사이킷런 ≥0.20 필수\n",
        "import sklearn\n",
        "assert sklearn.__version__ >= \"0.20\"\n",
        "\n",
        "# 텐서플로 ≥2.0 필수\n",
        "import tensorflow as tf\n",
        "assert tf.__version__ >= \"2.0\"\n",
        "\n",
        "# 공통 모듈 임포트\n",
        "import numpy as np\n",
        "import os\n",
        "\n",
        "# 노트북 실행 결과를 동일하게 유지하기 위해\n",
        "np.random.seed(42)\n",
        "\n",
        "# 깔끔한 그래프 출력을 위해\n",
        "%matplotlib inline\n",
        "import matplotlib as mpl\n",
        "import matplotlib.pyplot as plt\n",
        "mpl.rc('axes', labelsize=14)\n",
        "mpl.rc('xtick', labelsize=12)\n",
        "mpl.rc('ytick', labelsize=12)"
      ]
    },
    {
      "cell_type": "markdown",
      "source": [
        "### 10.3.1 퍼셉트론"
      ],
      "metadata": {
        "id": "uP8Fc24n-u9U"
      }
    },
    {
      "cell_type": "code",
      "source": [
        "# 사이킷런은 하나의 TLU 네트워크를 구현한 Perceptron 클래스를 제공한다.\n",
        "import numpy as np\n",
        "from sklearn.datasets import load_iris\n",
        "from sklearn.linear_model import Perceptron\n",
        "\n",
        "iris = load_iris()\n",
        "X = iris.data[:, (2, 3)]  # 꽃잎의 길이와 너비\n",
        "y = (iris.target == 0).astype(np.int)  # Iris Setosa 인가?\n",
        "\n",
        "per_clf = Perceptron()\n",
        "per_clf.fit(X, y)\n",
        "\n",
        "y_pred = per_clf.predict([[2, 0.5]])"
      ],
      "metadata": {
        "colab": {
          "base_uri": "https://localhost:8080/"
        },
        "id": "YNskHoea-k5p",
        "outputId": "892e952a-e388-4c8e-9997-a55ce635caaa"
      },
      "execution_count": 2,
      "outputs": [
        {
          "output_type": "stream",
          "name": "stderr",
          "text": [
            "/usr/local/lib/python3.7/dist-packages/ipykernel_launcher.py:8: DeprecationWarning: `np.int` is a deprecated alias for the builtin `int`. To silence this warning, use `int` by itself. Doing this will not modify any behavior and is safe. When replacing `np.int`, you may wish to use e.g. `np.int64` or `np.int32` to specify the precision. If you wish to review your current use, check the release note link for additional information.\n",
            "Deprecated in NumPy 1.20; for more details and guidance: https://numpy.org/devdocs/release/1.20.0-notes.html#deprecations\n",
            "  \n"
          ]
        }
      ]
    },
    {
      "cell_type": "code",
      "source": [
        "y_pred"
      ],
      "metadata": {
        "colab": {
          "base_uri": "https://localhost:8080/"
        },
        "id": "8cJJ-jhn_amp",
        "outputId": "f6d2b33d-b0f8-422b-a8af-f5d574d50d26"
      },
      "execution_count": 3,
      "outputs": [
        {
          "output_type": "execute_result",
          "data": {
            "text/plain": [
              "array([0])"
            ]
          },
          "metadata": {},
          "execution_count": 3
        }
      ]
    },
    {
      "cell_type": "code",
      "source": [
        "!pip install -U tensorflow"
      ],
      "metadata": {
        "colab": {
          "base_uri": "https://localhost:8080/"
        },
        "id": "Vmtbxztq_rbF",
        "outputId": "7326d3d0-8a19-4d64-b4c1-2b43e3fcd89a"
      },
      "execution_count": 4,
      "outputs": [
        {
          "output_type": "stream",
          "name": "stdout",
          "text": [
            "Requirement already satisfied: tensorflow in /usr/local/lib/python3.7/dist-packages (2.8.0)\n",
            "Requirement already satisfied: gast>=0.2.1 in /usr/local/lib/python3.7/dist-packages (from tensorflow) (0.5.3)\n",
            "Requirement already satisfied: astunparse>=1.6.0 in /usr/local/lib/python3.7/dist-packages (from tensorflow) (1.6.3)\n",
            "Requirement already satisfied: h5py>=2.9.0 in /usr/local/lib/python3.7/dist-packages (from tensorflow) (3.1.0)\n",
            "Requirement already satisfied: google-pasta>=0.1.1 in /usr/local/lib/python3.7/dist-packages (from tensorflow) (0.2.0)\n",
            "Requirement already satisfied: libclang>=9.0.1 in /usr/local/lib/python3.7/dist-packages (from tensorflow) (13.0.0)\n",
            "Collecting tf-estimator-nightly==2.8.0.dev2021122109\n",
            "  Downloading tf_estimator_nightly-2.8.0.dev2021122109-py2.py3-none-any.whl (462 kB)\n",
            "\u001b[K     |████████████████████████████████| 462 kB 5.6 MB/s \n",
            "\u001b[?25hRequirement already satisfied: protobuf>=3.9.2 in /usr/local/lib/python3.7/dist-packages (from tensorflow) (3.17.3)\n",
            "Requirement already satisfied: typing-extensions>=3.6.6 in /usr/local/lib/python3.7/dist-packages (from tensorflow) (3.10.0.2)\n",
            "Requirement already satisfied: numpy>=1.20 in /usr/local/lib/python3.7/dist-packages (from tensorflow) (1.21.5)\n",
            "Requirement already satisfied: flatbuffers>=1.12 in /usr/local/lib/python3.7/dist-packages (from tensorflow) (2.0)\n",
            "Requirement already satisfied: wrapt>=1.11.0 in /usr/local/lib/python3.7/dist-packages (from tensorflow) (1.13.3)\n",
            "Requirement already satisfied: six>=1.12.0 in /usr/local/lib/python3.7/dist-packages (from tensorflow) (1.15.0)\n",
            "Requirement already satisfied: tensorflow-io-gcs-filesystem>=0.23.1 in /usr/local/lib/python3.7/dist-packages (from tensorflow) (0.24.0)\n",
            "Requirement already satisfied: termcolor>=1.1.0 in /usr/local/lib/python3.7/dist-packages (from tensorflow) (1.1.0)\n",
            "Requirement already satisfied: tensorboard<2.9,>=2.8 in /usr/local/lib/python3.7/dist-packages (from tensorflow) (2.8.0)\n",
            "Requirement already satisfied: keras<2.9,>=2.8.0rc0 in /usr/local/lib/python3.7/dist-packages (from tensorflow) (2.8.0)\n",
            "Requirement already satisfied: setuptools in /usr/local/lib/python3.7/dist-packages (from tensorflow) (57.4.0)\n",
            "Requirement already satisfied: absl-py>=0.4.0 in /usr/local/lib/python3.7/dist-packages (from tensorflow) (1.0.0)\n",
            "Requirement already satisfied: opt-einsum>=2.3.2 in /usr/local/lib/python3.7/dist-packages (from tensorflow) (3.3.0)\n",
            "Requirement already satisfied: grpcio<2.0,>=1.24.3 in /usr/local/lib/python3.7/dist-packages (from tensorflow) (1.44.0)\n",
            "Requirement already satisfied: keras-preprocessing>=1.1.1 in /usr/local/lib/python3.7/dist-packages (from tensorflow) (1.1.2)\n",
            "Requirement already satisfied: wheel<1.0,>=0.23.0 in /usr/local/lib/python3.7/dist-packages (from astunparse>=1.6.0->tensorflow) (0.37.1)\n",
            "Requirement already satisfied: cached-property in /usr/local/lib/python3.7/dist-packages (from h5py>=2.9.0->tensorflow) (1.5.2)\n",
            "Requirement already satisfied: requests<3,>=2.21.0 in /usr/local/lib/python3.7/dist-packages (from tensorboard<2.9,>=2.8->tensorflow) (2.23.0)\n",
            "Requirement already satisfied: tensorboard-data-server<0.7.0,>=0.6.0 in /usr/local/lib/python3.7/dist-packages (from tensorboard<2.9,>=2.8->tensorflow) (0.6.1)\n",
            "Requirement already satisfied: google-auth-oauthlib<0.5,>=0.4.1 in /usr/local/lib/python3.7/dist-packages (from tensorboard<2.9,>=2.8->tensorflow) (0.4.6)\n",
            "Requirement already satisfied: google-auth<3,>=1.6.3 in /usr/local/lib/python3.7/dist-packages (from tensorboard<2.9,>=2.8->tensorflow) (1.35.0)\n",
            "Requirement already satisfied: tensorboard-plugin-wit>=1.6.0 in /usr/local/lib/python3.7/dist-packages (from tensorboard<2.9,>=2.8->tensorflow) (1.8.1)\n",
            "Requirement already satisfied: markdown>=2.6.8 in /usr/local/lib/python3.7/dist-packages (from tensorboard<2.9,>=2.8->tensorflow) (3.3.6)\n",
            "Requirement already satisfied: werkzeug>=0.11.15 in /usr/local/lib/python3.7/dist-packages (from tensorboard<2.9,>=2.8->tensorflow) (1.0.1)\n",
            "Requirement already satisfied: rsa<5,>=3.1.4 in /usr/local/lib/python3.7/dist-packages (from google-auth<3,>=1.6.3->tensorboard<2.9,>=2.8->tensorflow) (4.8)\n",
            "Requirement already satisfied: cachetools<5.0,>=2.0.0 in /usr/local/lib/python3.7/dist-packages (from google-auth<3,>=1.6.3->tensorboard<2.9,>=2.8->tensorflow) (4.2.4)\n",
            "Requirement already satisfied: pyasn1-modules>=0.2.1 in /usr/local/lib/python3.7/dist-packages (from google-auth<3,>=1.6.3->tensorboard<2.9,>=2.8->tensorflow) (0.2.8)\n",
            "Requirement already satisfied: requests-oauthlib>=0.7.0 in /usr/local/lib/python3.7/dist-packages (from google-auth-oauthlib<0.5,>=0.4.1->tensorboard<2.9,>=2.8->tensorflow) (1.3.1)\n",
            "Requirement already satisfied: importlib-metadata>=4.4 in /usr/local/lib/python3.7/dist-packages (from markdown>=2.6.8->tensorboard<2.9,>=2.8->tensorflow) (4.11.2)\n",
            "Requirement already satisfied: zipp>=0.5 in /usr/local/lib/python3.7/dist-packages (from importlib-metadata>=4.4->markdown>=2.6.8->tensorboard<2.9,>=2.8->tensorflow) (3.7.0)\n",
            "Requirement already satisfied: pyasn1<0.5.0,>=0.4.6 in /usr/local/lib/python3.7/dist-packages (from pyasn1-modules>=0.2.1->google-auth<3,>=1.6.3->tensorboard<2.9,>=2.8->tensorflow) (0.4.8)\n",
            "Requirement already satisfied: urllib3!=1.25.0,!=1.25.1,<1.26,>=1.21.1 in /usr/local/lib/python3.7/dist-packages (from requests<3,>=2.21.0->tensorboard<2.9,>=2.8->tensorflow) (1.24.3)\n",
            "Requirement already satisfied: certifi>=2017.4.17 in /usr/local/lib/python3.7/dist-packages (from requests<3,>=2.21.0->tensorboard<2.9,>=2.8->tensorflow) (2021.10.8)\n",
            "Requirement already satisfied: chardet<4,>=3.0.2 in /usr/local/lib/python3.7/dist-packages (from requests<3,>=2.21.0->tensorboard<2.9,>=2.8->tensorflow) (3.0.4)\n",
            "Requirement already satisfied: idna<3,>=2.5 in /usr/local/lib/python3.7/dist-packages (from requests<3,>=2.21.0->tensorboard<2.9,>=2.8->tensorflow) (2.10)\n",
            "Requirement already satisfied: oauthlib>=3.0.0 in /usr/local/lib/python3.7/dist-packages (from requests-oauthlib>=0.7.0->google-auth-oauthlib<0.5,>=0.4.1->tensorboard<2.9,>=2.8->tensorflow) (3.2.0)\n",
            "Installing collected packages: tf-estimator-nightly\n",
            "Successfully installed tf-estimator-nightly-2.8.0.dev2021122109\n"
          ]
        }
      ]
    },
    {
      "cell_type": "code",
      "source": [
        "import tensorflow as tf\n",
        "from tensorflow import keras\n",
        "tf.__version__"
      ],
      "metadata": {
        "colab": {
          "base_uri": "https://localhost:8080/",
          "height": 35
        },
        "id": "hd5W4oeEEonQ",
        "outputId": "9e53f5b4-bb10-4fa3-da32-e699b0862731"
      },
      "execution_count": 5,
      "outputs": [
        {
          "output_type": "execute_result",
          "data": {
            "application/vnd.google.colaboratory.intrinsic+json": {
              "type": "string"
            },
            "text/plain": [
              "'2.8.0'"
            ]
          },
          "metadata": {},
          "execution_count": 5
        }
      ]
    },
    {
      "cell_type": "markdown",
      "source": [
        "### 10.2.2 시퀀셜 API를 사용하여 이미지 분류기 만들기  \n",
        "**케라스를 사용하여 데이터셋 적재하기**"
      ],
      "metadata": {
        "id": "EFUD_grjE00n"
      }
    },
    {
      "cell_type": "code",
      "source": [
        "fashion_mnist = keras.datasets.fashion_mnist\n",
        "(X_train_full, y_train_full), (X_test, y_test) = fashion_mnist.load_data()"
      ],
      "metadata": {
        "colab": {
          "base_uri": "https://localhost:8080/"
        },
        "id": "4GAbfPy6EwGz",
        "outputId": "92ccdfbc-0087-47cc-b7b7-e0b786de960c"
      },
      "execution_count": 6,
      "outputs": [
        {
          "output_type": "stream",
          "name": "stdout",
          "text": [
            "Downloading data from https://storage.googleapis.com/tensorflow/tf-keras-datasets/train-labels-idx1-ubyte.gz\n",
            "32768/29515 [=================================] - 0s 0us/step\n",
            "40960/29515 [=========================================] - 0s 0us/step\n",
            "Downloading data from https://storage.googleapis.com/tensorflow/tf-keras-datasets/train-images-idx3-ubyte.gz\n",
            "26427392/26421880 [==============================] - 0s 0us/step\n",
            "26435584/26421880 [==============================] - 0s 0us/step\n",
            "Downloading data from https://storage.googleapis.com/tensorflow/tf-keras-datasets/t10k-labels-idx1-ubyte.gz\n",
            "16384/5148 [===============================================================================================] - 0s 0us/step\n",
            "Downloading data from https://storage.googleapis.com/tensorflow/tf-keras-datasets/t10k-images-idx3-ubyte.gz\n",
            "4423680/4422102 [==============================] - 0s 0us/step\n",
            "4431872/4422102 [==============================] - 0s 0us/step\n"
          ]
        }
      ]
    },
    {
      "cell_type": "code",
      "source": [
        "X_train_full.shape"
      ],
      "metadata": {
        "colab": {
          "base_uri": "https://localhost:8080/"
        },
        "id": "JWj9pabmFV2d",
        "outputId": "3ecf5df8-26b7-4414-8beb-5442c30debca"
      },
      "execution_count": 7,
      "outputs": [
        {
          "output_type": "execute_result",
          "data": {
            "text/plain": [
              "(60000, 28, 28)"
            ]
          },
          "metadata": {},
          "execution_count": 7
        }
      ]
    },
    {
      "cell_type": "code",
      "source": [
        "X_train_full.dtype"
      ],
      "metadata": {
        "colab": {
          "base_uri": "https://localhost:8080/"
        },
        "id": "__pbXjodFaGF",
        "outputId": "4713603b-0903-4b4f-b78d-0b25d5ae16cb"
      },
      "execution_count": 8,
      "outputs": [
        {
          "output_type": "execute_result",
          "data": {
            "text/plain": [
              "dtype('uint8')"
            ]
          },
          "metadata": {},
          "execution_count": 8
        }
      ]
    },
    {
      "cell_type": "markdown",
      "source": [
        "검증 세트를 만든다.  \n",
        "경사 하강법으로 신경망을 훈련하기 때문에 입력 특성의 스케일을 조정한다."
      ],
      "metadata": {
        "id": "ZWRLMWuaFjfY"
      }
    },
    {
      "cell_type": "code",
      "source": [
        "X_valid, X_train = X_train_full[:5000] / 255.0, X_train_full[5000:] / 255.0  # 픽셀 강도를 255로 나눠서 0~1 범위의 실수로 바꾼다.\n",
        "y_valid, y_train = y_train_full[:5000], y_train_full[5000:]\n",
        "X_test = X_test / 255.0"
      ],
      "metadata": {
        "id": "7Axvk-k0FcdD"
      },
      "execution_count": 9,
      "outputs": []
    },
    {
      "cell_type": "code",
      "source": [
        "plt.imshow(X_train[0], cmap = \"binary\")\n",
        "plt.axis('off')\n",
        "plt.show()"
      ],
      "metadata": {
        "colab": {
          "base_uri": "https://localhost:8080/",
          "height": 248
        },
        "id": "SqITWZV_GEZO",
        "outputId": "1cad3ab7-e10b-43bc-f474-fb73f17966ba"
      },
      "execution_count": 10,
      "outputs": [
        {
          "output_type": "display_data",
          "data": {
            "image/png": "[encoded data removed]",
            "text/plain": [
              "<Figure size 432x288 with 1 Axes>"
            ]
          },
          "metadata": {
            "needs_background": "light"
          }
        }
      ]
    },
    {
      "cell_type": "code",
      "source": [
        "class_names = [\"T-shirt/top\", \"Trouser\", \"Pullover\", \"Dress\", \"Coat\",\n",
        "               \"Sandal\", \"Shirt\", \"Sneaker\", \"Bag\", \"Ankle boot\"]"
      ],
      "metadata": {
        "id": "KiAAkY4nGP8y"
      },
      "execution_count": 11,
      "outputs": []
    },
    {
      "cell_type": "code",
      "source": [
        "class_names[y_train[0]]"
      ],
      "metadata": {
        "colab": {
          "base_uri": "https://localhost:8080/",
          "height": 35
        },
        "id": "sEzODdGhGhyN",
        "outputId": "d3138bd6-bd2c-4c56-9723-70a70e7e1a42"
      },
      "execution_count": 12,
      "outputs": [
        {
          "output_type": "execute_result",
          "data": {
            "application/vnd.google.colaboratory.intrinsic+json": {
              "type": "string"
            },
            "text/plain": [
              "'Coat'"
            ]
          },
          "metadata": {},
          "execution_count": 12
        }
      ]
    },
    {
      "cell_type": "markdown",
      "source": [
        "**시퀀셜 API를 사용하여 모델 만들기**  "
      ],
      "metadata": {
        "id": "4_u2zKCSGo8N"
      }
    },
    {
      "cell_type": "code",
      "source": [
        "# 두 개의 은닉층으로 이루어진 분류용 다층 퍼셉트론\n",
        "# 방법1\n",
        "model = keras.models.Sequential()\n",
        "model.add(keras.layers.Flatten(input_shape = [28, 28]))\n",
        "model.add(keras.layers.Dense(300, activation = \"relu\"))\n",
        "model.add(keras.layers.Dense(100, activation = \"relu\"))\n",
        "model.add(keras.layers.Dense(10, activation = \"softmax\"))"
      ],
      "metadata": {
        "id": "a70IZp9eGlAd"
      },
      "execution_count": 13,
      "outputs": []
    },
    {
      "cell_type": "code",
      "source": [
        "keras.backend.clear_session()\n",
        "np.random.seed(42)\n",
        "tf.random.set_seed(42)"
      ],
      "metadata": {
        "id": "81YZYtI1HGtp"
      },
      "execution_count": 14,
      "outputs": []
    },
    {
      "cell_type": "code",
      "source": [
        "# 방법 2\n",
        "model = keras.models.Sequential([\n",
        "    keras.layers.Flatten(input_shape = [28, 28]),\n",
        "    keras.layers.Dense(300, activation = \"relu\"),\n",
        "    keras.layers.Dense(100, activation = \"relu\"),\n",
        "    keras.layers.Dense(10, activation = \"softmax\")\n",
        "])"
      ],
      "metadata": {
        "id": "x5zwXTLKHhRy"
      },
      "execution_count": 15,
      "outputs": []
    },
    {
      "cell_type": "code",
      "source": [
        "model.summary()"
      ],
      "metadata": {
        "colab": {
          "base_uri": "https://localhost:8080/"
        },
        "id": "god6u7irH8UK",
        "outputId": "1b175637-79fc-4c51-fda7-892aed46caf9"
      },
      "execution_count": 16,
      "outputs": [
        {
          "output_type": "stream",
          "name": "stdout",
          "text": [
            "Model: \"sequential\"\n",
            "_________________________________________________________________\n",
            " Layer (type)                Output Shape              Param #   \n",
            "=================================================================\n",
            " flatten (Flatten)           (None, 784)               0         \n",
            "                                                                 \n",
            " dense (Dense)               (None, 300)               235500    \n",
            "                                                                 \n",
            " dense_1 (Dense)             (None, 100)               30100     \n",
            "                                                                 \n",
            " dense_2 (Dense)             (None, 10)                1010      \n",
            "                                                                 \n",
            "=================================================================\n",
            "Total params: 266,610\n",
            "Trainable params: 266,610\n",
            "Non-trainable params: 0\n",
            "_________________________________________________________________\n"
          ]
        }
      ]
    },
    {
      "cell_type": "code",
      "source": [
        "model.layers"
      ],
      "metadata": {
        "colab": {
          "base_uri": "https://localhost:8080/"
        },
        "id": "D5OeazIYILp7",
        "outputId": "7ba303f0-16d0-4f2b-ccee-7142c7ab6a10"
      },
      "execution_count": 17,
      "outputs": [
        {
          "output_type": "execute_result",
          "data": {
            "text/plain": [
              "[<keras.layers.core.flatten.Flatten at 0x7f10404ee950>,\n",
              " <keras.layers.core.dense.Dense at 0x7f10404ee8d0>,\n",
              " <keras.layers.core.dense.Dense at 0x7f10404e8cd0>,\n",
              " <keras.layers.core.dense.Dense at 0x7f10404e8e50>]"
            ]
          },
          "metadata": {},
          "execution_count": 17
        }
      ]
    },
    {
      "cell_type": "code",
      "source": [
        "hidden1 = model.layers[1]"
      ],
      "metadata": {
        "id": "gvwlHV_9Ibe5"
      },
      "execution_count": 18,
      "outputs": []
    },
    {
      "cell_type": "code",
      "source": [
        "model.get_layer('dense') is hidden1"
      ],
      "metadata": {
        "colab": {
          "base_uri": "https://localhost:8080/"
        },
        "id": "DTnLtotzIkQB",
        "outputId": "fb1ffc4d-302f-48a3-da2b-6858860f28c1"
      },
      "execution_count": 19,
      "outputs": [
        {
          "output_type": "execute_result",
          "data": {
            "text/plain": [
              "True"
            ]
          },
          "metadata": {},
          "execution_count": 19
        }
      ]
    },
    {
      "cell_type": "code",
      "source": [
        "weights, biases = hidden1.get_weights()"
      ],
      "metadata": {
        "id": "WmrvOnISInE6"
      },
      "execution_count": 20,
      "outputs": []
    },
    {
      "cell_type": "code",
      "source": [
        "weights"
      ],
      "metadata": {
        "colab": {
          "base_uri": "https://localhost:8080/"
        },
        "id": "Ck3VQ2DRIu1z",
        "outputId": "ca08bb43-5713-4c60-dd52-9bf699f6352b"
      },
      "execution_count": 21,
      "outputs": [
        {
          "output_type": "execute_result",
          "data": {
            "text/plain": [
              "array([[ 0.02448617, -0.00877795, -0.02189048, ..., -0.02766046,\n",
              "         0.03859074, -0.06889391],\n",
              "       [ 0.00476504, -0.03105379, -0.0586676 , ...,  0.00602964,\n",
              "        -0.02763776, -0.04165364],\n",
              "       [-0.06189284, -0.06901957,  0.07102345, ..., -0.04238207,\n",
              "         0.07121518, -0.07331658],\n",
              "       ...,\n",
              "       [-0.03048757,  0.02155137, -0.05400612, ..., -0.00113463,\n",
              "         0.00228987,  0.05581069],\n",
              "       [ 0.07061854, -0.06960931,  0.07038955, ..., -0.00384101,\n",
              "         0.00034875,  0.02878492],\n",
              "       [-0.06022581,  0.01577859, -0.02585464, ..., -0.00527829,\n",
              "         0.00272203, -0.06793761]], dtype=float32)"
            ]
          },
          "metadata": {},
          "execution_count": 21
        }
      ]
    },
    {
      "cell_type": "code",
      "source": [
        "print(weights.shape)\n",
        "print(biases)\n",
        "print(biases.shape)"
      ],
      "metadata": {
        "colab": {
          "base_uri": "https://localhost:8080/"
        },
        "id": "4yEYp0enIvp1",
        "outputId": "0b1c9138-fc3a-4d53-c1f4-716335e27c4d"
      },
      "execution_count": 22,
      "outputs": [
        {
          "output_type": "stream",
          "name": "stdout",
          "text": [
            "(784, 300)\n",
            "[0. 0. 0. 0. 0. 0. 0. 0. 0. 0. 0. 0. 0. 0. 0. 0. 0. 0. 0. 0. 0. 0. 0. 0.\n",
            " 0. 0. 0. 0. 0. 0. 0. 0. 0. 0. 0. 0. 0. 0. 0. 0. 0. 0. 0. 0. 0. 0. 0. 0.\n",
            " 0. 0. 0. 0. 0. 0. 0. 0. 0. 0. 0. 0. 0. 0. 0. 0. 0. 0. 0. 0. 0. 0. 0. 0.\n",
            " 0. 0. 0. 0. 0. 0. 0. 0. 0. 0. 0. 0. 0. 0. 0. 0. 0. 0. 0. 0. 0. 0. 0. 0.\n",
            " 0. 0. 0. 0. 0. 0. 0. 0. 0. 0. 0. 0. 0. 0. 0. 0. 0. 0. 0. 0. 0. 0. 0. 0.\n",
            " 0. 0. 0. 0. 0. 0. 0. 0. 0. 0. 0. 0. 0. 0. 0. 0. 0. 0. 0. 0. 0. 0. 0. 0.\n",
            " 0. 0. 0. 0. 0. 0. 0. 0. 0. 0. 0. 0. 0. 0. 0. 0. 0. 0. 0. 0. 0. 0. 0. 0.\n",
            " 0. 0. 0. 0. 0. 0. 0. 0. 0. 0. 0. 0. 0. 0. 0. 0. 0. 0. 0. 0. 0. 0. 0. 0.\n",
            " 0. 0. 0. 0. 0. 0. 0. 0. 0. 0. 0. 0. 0. 0. 0. 0. 0. 0. 0. 0. 0. 0. 0. 0.\n",
            " 0. 0. 0. 0. 0. 0. 0. 0. 0. 0. 0. 0. 0. 0. 0. 0. 0. 0. 0. 0. 0. 0. 0. 0.\n",
            " 0. 0. 0. 0. 0. 0. 0. 0. 0. 0. 0. 0. 0. 0. 0. 0. 0. 0. 0. 0. 0. 0. 0. 0.\n",
            " 0. 0. 0. 0. 0. 0. 0. 0. 0. 0. 0. 0. 0. 0. 0. 0. 0. 0. 0. 0. 0. 0. 0. 0.\n",
            " 0. 0. 0. 0. 0. 0. 0. 0. 0. 0. 0. 0.]\n",
            "(300,)\n"
          ]
        }
      ]
    },
    {
      "cell_type": "markdown",
      "source": [
        "**모델 컴파일**"
      ],
      "metadata": {
        "id": "PK-BMnFQmXZe"
      }
    },
    {
      "cell_type": "code",
      "source": [
        "model.compile(loss = \"sparse_categorical_crossentropy\",\n",
        "              optimizer = \"sgd\",\n",
        "              metrics = [\"accuracy\"])"
      ],
      "metadata": {
        "id": "qV-Rj4CbmWYO"
      },
      "execution_count": 23,
      "outputs": []
    },
    {
      "cell_type": "markdown",
      "source": [
        "**모델 훈련과 평가**"
      ],
      "metadata": {
        "id": "4AMEFMhSm9JM"
      }
    },
    {
      "cell_type": "code",
      "source": [
        "history = model.fit(X_train, y_train, epochs = 30,\n",
        "                    validation_data = (X_valid, y_valid))"
      ],
      "metadata": {
        "id": "7d41G-Dwm8b3",
        "outputId": "5dc07946-66a4-4333-9092-c3f8bb64068c",
        "colab": {
          "base_uri": "https://localhost:8080/"
        }
      },
      "execution_count": 24,
      "outputs": [
        {
          "output_type": "stream",
          "name": "stdout",
          "text": [
            "Epoch 1/30\n",
            "1719/1719 [==============================] - 10s 4ms/step - loss: 0.7237 - accuracy: 0.7643 - val_loss: 0.5213 - val_accuracy: 0.8226\n",
            "Epoch 2/30\n",
            "1719/1719 [==============================] - 7s 4ms/step - loss: 0.4842 - accuracy: 0.8317 - val_loss: 0.4351 - val_accuracy: 0.8538\n",
            "Epoch 3/30\n",
            "1719/1719 [==============================] - 6s 4ms/step - loss: 0.4392 - accuracy: 0.8457 - val_loss: 0.5327 - val_accuracy: 0.7992\n",
            "Epoch 4/30\n",
            "1719/1719 [==============================] - 6s 4ms/step - loss: 0.4124 - accuracy: 0.8565 - val_loss: 0.3917 - val_accuracy: 0.8646\n",
            "Epoch 5/30\n",
            "1719/1719 [==============================] - 6s 4ms/step - loss: 0.3940 - accuracy: 0.8624 - val_loss: 0.3743 - val_accuracy: 0.8684\n",
            "Epoch 6/30\n",
            "1719/1719 [==============================] - 6s 4ms/step - loss: 0.3752 - accuracy: 0.8677 - val_loss: 0.3712 - val_accuracy: 0.8726\n",
            "Epoch 7/30\n",
            "1719/1719 [==============================] - 7s 4ms/step - loss: 0.3632 - accuracy: 0.8712 - val_loss: 0.3612 - val_accuracy: 0.8720\n",
            "Epoch 8/30\n",
            "1719/1719 [==============================] - 6s 4ms/step - loss: 0.3515 - accuracy: 0.8750 - val_loss: 0.3852 - val_accuracy: 0.8616\n",
            "Epoch 9/30\n",
            "1719/1719 [==============================] - 6s 4ms/step - loss: 0.3412 - accuracy: 0.8791 - val_loss: 0.3587 - val_accuracy: 0.8694\n",
            "Epoch 10/30\n",
            "1719/1719 [==============================] - 7s 4ms/step - loss: 0.3318 - accuracy: 0.8823 - val_loss: 0.3414 - val_accuracy: 0.8784\n",
            "Epoch 11/30\n",
            "1719/1719 [==============================] - 6s 4ms/step - loss: 0.3239 - accuracy: 0.8835 - val_loss: 0.3442 - val_accuracy: 0.8776\n",
            "Epoch 12/30\n",
            "1719/1719 [==============================] - 7s 4ms/step - loss: 0.3147 - accuracy: 0.8867 - val_loss: 0.3306 - val_accuracy: 0.8818\n",
            "Epoch 13/30\n",
            "1719/1719 [==============================] - 8s 5ms/step - loss: 0.3079 - accuracy: 0.8896 - val_loss: 0.3283 - val_accuracy: 0.8880\n",
            "Epoch 14/30\n",
            "1719/1719 [==============================] - 6s 4ms/step - loss: 0.3020 - accuracy: 0.8913 - val_loss: 0.3427 - val_accuracy: 0.8762\n",
            "Epoch 15/30\n",
            "1719/1719 [==============================] - 7s 4ms/step - loss: 0.2944 - accuracy: 0.8940 - val_loss: 0.3222 - val_accuracy: 0.8840\n",
            "Epoch 16/30\n",
            "1719/1719 [==============================] - 7s 4ms/step - loss: 0.2889 - accuracy: 0.8969 - val_loss: 0.3094 - val_accuracy: 0.8896\n",
            "Epoch 17/30\n",
            "1719/1719 [==============================] - 7s 4ms/step - loss: 0.2838 - accuracy: 0.8976 - val_loss: 0.3554 - val_accuracy: 0.8720\n",
            "Epoch 18/30\n",
            "1719/1719 [==============================] - 7s 4ms/step - loss: 0.2776 - accuracy: 0.9003 - val_loss: 0.3124 - val_accuracy: 0.8926\n",
            "Epoch 19/30\n",
            "1719/1719 [==============================] - 7s 4ms/step - loss: 0.2726 - accuracy: 0.9024 - val_loss: 0.3133 - val_accuracy: 0.8906\n",
            "Epoch 20/30\n",
            "1719/1719 [==============================] - 7s 4ms/step - loss: 0.2672 - accuracy: 0.9036 - val_loss: 0.3295 - val_accuracy: 0.8802\n",
            "Epoch 21/30\n",
            "1719/1719 [==============================] - 7s 4ms/step - loss: 0.2623 - accuracy: 0.9055 - val_loss: 0.3047 - val_accuracy: 0.8920\n",
            "Epoch 22/30\n",
            "1719/1719 [==============================] - 7s 4ms/step - loss: 0.2574 - accuracy: 0.9077 - val_loss: 0.2960 - val_accuracy: 0.8970\n",
            "Epoch 23/30\n",
            "1719/1719 [==============================] - 7s 4ms/step - loss: 0.2534 - accuracy: 0.9086 - val_loss: 0.2972 - val_accuracy: 0.8934\n",
            "Epoch 24/30\n",
            "1719/1719 [==============================] - 7s 4ms/step - loss: 0.2484 - accuracy: 0.9103 - val_loss: 0.3093 - val_accuracy: 0.8882\n",
            "Epoch 25/30\n",
            "1719/1719 [==============================] - 7s 4ms/step - loss: 0.2440 - accuracy: 0.9126 - val_loss: 0.2968 - val_accuracy: 0.8948\n",
            "Epoch 26/30\n",
            "1719/1719 [==============================] - 7s 4ms/step - loss: 0.2403 - accuracy: 0.9140 - val_loss: 0.3069 - val_accuracy: 0.8902\n",
            "Epoch 27/30\n",
            "1719/1719 [==============================] - 7s 4ms/step - loss: 0.2361 - accuracy: 0.9156 - val_loss: 0.3026 - val_accuracy: 0.8956\n",
            "Epoch 28/30\n",
            "1719/1719 [==============================] - 7s 4ms/step - loss: 0.2323 - accuracy: 0.9170 - val_loss: 0.3000 - val_accuracy: 0.8936\n",
            "Epoch 29/30\n",
            "1719/1719 [==============================] - 7s 4ms/step - loss: 0.2281 - accuracy: 0.9187 - val_loss: 0.3046 - val_accuracy: 0.8906\n",
            "Epoch 30/30\n",
            "1719/1719 [==============================] - 7s 4ms/step - loss: 0.2246 - accuracy: 0.9196 - val_loss: 0.3030 - val_accuracy: 0.8916\n"
          ]
        }
      ]
    },
    {
      "cell_type": "code",
      "source": [
        "import pandas as pd\n",
        "\n",
        "pd.DataFrame(history.history).plot(figsize = (8, 5))\n",
        "plt.grid(True)\n",
        "plt.gca().set_ylim(0, 1)\n",
        "plt.show()"
      ],
      "metadata": {
        "id": "qY1y6I5PnHMp",
        "outputId": "78f1f132-8773-4ec6-e090-40c8a263c698",
        "colab": {
          "base_uri": "https://localhost:8080/",
          "height": 328
        }
      },
      "execution_count": 25,
      "outputs": [
        {
          "output_type": "display_data",
          "data": {
            "image/png": "[encoded data removed]",
            "text/plain": [
              "<Figure size 576x360 with 1 Axes>"
            ]
          },
          "metadata": {
            "needs_background": "light"
          }
        }
      ]
    },
    {
      "cell_type": "code",
      "source": [
        "model.evaluate(X_test, y_test)"
      ],
      "metadata": {
        "id": "lh0iFr9kobpM",
        "outputId": "c84464c9-12b7-464b-953c-cfdd66c20b39",
        "colab": {
          "base_uri": "https://localhost:8080/"
        }
      },
      "execution_count": 26,
      "outputs": [
        {
          "output_type": "stream",
          "name": "stdout",
          "text": [
            "313/313 [==============================] - 2s 6ms/step - loss: 0.3369 - accuracy: 0.8826\n"
          ]
        },
        {
          "output_type": "execute_result",
          "data": {
            "text/plain": [
              "[0.3369462788105011, 0.8826000094413757]"
            ]
          },
          "metadata": {},
          "execution_count": 26
        }
      ]
    },
    {
      "cell_type": "markdown",
      "source": [
        "**모델을 사용해 예측을 만들기**"
      ],
      "metadata": {
        "id": "srkjvFqFoguq"
      }
    },
    {
      "cell_type": "code",
      "source": [
        "X_new = X_test[:3]\n",
        "y_proba = model.predict(X_test)\n",
        "y_proba.round(2)"
      ],
      "metadata": {
        "id": "IiYr2tIloekj",
        "outputId": "3e9992ef-b3b9-4024-9e17-5d7659d02f09",
        "colab": {
          "base_uri": "https://localhost:8080/"
        }
      },
      "execution_count": 27,
      "outputs": [
        {
          "output_type": "execute_result",
          "data": {
            "text/plain": [
              "array([[0.  , 0.  , 0.  , ..., 0.02, 0.  , 0.96],\n",
              "       [0.  , 0.  , 0.99, ..., 0.  , 0.  , 0.  ],\n",
              "       [0.  , 1.  , 0.  , ..., 0.  , 0.  , 0.  ],\n",
              "       ...,\n",
              "       [0.01, 0.  , 0.  , ..., 0.  , 0.98, 0.  ],\n",
              "       [0.  , 1.  , 0.  , ..., 0.  , 0.  , 0.  ],\n",
              "       [0.  , 0.  , 0.  , ..., 0.  , 0.  , 0.  ]], dtype=float32)"
            ]
          },
          "metadata": {},
          "execution_count": 27
        }
      ]
    },
    {
      "cell_type": "code",
      "source": [
        "# 가장 높은 확률을 가진 클래스에만 관심이 있다면\n",
        "y_pred = np.argmax(model.predict(X_new), axis = 1)\n",
        "np.array(class_names)[y_pred]"
      ],
      "metadata": {
        "id": "oPT7JLidopRZ",
        "outputId": "087bfcd6-7195-41dc-c2b3-dec04b7ce2eb",
        "colab": {
          "base_uri": "https://localhost:8080/"
        }
      },
      "execution_count": 29,
      "outputs": [
        {
          "output_type": "execute_result",
          "data": {
            "text/plain": [
              "array(['Ankle boot', 'Pullover', 'Trouser'], dtype='<U11')"
            ]
          },
          "metadata": {},
          "execution_count": 29
        }
      ]
    },
    {
      "cell_type": "code",
      "source": [
        "y_new = y_test[:3]\n",
        "y_new"
      ],
      "metadata": {
        "id": "b71LW5rho9c5",
        "outputId": "3b5e0513-9fb9-41c0-a285-5e99ba406a31",
        "colab": {
          "base_uri": "https://localhost:8080/"
        }
      },
      "execution_count": 30,
      "outputs": [
        {
          "output_type": "execute_result",
          "data": {
            "text/plain": [
              "array([9, 2, 1], dtype=uint8)"
            ]
          },
          "metadata": {},
          "execution_count": 30
        }
      ]
    },
    {
      "cell_type": "markdown",
      "source": [
        "### 10.2.3 시퀀셜 API를 사용하여 회귀용 다층 퍼셉트론 만들기"
      ],
      "metadata": {
        "id": "pET0TdWdpPu1"
      }
    },
    {
      "cell_type": "code",
      "source": [
        "from sklearn.datasets import fetch_california_housing\n",
        "from sklearn.model_selection import train_test_split\n",
        "from sklearn.preprocessing import StandardScaler\n",
        "\n",
        "housing = fetch_california_housing()\n",
        "\n",
        "X_train_full, X_test, y_train_full, y_test = train_test_split(housing.data, housing.target)\n",
        "X_train, X_valid, y_train, y_valid = train_test_split(X_train_full, y_train_full)\n",
        "\n",
        "scaler = StandardScaler()\n",
        "X_train = scaler.fit_transform(X_train)\n",
        "X_valid = scaler.fit_transform(X_valid)\n",
        "X_test = scaler.fit_transform(X_test)"
      ],
      "metadata": {
        "id": "C0G4g2QWpL6S"
      },
      "execution_count": 31,
      "outputs": []
    },
    {
      "cell_type": "code",
      "source": [
        "model = keras.models.Sequential([\n",
        "      keras.layers.Dense(30, activation = \"relu\", input_shape = X_train.shape[1:]),\n",
        "      keras.layers.Dense(1)\n",
        "])\n",
        "model.compile(loss = \"mean_squared_error\", optimizer = \"sgd\")\n",
        "history = model.fit(X_train, y_train, epochs = 20,\n",
        "                    validation_data = (X_valid, y_valid))\n",
        "mse_test = model.evaluate(X_test, y_test)\n",
        "X_new = X_test[:3]\n",
        "y_pred = model.predict(X_new)"
      ],
      "metadata": {
        "id": "yPBomi8Rp2D_",
        "outputId": "d2e4f8cf-5ba4-498e-bca1-867e2b039715",
        "colab": {
          "base_uri": "https://localhost:8080/"
        }
      },
      "execution_count": 33,
      "outputs": [
        {
          "output_type": "stream",
          "name": "stdout",
          "text": [
            "Epoch 1/20\n",
            "363/363 [==============================] - 4s 8ms/step - loss: 0.7987 - val_loss: 0.7527\n",
            "Epoch 2/20\n",
            "363/363 [==============================] - 3s 8ms/step - loss: 0.5335 - val_loss: 0.6154\n",
            "Epoch 3/20\n",
            "363/363 [==============================] - 3s 7ms/step - loss: 0.6129 - val_loss: 0.5031\n",
            "Epoch 4/20\n",
            "363/363 [==============================] - 3s 7ms/step - loss: 0.4694 - val_loss: 0.4783\n",
            "Epoch 5/20\n",
            "363/363 [==============================] - 3s 7ms/step - loss: 0.4462 - val_loss: 0.4613\n",
            "Epoch 6/20\n",
            "363/363 [==============================] - 3s 7ms/step - loss: 0.4350 - val_loss: 0.4578\n",
            "Epoch 7/20\n",
            "363/363 [==============================] - 3s 8ms/step - loss: 0.4263 - val_loss: 0.4457\n",
            "Epoch 8/20\n",
            "363/363 [==============================] - 2s 7ms/step - loss: 0.4182 - val_loss: 0.4504\n",
            "Epoch 9/20\n",
            "363/363 [==============================] - 3s 7ms/step - loss: 0.4116 - val_loss: 0.4361\n",
            "Epoch 10/20\n",
            "363/363 [==============================] - 3s 8ms/step - loss: 0.4080 - val_loss: 0.4305\n",
            "Epoch 11/20\n",
            "363/363 [==============================] - 3s 7ms/step - loss: 0.4025 - val_loss: 0.4273\n",
            "Epoch 12/20\n",
            "363/363 [==============================] - 3s 7ms/step - loss: 0.3981 - val_loss: 0.4292\n",
            "Epoch 13/20\n",
            "363/363 [==============================] - 3s 8ms/step - loss: 0.3949 - val_loss: 0.4347\n",
            "Epoch 14/20\n",
            "363/363 [==============================] - 3s 8ms/step - loss: 0.3910 - val_loss: 0.4322\n",
            "Epoch 15/20\n",
            "363/363 [==============================] - 3s 8ms/step - loss: 0.3874 - val_loss: 0.4312\n",
            "Epoch 16/20\n",
            "363/363 [==============================] - 3s 9ms/step - loss: 0.3856 - val_loss: 0.4141\n",
            "Epoch 17/20\n",
            "363/363 [==============================] - 3s 8ms/step - loss: 0.3825 - val_loss: 0.4228\n",
            "Epoch 18/20\n",
            "363/363 [==============================] - 3s 7ms/step - loss: 0.3786 - val_loss: 0.4143\n",
            "Epoch 19/20\n",
            "363/363 [==============================] - 3s 8ms/step - loss: 0.3765 - val_loss: 0.4111\n",
            "Epoch 20/20\n",
            "363/363 [==============================] - 3s 7ms/step - loss: 0.3744 - val_loss: 0.4074\n",
            "162/162 [==============================] - 1s 3ms/step - loss: 1.5050\n"
          ]
        }
      ]
    },
    {
      "cell_type": "markdown",
      "source": [
        "### 10.2.4 함수형 API를 사용해 복잡한 모델 만들기"
      ],
      "metadata": {
        "id": "53SxL_Gnqy8K"
      }
    },
    {
      "cell_type": "code",
      "source": [
        "input_ = keras.layers.Input(shape = X_train.shape[1:])\n",
        "hidden1 = keras.layers.Dense(30, activation = \"relu\")(input_)\n",
        "hidden2 = keras.layers.Dense(30, activation = \"relu\")(hidden1)\n",
        "concat = keras.layers.Concatenate()([input_, hidden2])\n",
        "output = keras.layers.Dense(1)(concat)\n",
        "model = keras.Model(inputs= [input_], outputs = [output])"
      ],
      "metadata": {
        "id": "8-Otk-JRqqJm"
      },
      "execution_count": 35,
      "outputs": []
    },
    {
      "cell_type": "code",
      "source": [
        "input_A = keras.layers.Input(shape = [5], name = \"wide_input\")\n",
        "input_B = keras.layers.Input(shape = [6], name = \"deep_input\")\n",
        "hidden1 = keras.layers.Dense(30, activation = \"relu\")(input_A)\n",
        "hidden2 = keras.layers.Dense(30, activation = \"relu\")(hidden1)\n",
        "concat = keras.layers.concatenate([input_A, hidden2])\n",
        "output = keras.layers.Dense(1, name = \"output\")(concat)\n",
        "model = keras.Model(inputs = [input_A, input_B], outputs = [output])"
      ],
      "metadata": {
        "id": "vTTjOid1ra4O"
      },
      "execution_count": 36,
      "outputs": []
    },
    {
      "cell_type": "code",
      "source": [
        "# 모델 컴파일\n",
        "model.compile(loss = \"mse\", optimizer = keras.optimizers.SGD(lr = 1e-3))\n",
        "\n",
        "X_train_A, X_train_B = X_train[:, :5], X_train[:, 2:]\n",
        "X_valid_A, X_valid_B= X_valid[:, :5], X_valid[:, 2:]\n",
        "X_test_A, X_test_B = X_test[:, :5], X_test[:, 2:]\n",
        "X_new_A, X_new_B = X_test_A[:3], X_test_B[:3]\n",
        "\n",
        "history = model.fit((X_train_A, X_train_B), y_train, epochs = 20,\n",
        "                    validation_data = ((X_valid_A, X_valid_B), y_valid))\n",
        "mse_test = model.evaluate((X_test_A, X_test_B), y_test)\n",
        "y_pred = model.predict((X_new_A, X_new_B))"
      ],
      "metadata": {
        "id": "qNGSr6LJscyv",
        "outputId": "b0fc59de-c219-477a-821a-f0eba98f9252",
        "colab": {
          "base_uri": "https://localhost:8080/"
        }
      },
      "execution_count": 38,
      "outputs": [
        {
          "output_type": "stream",
          "name": "stdout",
          "text": [
            "Epoch 1/20\n"
          ]
        },
        {
          "output_type": "stream",
          "name": "stderr",
          "text": [
            "/usr/local/lib/python3.7/dist-packages/keras/optimizer_v2/gradient_descent.py:102: UserWarning: The `lr` argument is deprecated, use `learning_rate` instead.\n",
            "  super(SGD, self).__init__(name, **kwargs)\n"
          ]
        },
        {
          "output_type": "stream",
          "name": "stdout",
          "text": [
            "363/363 [==============================] - 4s 9ms/step - loss: 1.8534 - val_loss: 0.8032\n",
            "Epoch 2/20\n",
            "363/363 [==============================] - 3s 7ms/step - loss: 0.7540 - val_loss: 0.7481\n",
            "Epoch 3/20\n",
            "363/363 [==============================] - 3s 8ms/step - loss: 0.7156 - val_loss: 0.7237\n",
            "Epoch 4/20\n",
            "363/363 [==============================] - 3s 8ms/step - loss: 0.6918 - val_loss: 0.7029\n",
            "Epoch 5/20\n",
            "363/363 [==============================] - 3s 8ms/step - loss: 0.6723 - val_loss: 0.6862\n",
            "Epoch 6/20\n",
            "363/363 [==============================] - 3s 8ms/step - loss: 0.6563 - val_loss: 0.6720\n",
            "Epoch 7/20\n",
            "363/363 [==============================] - 3s 8ms/step - loss: 0.6438 - val_loss: 0.6632\n",
            "Epoch 8/20\n",
            "363/363 [==============================] - 3s 8ms/step - loss: 0.6326 - val_loss: 0.6521\n",
            "Epoch 9/20\n",
            "363/363 [==============================] - 3s 8ms/step - loss: 0.6230 - val_loss: 0.6444\n",
            "Epoch 10/20\n",
            "363/363 [==============================] - 3s 8ms/step - loss: 0.6147 - val_loss: 0.6387\n",
            "Epoch 11/20\n",
            "363/363 [==============================] - 3s 8ms/step - loss: 0.6070 - val_loss: 0.6316\n",
            "Epoch 12/20\n",
            "363/363 [==============================] - 3s 8ms/step - loss: 0.6005 - val_loss: 0.6274\n",
            "Epoch 13/20\n",
            "363/363 [==============================] - 3s 8ms/step - loss: 0.5945 - val_loss: 0.6246\n",
            "Epoch 14/20\n",
            "363/363 [==============================] - 3s 8ms/step - loss: 0.5892 - val_loss: 0.6175\n",
            "Epoch 15/20\n",
            "363/363 [==============================] - 3s 8ms/step - loss: 0.5840 - val_loss: 0.6141\n",
            "Epoch 16/20\n",
            "363/363 [==============================] - 3s 8ms/step - loss: 0.5799 - val_loss: 0.6117\n",
            "Epoch 17/20\n",
            "363/363 [==============================] - 3s 8ms/step - loss: 0.5757 - val_loss: 0.6089\n",
            "Epoch 18/20\n",
            "363/363 [==============================] - 3s 9ms/step - loss: 0.5722 - val_loss: 0.6079\n",
            "Epoch 19/20\n",
            "363/363 [==============================] - 3s 8ms/step - loss: 0.5691 - val_loss: 0.6024\n",
            "Epoch 20/20\n",
            "363/363 [==============================] - 3s 8ms/step - loss: 0.5661 - val_loss: 0.6011\n",
            "162/162 [==============================] - 1s 5ms/step - loss: 0.5778\n"
          ]
        }
      ]
    },
    {
      "cell_type": "markdown",
      "source": [
        "규제를 위한 보조 출력 추가하기"
      ],
      "metadata": {
        "id": "u3-JvN_sv0Y3"
      }
    },
    {
      "cell_type": "code",
      "source": [
        "input_A = keras.layers.Input(shape = [5], name = \"wide_input\")\n",
        "input_B = keras.layers.Input(shape = [6], name = \"deep_input\")\n",
        "hidden1 = keras.layers.Dense(30, activation = \"relu\")(input_A)\n",
        "hidden2 = keras.layers.Dense(30, activation = \"relu\")(hidden1)\n",
        "concat = keras.layers.concatenate([input_A, hidden2])\n",
        "output = keras.layers.Dense(1, name = \"main_output\")(concat)\n",
        "aux_output = keras.layers.Dense(1, name = \"aux_output\")(hidden2)\n",
        "model = keras.Model(inputs = [input_A, input_B], outputs = [output, aux_output])"
      ],
      "metadata": {
        "id": "M4czwkhzvWUc"
      },
      "execution_count": 39,
      "outputs": []
    },
    {
      "cell_type": "code",
      "source": [
        "model.compile(loss = [\"mse\", \"mse\"], loss_weights = [0.9, 0.1], optimizer = \"sgd\")"
      ],
      "metadata": {
        "id": "lVyNFdfVwG2d"
      },
      "execution_count": 40,
      "outputs": []
    },
    {
      "cell_type": "code",
      "source": [
        "history = model.fit(\n",
        "    [X_train_A, X_train_B], [y_train, y_train], epochs = 20,\n",
        "    validation_data = ([X_valid_A, X_valid_B], [y_valid, y_valid])\n",
        ")"
      ],
      "metadata": {
        "id": "WZ-2ZmjPwVNb",
        "outputId": "422e4e3b-cccc-4210-a49e-543788471166",
        "colab": {
          "base_uri": "https://localhost:8080/"
        }
      },
      "execution_count": 41,
      "outputs": [
        {
          "output_type": "stream",
          "name": "stdout",
          "text": [
            "Epoch 1/20\n",
            "363/363 [==============================] - 6s 12ms/step - loss: 0.9258 - main_output_loss: 0.8379 - aux_output_loss: 1.7172 - val_loss: 0.6407 - val_main_output_loss: 0.6277 - val_aux_output_loss: 0.7578\n",
            "Epoch 2/20\n",
            "363/363 [==============================] - 4s 10ms/step - loss: 0.5902 - main_output_loss: 0.5792 - aux_output_loss: 0.6887 - val_loss: 0.6038 - val_main_output_loss: 0.5973 - val_aux_output_loss: 0.6624\n",
            "Epoch 3/20\n",
            "363/363 [==============================] - 4s 10ms/step - loss: 0.5621 - main_output_loss: 0.5552 - aux_output_loss: 0.6242 - val_loss: 0.5913 - val_main_output_loss: 0.5864 - val_aux_output_loss: 0.6357\n",
            "Epoch 4/20\n",
            "363/363 [==============================] - 4s 11ms/step - loss: 0.5514 - main_output_loss: 0.5459 - aux_output_loss: 0.6000 - val_loss: 0.5825 - val_main_output_loss: 0.5786 - val_aux_output_loss: 0.6183\n",
            "Epoch 5/20\n",
            "363/363 [==============================] - 4s 12ms/step - loss: 0.5436 - main_output_loss: 0.5392 - aux_output_loss: 0.5833 - val_loss: 0.5829 - val_main_output_loss: 0.5800 - val_aux_output_loss: 0.6085\n",
            "Epoch 6/20\n",
            "363/363 [==============================] - 4s 10ms/step - loss: 0.5378 - main_output_loss: 0.5338 - aux_output_loss: 0.5736 - val_loss: 0.5736 - val_main_output_loss: 0.5703 - val_aux_output_loss: 0.6036\n",
            "Epoch 7/20\n",
            "363/363 [==============================] - 4s 11ms/step - loss: 0.5314 - main_output_loss: 0.5277 - aux_output_loss: 0.5647 - val_loss: 0.5672 - val_main_output_loss: 0.5640 - val_aux_output_loss: 0.5961\n",
            "Epoch 8/20\n",
            "363/363 [==============================] - 4s 10ms/step - loss: 0.5269 - main_output_loss: 0.5234 - aux_output_loss: 0.5586 - val_loss: 0.5688 - val_main_output_loss: 0.5662 - val_aux_output_loss: 0.5920\n",
            "Epoch 9/20\n",
            "363/363 [==============================] - 4s 10ms/step - loss: 0.5224 - main_output_loss: 0.5190 - aux_output_loss: 0.5530 - val_loss: 0.5594 - val_main_output_loss: 0.5565 - val_aux_output_loss: 0.5853\n",
            "Epoch 10/20\n",
            "363/363 [==============================] - 3s 10ms/step - loss: 0.5198 - main_output_loss: 0.5166 - aux_output_loss: 0.5489 - val_loss: 0.5507 - val_main_output_loss: 0.5473 - val_aux_output_loss: 0.5808\n",
            "Epoch 11/20\n",
            "363/363 [==============================] - 4s 10ms/step - loss: 0.5156 - main_output_loss: 0.5123 - aux_output_loss: 0.5445 - val_loss: 0.5538 - val_main_output_loss: 0.5509 - val_aux_output_loss: 0.5803\n",
            "Epoch 12/20\n",
            "363/363 [==============================] - 4s 10ms/step - loss: 0.5134 - main_output_loss: 0.5103 - aux_output_loss: 0.5412 - val_loss: 0.5550 - val_main_output_loss: 0.5524 - val_aux_output_loss: 0.5778\n",
            "Epoch 13/20\n",
            "363/363 [==============================] - 3s 9ms/step - loss: 0.5109 - main_output_loss: 0.5079 - aux_output_loss: 0.5380 - val_loss: 0.5533 - val_main_output_loss: 0.5506 - val_aux_output_loss: 0.5779\n",
            "Epoch 14/20\n",
            "363/363 [==============================] - 4s 12ms/step - loss: 0.5093 - main_output_loss: 0.5064 - aux_output_loss: 0.5351 - val_loss: 0.5567 - val_main_output_loss: 0.5550 - val_aux_output_loss: 0.5722\n",
            "Epoch 15/20\n",
            "363/363 [==============================] - 4s 10ms/step - loss: 0.5073 - main_output_loss: 0.5045 - aux_output_loss: 0.5327 - val_loss: 0.5608 - val_main_output_loss: 0.5588 - val_aux_output_loss: 0.5787\n",
            "Epoch 16/20\n",
            "363/363 [==============================] - 4s 10ms/step - loss: 0.5059 - main_output_loss: 0.5032 - aux_output_loss: 0.5304 - val_loss: 0.5423 - val_main_output_loss: 0.5394 - val_aux_output_loss: 0.5683\n",
            "Epoch 17/20\n",
            "363/363 [==============================] - 4s 11ms/step - loss: 0.5051 - main_output_loss: 0.5025 - aux_output_loss: 0.5286 - val_loss: 0.5441 - val_main_output_loss: 0.5413 - val_aux_output_loss: 0.5692\n",
            "Epoch 18/20\n",
            "363/363 [==============================] - 4s 10ms/step - loss: 0.5030 - main_output_loss: 0.5003 - aux_output_loss: 0.5267 - val_loss: 0.5373 - val_main_output_loss: 0.5343 - val_aux_output_loss: 0.5642\n",
            "Epoch 19/20\n",
            "363/363 [==============================] - 4s 12ms/step - loss: 0.5021 - main_output_loss: 0.4996 - aux_output_loss: 0.5246 - val_loss: 0.5363 - val_main_output_loss: 0.5334 - val_aux_output_loss: 0.5626\n",
            "Epoch 20/20\n",
            "363/363 [==============================] - 4s 11ms/step - loss: 0.5004 - main_output_loss: 0.4979 - aux_output_loss: 0.5226 - val_loss: 0.5376 - val_main_output_loss: 0.5351 - val_aux_output_loss: 0.5606\n"
          ]
        }
      ]
    },
    {
      "cell_type": "code",
      "source": [
        "# 모델을 평가하면 개별 손실과 함께 총 손실을 반환한다.\n",
        "total_loss, main_loss, aux_loss = model.evaluate(\n",
        "    [X_test_A, X_test_B], [y_test, y_test]\n",
        ")"
      ],
      "metadata": {
        "id": "i7oB6x5qwv0-",
        "outputId": "dccfb267-54b8-4c7d-dec3-d2eb27edc73b",
        "colab": {
          "base_uri": "https://localhost:8080/"
        }
      },
      "execution_count": 42,
      "outputs": [
        {
          "output_type": "stream",
          "name": "stdout",
          "text": [
            "162/162 [==============================] - 1s 6ms/step - loss: 0.5220 - main_output_loss: 0.5191 - aux_output_loss: 0.5480\n"
          ]
        }
      ]
    },
    {
      "cell_type": "code",
      "source": [
        "y_pred_main, y_pred_aux = model.predict([X_new_A, X_new_B])"
      ],
      "metadata": {
        "id": "ITSjhqsQxCRY"
      },
      "execution_count": 43,
      "outputs": []
    },
    {
      "cell_type": "markdown",
      "source": [
        "### 10.2.5 서브클래싱 API로 동적 모델 만들기"
      ],
      "metadata": {
        "id": "3GNktnFsxNi7"
      }
    },
    {
      "cell_type": "code",
      "source": [
        "class WideAndDeepModel(keras.models.Model):\n",
        "    def __init__(self, units=30, activation=\"relu\", **kwargs):\n",
        "        super().__init__(**kwargs)\n",
        "        self.hidden1 = keras.layers.Dense(units, activation=activation)\n",
        "        self.hidden2 = keras.layers.Dense(units, activation=activation)\n",
        "        self.main_output = keras.layers.Dense(1)\n",
        "        self.aux_output = keras.layers.Dense(1)\n",
        "        \n",
        "    def call(self, inputs):\n",
        "        input_A, input_B = inputs\n",
        "        hidden1 = self.hidden1(input_B)\n",
        "        hidden2 = self.hidden2(hidden1)\n",
        "        concat = keras.layers.concatenate([input_A, hidden2])\n",
        "        main_output = self.main_output(concat)\n",
        "        aux_output = self.aux_output(hidden2)\n",
        "        return main_output, aux_output\n",
        "\n",
        "model = WideAndDeepModel(30, activation=\"relu\")"
      ],
      "metadata": {
        "id": "DsDZz4oNxIBT"
      },
      "execution_count": 47,
      "outputs": []
    },
    {
      "cell_type": "markdown",
      "source": [
        "### 10.2.6 모델 저장과 복원"
      ],
      "metadata": {
        "id": "ExX1WANVzPn-"
      }
    },
    {
      "cell_type": "code",
      "source": [
        "model = keras.models.Sequential([\n",
        "    keras.layers.Dense(30, activation=\"relu\", input_shape=[8]),\n",
        "    keras.layers.Dense(30, activation=\"relu\"),\n",
        "    keras.layers.Dense(1)\n",
        "]) "
      ],
      "metadata": {
        "id": "cTmHFArQxvzi"
      },
      "execution_count": 48,
      "outputs": []
    },
    {
      "cell_type": "code",
      "source": [
        "model.compile(loss=\"mse\", optimizer=keras.optimizers.SGD(learning_rate=1e-3))\n",
        "history = model.fit(X_train, y_train, epochs=10, validation_data=(X_valid, y_valid))\n",
        "mse_test = model.evaluate(X_test, y_test)"
      ],
      "metadata": {
        "id": "eCTDqNMizbz2",
        "outputId": "54b05ca1-7cc4-49f8-a599-dbc6be18826f",
        "colab": {
          "base_uri": "https://localhost:8080/"
        }
      },
      "execution_count": 49,
      "outputs": [
        {
          "output_type": "stream",
          "name": "stdout",
          "text": [
            "Epoch 1/10\n",
            "363/363 [==============================] - 4s 9ms/step - loss: 1.6711 - val_loss: 0.9434\n",
            "Epoch 2/10\n",
            "363/363 [==============================] - 2s 6ms/step - loss: 0.8232 - val_loss: 0.7680\n",
            "Epoch 3/10\n",
            "363/363 [==============================] - 2s 7ms/step - loss: 0.7207 - val_loss: 0.6953\n",
            "Epoch 4/10\n",
            "363/363 [==============================] - 3s 9ms/step - loss: 0.6605 - val_loss: 0.6431\n",
            "Epoch 5/10\n",
            "363/363 [==============================] - 3s 9ms/step - loss: 0.6153 - val_loss: 0.6020\n",
            "Epoch 6/10\n",
            "363/363 [==============================] - 4s 10ms/step - loss: 0.5791 - val_loss: 0.5728\n",
            "Epoch 7/10\n",
            "363/363 [==============================] - 3s 9ms/step - loss: 0.5499 - val_loss: 0.5485\n",
            "Epoch 8/10\n",
            "363/363 [==============================] - 3s 7ms/step - loss: 0.5257 - val_loss: 0.5287\n",
            "Epoch 9/10\n",
            "363/363 [==============================] - 2s 5ms/step - loss: 0.5062 - val_loss: 0.5134\n",
            "Epoch 10/10\n",
            "363/363 [==============================] - 2s 5ms/step - loss: 0.4908 - val_loss: 0.5024\n",
            "162/162 [==============================] - 1s 7ms/step - loss: 0.4419\n"
          ]
        }
      ]
    },
    {
      "cell_type": "code",
      "source": [
        "model.save(\"my_keras_model.h5\")"
      ],
      "metadata": {
        "id": "mWJV7DkfzgXI"
      },
      "execution_count": 50,
      "outputs": []
    },
    {
      "cell_type": "code",
      "source": [
        "model = keras.models.load_model(\"my_keras_model.h5\")"
      ],
      "metadata": {
        "id": "3iMbM3_rzk1C"
      },
      "execution_count": 52,
      "outputs": []
    },
    {
      "cell_type": "code",
      "source": [
        "model.predict(X_new)"
      ],
      "metadata": {
        "id": "ru6CkiaazoRY",
        "outputId": "2120b7cd-69d5-4cfc-8311-e86cf466bfca",
        "colab": {
          "base_uri": "https://localhost:8080/"
        }
      },
      "execution_count": 53,
      "outputs": [
        {
          "output_type": "stream",
          "name": "stdout",
          "text": [
            "WARNING:tensorflow:5 out of the last 318 calls to <function Model.make_predict_function.<locals>.predict_function at 0x7f0fc8303050> triggered tf.function retracing. Tracing is expensive and the excessive number of tracings could be due to (1) creating @tf.function repeatedly in a loop, (2) passing tensors with different shapes, (3) passing Python objects instead of tensors. For (1), please define your @tf.function outside of the loop. For (2), @tf.function has experimental_relax_shapes=True option that relaxes argument shapes that can avoid unnecessary retracing. For (3), please refer to https://www.tensorflow.org/guide/function#controlling_retracing and https://www.tensorflow.org/api_docs/python/tf/function for  more details.\n"
          ]
        },
        {
          "output_type": "execute_result",
          "data": {
            "text/plain": [
              "array([[0.92301965],\n",
              "       [1.5977337 ],\n",
              "       [3.6362894 ]], dtype=float32)"
            ]
          },
          "metadata": {},
          "execution_count": 53
        }
      ]
    },
    {
      "cell_type": "code",
      "source": [
        "model.save_weights(\"my_keras_weights.ckpt\")"
      ],
      "metadata": {
        "id": "S336TOYNzyDO"
      },
      "execution_count": 54,
      "outputs": []
    },
    {
      "cell_type": "code",
      "source": [
        "model.load_weights(\"my_keras_weights.ckpt\")"
      ],
      "metadata": {
        "id": "KrJgCeZVz1TT",
        "outputId": "e7b0c08a-6705-467a-fcef-c448584eb1b1",
        "colab": {
          "base_uri": "https://localhost:8080/"
        }
      },
      "execution_count": 55,
      "outputs": [
        {
          "output_type": "execute_result",
          "data": {
            "text/plain": [
              "<tensorflow.python.training.tracking.util.CheckpointLoadStatus at 0x7f0fc82b6a90>"
            ]
          },
          "metadata": {},
          "execution_count": 55
        }
      ]
    },
    {
      "cell_type": "markdown",
      "source": [
        "### 10.2.7 콜백 사용하기"
      ],
      "metadata": {
        "id": "iwagJSHwz7p6"
      }
    },
    {
      "cell_type": "code",
      "source": [
        "keras.backend.clear_session()"
      ],
      "metadata": {
        "id": "Jmf3wfmWz4NZ"
      },
      "execution_count": 56,
      "outputs": []
    },
    {
      "cell_type": "code",
      "source": [
        "model = keras.models.Sequential([\n",
        "    keras.layers.Dense(30, activation=\"relu\", input_shape=[8]),\n",
        "    keras.layers.Dense(30, activation=\"relu\"),\n",
        "    keras.layers.Dense(1)\n",
        "])    "
      ],
      "metadata": {
        "id": "5dcqvH5K0Iwd"
      },
      "execution_count": 57,
      "outputs": []
    },
    {
      "cell_type": "code",
      "source": [
        "model.compile(loss = \"mse\", optimizer = keras.optimizers.SGD(learning_rate = 1e-3))\n",
        "checkpoint_cb = keras.callbacks.ModelCheckpoint(\"my_keras_model.h5\", save_best_only = \"True\")\n",
        "history = model.fit(X_train, y_train, epochs = 10, callbacks = [checkpoint_cb])"
      ],
      "metadata": {
        "id": "dGVlp4TF0NUh",
        "outputId": "725dd53d-d403-48f0-8b88-5211c16bffb8",
        "colab": {
          "base_uri": "https://localhost:8080/"
        }
      },
      "execution_count": 59,
      "outputs": [
        {
          "output_type": "stream",
          "name": "stdout",
          "text": [
            "Epoch 1/10\n",
            "361/363 [============================>.] - ETA: 0s - loss: 0.4847WARNING:tensorflow:Can save best model only with val_loss available, skipping.\n",
            "363/363 [==============================] - 3s 7ms/step - loss: 0.4845\n",
            "Epoch 2/10\n",
            "359/363 [============================>.] - ETA: 0s - loss: 0.4770WARNING:tensorflow:Can save best model only with val_loss available, skipping.\n",
            "363/363 [==============================] - 2s 7ms/step - loss: 0.4765\n",
            "Epoch 3/10\n",
            "357/363 [============================>.] - ETA: 0s - loss: 0.4707WARNING:tensorflow:Can save best model only with val_loss available, skipping.\n",
            "363/363 [==============================] - 2s 7ms/step - loss: 0.4693\n",
            "Epoch 4/10\n",
            "363/363 [==============================] - ETA: 0s - loss: 0.4629WARNING:tensorflow:Can save best model only with val_loss available, skipping.\n",
            "363/363 [==============================] - 2s 6ms/step - loss: 0.4629\n",
            "Epoch 5/10\n",
            "359/363 [============================>.] - ETA: 0s - loss: 0.4575WARNING:tensorflow:Can save best model only with val_loss available, skipping.\n",
            "363/363 [==============================] - 2s 6ms/step - loss: 0.4575\n",
            "Epoch 6/10\n",
            "358/363 [============================>.] - ETA: 0s - loss: 0.4532WARNING:tensorflow:Can save best model only with val_loss available, skipping.\n",
            "363/363 [==============================] - 2s 6ms/step - loss: 0.4520\n",
            "Epoch 7/10\n",
            "362/363 [============================>.] - ETA: 0s - loss: 0.4475WARNING:tensorflow:Can save best model only with val_loss available, skipping.\n",
            "363/363 [==============================] - 2s 6ms/step - loss: 0.4476\n",
            "Epoch 8/10\n",
            "362/363 [============================>.] - ETA: 0s - loss: 0.4434WARNING:tensorflow:Can save best model only with val_loss available, skipping.\n",
            "363/363 [==============================] - 2s 7ms/step - loss: 0.4432\n",
            "Epoch 9/10\n",
            "358/363 [============================>.] - ETA: 0s - loss: 0.4382WARNING:tensorflow:Can save best model only with val_loss available, skipping.\n",
            "363/363 [==============================] - 3s 7ms/step - loss: 0.4393\n",
            "Epoch 10/10\n",
            "355/363 [============================>.] - ETA: 0s - loss: 0.4338WARNING:tensorflow:Can save best model only with val_loss available, skipping.\n",
            "363/363 [==============================] - 2s 7ms/step - loss: 0.4362\n"
          ]
        }
      ]
    },
    {
      "cell_type": "code",
      "source": [
        "model = keras.models.load_model(\"my_keras_model.h5\")\n",
        "mse_test = model.evaluate(X_test, y_test)"
      ],
      "metadata": {
        "id": "ju2tRqJH0gmv",
        "outputId": "2960de5a-c05f-4f00-a2ac-2aa2a35a32a9",
        "colab": {
          "base_uri": "https://localhost:8080/"
        }
      },
      "execution_count": 60,
      "outputs": [
        {
          "output_type": "stream",
          "name": "stdout",
          "text": [
            "162/162 [==============================] - 1s 5ms/step - loss: 0.4478\n"
          ]
        }
      ]
    },
    {
      "cell_type": "code",
      "source": [
        "model.compile(loss=\"mse\", optimizer=keras.optimizers.SGD(learning_rate=1e-3))\n",
        "early_stopping_cb = keras.callbacks.EarlyStopping(patience=10,\n",
        "                                                  restore_best_weights=True)\n",
        "history = model.fit(X_train, y_train, epochs=100,\n",
        "                    validation_data=(X_valid, y_valid),\n",
        "                    callbacks=[checkpoint_cb, early_stopping_cb])\n",
        "mse_test = model.evaluate(X_test, y_test)"
      ],
      "metadata": {
        "id": "LQPfWaKZ003Y",
        "outputId": "3b123bea-f118-47e1-cca5-b6df25314ba8",
        "colab": {
          "base_uri": "https://localhost:8080/"
        }
      },
      "execution_count": 61,
      "outputs": [
        {
          "output_type": "stream",
          "name": "stdout",
          "text": [
            "Epoch 1/100\n",
            "363/363 [==============================] - 4s 9ms/step - loss: 0.4845 - val_loss: 0.4950\n",
            "Epoch 2/100\n",
            "363/363 [==============================] - 2s 6ms/step - loss: 0.4765 - val_loss: 0.4867\n",
            "Epoch 3/100\n",
            "363/363 [==============================] - 2s 4ms/step - loss: 0.4693 - val_loss: 0.4808\n",
            "Epoch 4/100\n",
            "363/363 [==============================] - 2s 4ms/step - loss: 0.4629 - val_loss: 0.4776\n",
            "Epoch 5/100\n",
            "363/363 [==============================] - 2s 4ms/step - loss: 0.4575 - val_loss: 0.4716\n",
            "Epoch 6/100\n",
            "363/363 [==============================] - 2s 4ms/step - loss: 0.4520 - val_loss: 0.4700\n",
            "Epoch 7/100\n",
            "363/363 [==============================] - 2s 5ms/step - loss: 0.4476 - val_loss: 0.4661\n",
            "Epoch 8/100\n",
            "363/363 [==============================] - 2s 4ms/step - loss: 0.4432 - val_loss: 0.4624\n",
            "Epoch 9/100\n",
            "363/363 [==============================] - 2s 4ms/step - loss: 0.4393 - val_loss: 0.4589\n",
            "Epoch 10/100\n",
            "363/363 [==============================] - 2s 4ms/step - loss: 0.4362 - val_loss: 0.4571\n",
            "Epoch 11/100\n",
            "363/363 [==============================] - 2s 5ms/step - loss: 0.4329 - val_loss: 0.4542\n",
            "Epoch 12/100\n",
            "363/363 [==============================] - 2s 4ms/step - loss: 0.4301 - val_loss: 0.4525\n",
            "Epoch 13/100\n",
            "363/363 [==============================] - 2s 4ms/step - loss: 0.4273 - val_loss: 0.4512\n",
            "Epoch 14/100\n",
            "363/363 [==============================] - 2s 4ms/step - loss: 0.4246 - val_loss: 0.4482\n",
            "Epoch 15/100\n",
            "363/363 [==============================] - 2s 4ms/step - loss: 0.4219 - val_loss: 0.4470\n",
            "Epoch 16/100\n",
            "363/363 [==============================] - 2s 4ms/step - loss: 0.4197 - val_loss: 0.4449\n",
            "Epoch 17/100\n",
            "363/363 [==============================] - 2s 5ms/step - loss: 0.4174 - val_loss: 0.4442\n",
            "Epoch 18/100\n",
            "363/363 [==============================] - 2s 5ms/step - loss: 0.4155 - val_loss: 0.4425\n",
            "Epoch 19/100\n",
            "363/363 [==============================] - 2s 6ms/step - loss: 0.4134 - val_loss: 0.4400\n",
            "Epoch 20/100\n",
            "363/363 [==============================] - 3s 8ms/step - loss: 0.4115 - val_loss: 0.4388\n",
            "Epoch 21/100\n",
            "363/363 [==============================] - 2s 6ms/step - loss: 0.4099 - val_loss: 0.4376\n",
            "Epoch 22/100\n",
            "363/363 [==============================] - 2s 5ms/step - loss: 0.4080 - val_loss: 0.4367\n",
            "Epoch 23/100\n",
            "363/363 [==============================] - 2s 4ms/step - loss: 0.4063 - val_loss: 0.4357\n",
            "Epoch 24/100\n",
            "363/363 [==============================] - 2s 4ms/step - loss: 0.4048 - val_loss: 0.4335\n",
            "Epoch 25/100\n",
            "363/363 [==============================] - 3s 8ms/step - loss: 0.4032 - val_loss: 0.4331\n",
            "Epoch 26/100\n",
            "363/363 [==============================] - 2s 6ms/step - loss: 0.4018 - val_loss: 0.4329\n",
            "Epoch 27/100\n",
            "363/363 [==============================] - 2s 4ms/step - loss: 0.4003 - val_loss: 0.4311\n",
            "Epoch 28/100\n",
            "363/363 [==============================] - 2s 4ms/step - loss: 0.3991 - val_loss: 0.4286\n",
            "Epoch 29/100\n",
            "363/363 [==============================] - 2s 4ms/step - loss: 0.3977 - val_loss: 0.4294\n",
            "Epoch 30/100\n",
            "363/363 [==============================] - 2s 4ms/step - loss: 0.3963 - val_loss: 0.4271\n",
            "Epoch 31/100\n",
            "363/363 [==============================] - 2s 4ms/step - loss: 0.3948 - val_loss: 0.4257\n",
            "Epoch 32/100\n",
            "363/363 [==============================] - 2s 4ms/step - loss: 0.3938 - val_loss: 0.4276\n",
            "Epoch 33/100\n",
            "363/363 [==============================] - 2s 4ms/step - loss: 0.3923 - val_loss: 0.4261\n",
            "Epoch 34/100\n",
            "363/363 [==============================] - 2s 5ms/step - loss: 0.3912 - val_loss: 0.4235\n",
            "Epoch 35/100\n",
            "363/363 [==============================] - 2s 4ms/step - loss: 0.3902 - val_loss: 0.4233\n",
            "Epoch 36/100\n",
            "363/363 [==============================] - 2s 4ms/step - loss: 0.3891 - val_loss: 0.4230\n",
            "Epoch 37/100\n",
            "363/363 [==============================] - 2s 4ms/step - loss: 0.3881 - val_loss: 0.4209\n",
            "Epoch 38/100\n",
            "363/363 [==============================] - 2s 4ms/step - loss: 0.3874 - val_loss: 0.4202\n",
            "Epoch 39/100\n",
            "363/363 [==============================] - 2s 4ms/step - loss: 0.3860 - val_loss: 0.4204\n",
            "Epoch 40/100\n",
            "363/363 [==============================] - 2s 4ms/step - loss: 0.3852 - val_loss: 0.4190\n",
            "Epoch 41/100\n",
            "363/363 [==============================] - 2s 4ms/step - loss: 0.3841 - val_loss: 0.4175\n",
            "Epoch 42/100\n",
            "363/363 [==============================] - 2s 4ms/step - loss: 0.3829 - val_loss: 0.4171\n",
            "Epoch 43/100\n",
            "363/363 [==============================] - 2s 5ms/step - loss: 0.3816 - val_loss: 0.4170\n",
            "Epoch 44/100\n",
            "363/363 [==============================] - 3s 8ms/step - loss: 0.3812 - val_loss: 0.4167\n",
            "Epoch 45/100\n",
            "363/363 [==============================] - 3s 8ms/step - loss: 0.3801 - val_loss: 0.4159\n",
            "Epoch 46/100\n",
            "363/363 [==============================] - 2s 4ms/step - loss: 0.3793 - val_loss: 0.4135\n",
            "Epoch 47/100\n",
            "363/363 [==============================] - 2s 4ms/step - loss: 0.3783 - val_loss: 0.4128\n",
            "Epoch 48/100\n",
            "363/363 [==============================] - 2s 4ms/step - loss: 0.3771 - val_loss: 0.4134\n",
            "Epoch 49/100\n",
            "363/363 [==============================] - 2s 4ms/step - loss: 0.3760 - val_loss: 0.4148\n",
            "Epoch 50/100\n",
            "363/363 [==============================] - 2s 4ms/step - loss: 0.3755 - val_loss: 0.4109\n",
            "Epoch 51/100\n",
            "363/363 [==============================] - 2s 4ms/step - loss: 0.3742 - val_loss: 0.4123\n",
            "Epoch 52/100\n",
            "363/363 [==============================] - 2s 4ms/step - loss: 0.3738 - val_loss: 0.4104\n",
            "Epoch 53/100\n",
            "363/363 [==============================] - 2s 4ms/step - loss: 0.3728 - val_loss: 0.4093\n",
            "Epoch 54/100\n",
            "363/363 [==============================] - 2s 4ms/step - loss: 0.3720 - val_loss: 0.4090\n",
            "Epoch 55/100\n",
            "363/363 [==============================] - 2s 4ms/step - loss: 0.3710 - val_loss: 0.4080\n",
            "Epoch 56/100\n",
            "363/363 [==============================] - 2s 4ms/step - loss: 0.3702 - val_loss: 0.4073\n",
            "Epoch 57/100\n",
            "363/363 [==============================] - 2s 4ms/step - loss: 0.3695 - val_loss: 0.4072\n",
            "Epoch 58/100\n",
            "363/363 [==============================] - 2s 4ms/step - loss: 0.3687 - val_loss: 0.4045\n",
            "Epoch 59/100\n",
            "363/363 [==============================] - 2s 4ms/step - loss: 0.3677 - val_loss: 0.4046\n",
            "Epoch 60/100\n",
            "363/363 [==============================] - 2s 4ms/step - loss: 0.3672 - val_loss: 0.4055\n",
            "Epoch 61/100\n",
            "363/363 [==============================] - 2s 4ms/step - loss: 0.3661 - val_loss: 0.4037\n",
            "Epoch 62/100\n",
            "363/363 [==============================] - 2s 4ms/step - loss: 0.3653 - val_loss: 0.4062\n",
            "Epoch 63/100\n",
            "363/363 [==============================] - 2s 5ms/step - loss: 0.3647 - val_loss: 0.4026\n",
            "Epoch 64/100\n",
            "363/363 [==============================] - 2s 5ms/step - loss: 0.3635 - val_loss: 0.4020\n",
            "Epoch 65/100\n",
            "363/363 [==============================] - 2s 4ms/step - loss: 0.3627 - val_loss: 0.4014\n",
            "Epoch 66/100\n",
            "363/363 [==============================] - 2s 5ms/step - loss: 0.3617 - val_loss: 0.4013\n",
            "Epoch 67/100\n",
            "363/363 [==============================] - 2s 4ms/step - loss: 0.3613 - val_loss: 0.3994\n",
            "Epoch 68/100\n",
            "363/363 [==============================] - 2s 4ms/step - loss: 0.3602 - val_loss: 0.4011\n",
            "Epoch 69/100\n",
            "363/363 [==============================] - 2s 4ms/step - loss: 0.3595 - val_loss: 0.4004\n",
            "Epoch 70/100\n",
            "363/363 [==============================] - 2s 4ms/step - loss: 0.3589 - val_loss: 0.3993\n",
            "Epoch 71/100\n",
            "363/363 [==============================] - 2s 4ms/step - loss: 0.3578 - val_loss: 0.3979\n",
            "Epoch 72/100\n",
            "363/363 [==============================] - 2s 4ms/step - loss: 0.3575 - val_loss: 0.3966\n",
            "Epoch 73/100\n",
            "363/363 [==============================] - 2s 4ms/step - loss: 0.3560 - val_loss: 0.3970\n",
            "Epoch 74/100\n",
            "363/363 [==============================] - 2s 4ms/step - loss: 0.3558 - val_loss: 0.3960\n",
            "Epoch 75/100\n",
            "363/363 [==============================] - 2s 4ms/step - loss: 0.3547 - val_loss: 0.3955\n",
            "Epoch 76/100\n",
            "363/363 [==============================] - 2s 4ms/step - loss: 0.3542 - val_loss: 0.3940\n",
            "Epoch 77/100\n",
            "363/363 [==============================] - 2s 5ms/step - loss: 0.3534 - val_loss: 0.3940\n",
            "Epoch 78/100\n",
            "363/363 [==============================] - 2s 4ms/step - loss: 0.3527 - val_loss: 0.3937\n",
            "Epoch 79/100\n",
            "363/363 [==============================] - 2s 5ms/step - loss: 0.3520 - val_loss: 0.3931\n",
            "Epoch 80/100\n",
            "363/363 [==============================] - 2s 4ms/step - loss: 0.3510 - val_loss: 0.3923\n",
            "Epoch 81/100\n",
            "363/363 [==============================] - 2s 4ms/step - loss: 0.3501 - val_loss: 0.3930\n",
            "Epoch 82/100\n",
            "363/363 [==============================] - 2s 4ms/step - loss: 0.3501 - val_loss: 0.3935\n",
            "Epoch 83/100\n",
            "363/363 [==============================] - 2s 4ms/step - loss: 0.3492 - val_loss: 0.3914\n",
            "Epoch 84/100\n",
            "363/363 [==============================] - 2s 4ms/step - loss: 0.3486 - val_loss: 0.3917\n",
            "Epoch 85/100\n",
            "363/363 [==============================] - 2s 4ms/step - loss: 0.3476 - val_loss: 0.3905\n",
            "Epoch 86/100\n",
            "363/363 [==============================] - 2s 4ms/step - loss: 0.3473 - val_loss: 0.3919\n",
            "Epoch 87/100\n",
            "363/363 [==============================] - 2s 4ms/step - loss: 0.3465 - val_loss: 0.3918\n",
            "Epoch 88/100\n",
            "363/363 [==============================] - 2s 4ms/step - loss: 0.3461 - val_loss: 0.3917\n",
            "Epoch 89/100\n",
            "363/363 [==============================] - 2s 4ms/step - loss: 0.3449 - val_loss: 0.3909\n",
            "Epoch 90/100\n",
            "363/363 [==============================] - 2s 4ms/step - loss: 0.3451 - val_loss: 0.3885\n",
            "Epoch 91/100\n",
            "363/363 [==============================] - 2s 4ms/step - loss: 0.3441 - val_loss: 0.3879\n",
            "Epoch 92/100\n",
            "363/363 [==============================] - 2s 4ms/step - loss: 0.3438 - val_loss: 0.3896\n",
            "Epoch 93/100\n",
            "363/363 [==============================] - 2s 4ms/step - loss: 0.3432 - val_loss: 0.3888\n",
            "Epoch 94/100\n",
            "363/363 [==============================] - 2s 5ms/step - loss: 0.3425 - val_loss: 0.3869\n",
            "Epoch 95/100\n",
            "363/363 [==============================] - 2s 4ms/step - loss: 0.3418 - val_loss: 0.3882\n",
            "Epoch 96/100\n",
            "363/363 [==============================] - 2s 4ms/step - loss: 0.3414 - val_loss: 0.3892\n",
            "Epoch 97/100\n",
            "363/363 [==============================] - 2s 4ms/step - loss: 0.3409 - val_loss: 0.3868\n",
            "Epoch 98/100\n",
            "363/363 [==============================] - 2s 4ms/step - loss: 0.3413 - val_loss: 0.3869\n",
            "Epoch 99/100\n",
            "363/363 [==============================] - 2s 4ms/step - loss: 0.3397 - val_loss: 0.3858\n",
            "Epoch 100/100\n",
            "363/363 [==============================] - 2s 4ms/step - loss: 0.3397 - val_loss: 0.3847\n",
            "162/162 [==============================] - 0s 3ms/step - loss: 1.4331\n"
          ]
        }
      ]
    },
    {
      "cell_type": "code",
      "source": [
        "# 사용자 정의 콜백\n",
        "class PrintValTrainRatioCallback(keras.callbacks.Callback):\n",
        "    def on_epoch_end(self, epoch, logs):\n",
        "        print(\"\\nval/train: {:.2f}\".format(logs[\"val_loss\"] / logs[\"loss\"]))"
      ],
      "metadata": {
        "id": "L3c4GT5J1JsN"
      },
      "execution_count": 62,
      "outputs": []
    },
    {
      "cell_type": "code",
      "source": [
        ""
      ],
      "metadata": {
        "id": "YkST1fvs1cNV"
      },
      "execution_count": null,
      "outputs": []
    }
  ]
}