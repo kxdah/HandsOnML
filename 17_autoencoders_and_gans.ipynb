{
  "nbformat": 4,
  "nbformat_minor": 0,
  "metadata": {
    "colab": {
      "name": "17_autoencoders_and_gans.ipynb",
      "provenance": [],
      "authorship_tag": "ABX9TyMwL2sAW/ABaMJml3P7bUMf",
      "include_colab_link": true
    },
    "kernelspec": {
      "name": "python3",
      "display_name": "Python 3"
    },
    "language_info": {
      "name": "python"
    },
    "accelerator": "GPU"
  },
  "cells": [
    {
      "cell_type": "markdown",
      "metadata": {
        "id": "view-in-github",
        "colab_type": "text"
      },
      "source": [
        "<a href=\"https://colab.research.google.com/github/rpdahxn/HandsOnML/blob/main/17_autoencoders_and_gans.ipynb\" target=\"_parent\"><img src=\"https://colab.research.google.com/assets/colab-badge.svg\" alt=\"Open In Colab\"/></a>"
      ]
    },
    {
      "cell_type": "code",
      "execution_count": 1,
      "metadata": {
        "id": "fcfXfJucjCxw"
      },
      "outputs": [],
      "source": [
        "# 파이썬 ≥3.5 필수\n",
        "import sys\n",
        "assert sys.version_info >= (3, 5)\n",
        "\n",
        "# 사이킷런 ≥0.20 필수\n",
        "import sklearn\n",
        "assert sklearn.__version__ >= \"0.20\"\n",
        "\n",
        "try:\n",
        "    # %tensorflow_version은 코랩에서만 동작합니다.\n",
        "    %tensorflow_version 2.x\n",
        "    IS_COLAB = True\n",
        "except Exception:\n",
        "    IS_COLAB = False\n",
        "\n",
        "# 텐서플로 ≥2.0 필수\n",
        "import tensorflow as tf\n",
        "from tensorflow import keras\n",
        "assert tf.__version__ >= \"2.0\"\n",
        "\n",
        "if not tf.config.list_physical_devices('GPU'):\n",
        "    print(\"감지된 GPU가 없습니다. GPU가 없으면 LSTM과 CNN이 매우 느릴 수 있습니다.\")\n",
        "    if IS_COLAB:\n",
        "        print(\"런타임 > 런타임 유형 변경 메뉴를 선택하고 하드웨어 가속기로 GPU를 고르세요.\")\n",
        "\n",
        "# 공통 모듈 임포트\n",
        "import numpy as np\n",
        "import os\n",
        "\n",
        "# 노트북 실행 결과를 동일하게 유지하기 위해\n",
        "np.random.seed(42)\n",
        "tf.random.set_seed(42)\n",
        "\n",
        "# 깔끔한 그래프 출력을 위해\n",
        "%matplotlib inline\n",
        "import matplotlib as mpl\n",
        "import matplotlib.pyplot as plt\n",
        "mpl.rc('axes', labelsize=14)\n",
        "mpl.rc('xtick', labelsize=12)\n",
        "mpl.rc('ytick', labelsize=12)"
      ]
    },
    {
      "cell_type": "code",
      "source": [
        "def plot_image(image):\n",
        "  plt.imshow(image, cmap = 'binary')\n",
        "  plt.axis('off')"
      ],
      "metadata": {
        "id": "KCnrXPyujPXh"
      },
      "execution_count": 2,
      "outputs": []
    },
    {
      "cell_type": "markdown",
      "source": [
        "## 17.2 과소완전 선형 오토인코더로 PCA 수행하기"
      ],
      "metadata": {
        "id": "p27mAYUujf5d"
      }
    },
    {
      "cell_type": "markdown",
      "source": [
        "3D 데이터셋을 만든다."
      ],
      "metadata": {
        "id": "QC8KuLt5jmaP"
      }
    },
    {
      "cell_type": "code",
      "source": [
        "np.random.seed(4)\n",
        "\n",
        "def generate_3d_data(m, w1=0.1, w2=0.3, noise=0.1):\n",
        "    angles = np.random.rand(m) * 3 * np.pi / 2 - 0.5\n",
        "    data = np.empty((m, 3))\n",
        "    data[:, 0] = np.cos(angles) + np.sin(angles)/2 + noise * np.random.randn(m) / 2\n",
        "    data[:, 1] = np.sin(angles) * 0.7 + noise * np.random.randn(m) / 2\n",
        "    data[:, 2] = data[:, 0] * w1 + data[:, 1] * w2 + noise * np.random.randn(m)\n",
        "    return data\n",
        "\n",
        "X_train = generate_3d_data(60)\n",
        "X_train = X_train - X_train.mean(axis=0, keepdims=0)"
      ],
      "metadata": {
        "id": "oYuK03CojdBI"
      },
      "execution_count": 3,
      "outputs": []
    },
    {
      "cell_type": "markdown",
      "source": [
        "오토인코더를 만든다."
      ],
      "metadata": {
        "id": "skpci8Dtj2gk"
      }
    },
    {
      "cell_type": "code",
      "source": [
        "np.random.seed(42)\n",
        "tf.random.set_seed(42)\n",
        "\n",
        "encoder = keras.models.Sequential(keras.layers.Dense(2, input_shape = [3]))\n",
        "decoder = keras.models.Sequential(keras.layers.Dense(3, input_shape = [2]))\n",
        "\n",
        "autoencoder = keras.models.Sequential([encoder, decoder])\n",
        "autoencoder.compile(loss = 'mse', optimizer = keras.optimizers.SGD(learning_rate = 1.5))"
      ],
      "metadata": {
        "id": "Eu1_NjZCj1GN"
      },
      "execution_count": 4,
      "outputs": []
    },
    {
      "cell_type": "code",
      "source": [
        "history = autoencoder.fit(X_train, X_train, epochs = 20)"
      ],
      "metadata": {
        "colab": {
          "base_uri": "https://localhost:8080/"
        },
        "id": "cUxmXuwtkYBN",
        "outputId": "9634d6bd-10a5-496e-bbc8-fcb2572ede60"
      },
      "execution_count": 6,
      "outputs": [
        {
          "output_type": "stream",
          "name": "stdout",
          "text": [
            "Epoch 1/20\n",
            "2/2 [==============================] - 0s 10ms/step - loss: 0.1576\n",
            "Epoch 2/20\n",
            "2/2 [==============================] - 0s 10ms/step - loss: 0.0698\n",
            "Epoch 3/20\n",
            "2/2 [==============================] - 0s 6ms/step - loss: 0.0808\n",
            "Epoch 4/20\n",
            "2/2 [==============================] - 0s 9ms/step - loss: 0.1614\n",
            "Epoch 5/20\n",
            "2/2 [==============================] - 0s 8ms/step - loss: 0.1213\n",
            "Epoch 6/20\n",
            "2/2 [==============================] - 0s 8ms/step - loss: 0.0409\n",
            "Epoch 7/20\n",
            "2/2 [==============================] - 0s 11ms/step - loss: 0.0279\n",
            "Epoch 8/20\n",
            "2/2 [==============================] - 0s 6ms/step - loss: 0.0206\n",
            "Epoch 9/20\n",
            "2/2 [==============================] - 0s 9ms/step - loss: 0.0137\n",
            "Epoch 10/20\n",
            "2/2 [==============================] - 0s 10ms/step - loss: 0.0103\n",
            "Epoch 11/20\n",
            "2/2 [==============================] - 0s 10ms/step - loss: 0.0087\n",
            "Epoch 12/20\n",
            "2/2 [==============================] - 0s 6ms/step - loss: 0.0072\n",
            "Epoch 13/20\n",
            "2/2 [==============================] - 0s 7ms/step - loss: 0.0058\n",
            "Epoch 14/20\n",
            "2/2 [==============================] - 0s 7ms/step - loss: 0.0056\n",
            "Epoch 15/20\n",
            "2/2 [==============================] - 0s 7ms/step - loss: 0.0057\n",
            "Epoch 16/20\n",
            "2/2 [==============================] - 0s 11ms/step - loss: 0.0054\n",
            "Epoch 17/20\n",
            "2/2 [==============================] - 0s 13ms/step - loss: 0.0051\n",
            "Epoch 18/20\n",
            "2/2 [==============================] - 0s 6ms/step - loss: 0.0050\n",
            "Epoch 19/20\n",
            "2/2 [==============================] - 0s 12ms/step - loss: 0.0050\n",
            "Epoch 20/20\n",
            "2/2 [==============================] - 0s 19ms/step - loss: 0.0049\n"
          ]
        }
      ]
    },
    {
      "cell_type": "code",
      "source": [
        "codings = autoencoder.predict(X_train)"
      ],
      "metadata": {
        "id": "-zlY3PMQkdN7"
      },
      "execution_count": 7,
      "outputs": []
    },
    {
      "cell_type": "markdown",
      "source": [
        "오토인코더는 데이터에 있는 분산이 가능한 많이 보존되도록 데이터를 투영할 최상의 2D 평면을 찾는다."
      ],
      "metadata": {
        "id": "vxGOZk0Jk2ag"
      }
    },
    {
      "cell_type": "code",
      "source": [
        "fig = plt.figure(figsize = (4, 3))\n",
        "plt.plot(codings[:, 0], codings[:, 1], \"b.\")\n",
        "plt.xlabel(\"$z_1$\", fontsize = 18)\n",
        "plt.ylabel(\"$z_2$\", fontsize = 18, rotation = 0)\n",
        "plt.grid(True)\n",
        "plt.show()"
      ],
      "metadata": {
        "colab": {
          "base_uri": "https://localhost:8080/",
          "height": 236
        },
        "id": "izVkxVe9kjTj",
        "outputId": "992d80a8-2228-45d0-c95d-3f5cf4adda6d"
      },
      "execution_count": 8,
      "outputs": [
        {
          "output_type": "display_data",
          "data": {
            "text/plain": [
              "<Figure size 288x216 with 1 Axes>"
            ],
            "image/png": "[encoded data removed]"
          },
          "metadata": {
            "needs_background": "light"
          }
        }
      ]
    },
    {
      "cell_type": "markdown",
      "source": [
        "## 17.3 적층 오토인코더"
      ],
      "metadata": {
        "id": "IP4f5A4alqmu"
      }
    },
    {
      "cell_type": "code",
      "source": [
        ""
      ],
      "metadata": {
        "id": "67Hgl26Ek0V-"
      },
      "execution_count": null,
      "outputs": []
    }
  ]
}